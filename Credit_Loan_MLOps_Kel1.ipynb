{
  "cells": [
    {
      "cell_type": "markdown",
      "metadata": {
        "id": "3zSly7up0up6"
      },
      "source": [
        "## 1. Impor Pustaka\n"
      ]
    },
    {
      "cell_type": "code",
      "execution_count": 1,
      "metadata": {
        "execution": {
          "iopub.execute_input": "2023-08-23T18:45:15.357584Z",
          "iopub.status.busy": "2023-08-23T18:45:15.356563Z",
          "iopub.status.idle": "2023-08-23T18:45:18.723504Z",
          "shell.execute_reply": "2023-08-23T18:45:18.722126Z",
          "shell.execute_reply.started": "2023-08-23T18:45:15.357538Z"
        },
        "id": "UKN-5Tii0up8",
        "trusted": true
      },
      "outputs": [],
      "source": [
        "# data\n",
        "import pandas as pd\n",
        "import numpy as np\n",
        "\n",
        "# visualisasi\n",
        "import matplotlib.pyplot as plt\n",
        "import seaborn as sns\n",
        "\n",
        "# pemprosesan & pemodelan data\n",
        "import sklearn\n",
        "import skops.io as sio\n",
        "from skops.io import dump, load, get_untrusted_types\n",
        "import imblearn\n",
        "from imblearn.under_sampling import RandomUnderSampler\n",
        "from sklearn.preprocessing import minmax_scale, StandardScaler, LabelEncoder\n",
        "from sklearn.metrics import accuracy_score, f1_score, classification_report, ConfusionMatrixDisplay, confusion_matrix\n",
        "from sklearn.ensemble import ExtraTreesClassifier\n",
        "from sklearn.pipeline import Pipeline\n",
        "from sklearn.model_selection import train_test_split\n",
        "\n",
        "# monitoring model\n",
        "import mlflow\n",
        "import mlflow.sklearn"
      ]
    },
    {
      "cell_type": "markdown",
      "metadata": {
        "id": "4-aHtDLW0up9"
      },
      "source": [
        "## 2. Baca Kumpulan Data"
      ]
    },
    {
      "cell_type": "code",
      "execution_count": 2,
      "metadata": {
        "colab": {
          "base_uri": "https://localhost:8080/",
          "height": 226
        },
        "collapsed": true,
        "execution": {
          "iopub.execute_input": "2023-08-23T18:45:18.726586Z",
          "iopub.status.busy": "2023-08-23T18:45:18.726215Z",
          "iopub.status.idle": "2023-08-23T18:45:19.039432Z",
          "shell.execute_reply": "2023-08-23T18:45:19.038212Z",
          "shell.execute_reply.started": "2023-08-23T18:45:18.726556Z"
        },
        "id": "sJheS3yS0up-",
        "outputId": "98a62e80-86d6-436e-aa2e-821bc16e2163",
        "trusted": true
      },
      "outputs": [
        {
          "data": {
            "text/html": [
              "<div>\n",
              "<style scoped>\n",
              "    .dataframe tbody tr th:only-of-type {\n",
              "        vertical-align: middle;\n",
              "    }\n",
              "\n",
              "    .dataframe tbody tr th {\n",
              "        vertical-align: top;\n",
              "    }\n",
              "\n",
              "    .dataframe thead th {\n",
              "        text-align: right;\n",
              "    }\n",
              "</style>\n",
              "<table border=\"1\" class=\"dataframe\">\n",
              "  <thead>\n",
              "    <tr style=\"text-align: right;\">\n",
              "      <th></th>\n",
              "      <th>person_age</th>\n",
              "      <th>person_income</th>\n",
              "      <th>person_home_ownership</th>\n",
              "      <th>person_emp_length</th>\n",
              "      <th>loan_intent</th>\n",
              "      <th>loan_grade</th>\n",
              "      <th>loan_amnt</th>\n",
              "      <th>loan_int_rate</th>\n",
              "      <th>loan_status</th>\n",
              "      <th>loan_percent_income</th>\n",
              "      <th>cb_person_default_on_file</th>\n",
              "      <th>cb_person_cred_hist_length</th>\n",
              "    </tr>\n",
              "  </thead>\n",
              "  <tbody>\n",
              "    <tr>\n",
              "      <th>0</th>\n",
              "      <td>35</td>\n",
              "      <td>70452</td>\n",
              "      <td>MORTGAGE</td>\n",
              "      <td>1.0</td>\n",
              "      <td>EDUCATION</td>\n",
              "      <td>C</td>\n",
              "      <td>8420</td>\n",
              "      <td>11.20</td>\n",
              "      <td>0</td>\n",
              "      <td>0.09</td>\n",
              "      <td>N</td>\n",
              "      <td>9</td>\n",
              "    </tr>\n",
              "    <tr>\n",
              "      <th>1</th>\n",
              "      <td>23</td>\n",
              "      <td>73884</td>\n",
              "      <td>MORTGAGE</td>\n",
              "      <td>9.0</td>\n",
              "      <td>EDUCATION</td>\n",
              "      <td>C</td>\n",
              "      <td>8977</td>\n",
              "      <td>8.47</td>\n",
              "      <td>0</td>\n",
              "      <td>0.12</td>\n",
              "      <td>N</td>\n",
              "      <td>6</td>\n",
              "    </tr>\n",
              "    <tr>\n",
              "      <th>2</th>\n",
              "      <td>31</td>\n",
              "      <td>153332</td>\n",
              "      <td>MORTGAGE</td>\n",
              "      <td>32.0</td>\n",
              "      <td>EDUCATION</td>\n",
              "      <td>A</td>\n",
              "      <td>8779</td>\n",
              "      <td>6.14</td>\n",
              "      <td>0</td>\n",
              "      <td>0.04</td>\n",
              "      <td>N</td>\n",
              "      <td>4</td>\n",
              "    </tr>\n",
              "    <tr>\n",
              "      <th>3</th>\n",
              "      <td>28</td>\n",
              "      <td>15699</td>\n",
              "      <td>MORTGAGE</td>\n",
              "      <td>7.0</td>\n",
              "      <td>EDUCATION</td>\n",
              "      <td>B</td>\n",
              "      <td>2262</td>\n",
              "      <td>NaN</td>\n",
              "      <td>1</td>\n",
              "      <td>0.15</td>\n",
              "      <td>N</td>\n",
              "      <td>4</td>\n",
              "    </tr>\n",
              "    <tr>\n",
              "      <th>4</th>\n",
              "      <td>24</td>\n",
              "      <td>28689</td>\n",
              "      <td>MORTGAGE</td>\n",
              "      <td>2.0</td>\n",
              "      <td>EDUCATION</td>\n",
              "      <td>C</td>\n",
              "      <td>7569</td>\n",
              "      <td>10.05</td>\n",
              "      <td>0</td>\n",
              "      <td>0.20</td>\n",
              "      <td>Y</td>\n",
              "      <td>7</td>\n",
              "    </tr>\n",
              "  </tbody>\n",
              "</table>\n",
              "</div>"
            ],
            "text/plain": [
              "   person_age  person_income person_home_ownership  person_emp_length  \\\n",
              "0          35          70452              MORTGAGE                1.0   \n",
              "1          23          73884              MORTGAGE                9.0   \n",
              "2          31         153332              MORTGAGE               32.0   \n",
              "3          28          15699              MORTGAGE                7.0   \n",
              "4          24          28689              MORTGAGE                2.0   \n",
              "\n",
              "  loan_intent loan_grade  loan_amnt  loan_int_rate  loan_status  \\\n",
              "0   EDUCATION          C       8420          11.20            0   \n",
              "1   EDUCATION          C       8977           8.47            0   \n",
              "2   EDUCATION          A       8779           6.14            0   \n",
              "3   EDUCATION          B       2262            NaN            1   \n",
              "4   EDUCATION          C       7569          10.05            0   \n",
              "\n",
              "   loan_percent_income cb_person_default_on_file  cb_person_cred_hist_length  \n",
              "0                 0.09                         N                           9  \n",
              "1                 0.12                         N                           6  \n",
              "2                 0.04                         N                           4  \n",
              "3                 0.15                         N                           4  \n",
              "4                 0.20                         Y                           7  "
            ]
          },
          "execution_count": 2,
          "metadata": {},
          "output_type": "execute_result"
        }
      ],
      "source": [
        "data = pd.read_csv(f\"Data/credit_risk_dataset.csv\")\n",
        "\n",
        "data.head()"
      ]
    },
    {
      "cell_type": "code",
      "execution_count": 3,
      "metadata": {
        "colab": {
          "base_uri": "https://localhost:8080/",
          "height": 226
        },
        "id": "60LTpZFQbRb4",
        "outputId": "ac5cba02-9d04-445c-faa4-bab53271f55d"
      },
      "outputs": [
        {
          "data": {
            "text/html": [
              "<div>\n",
              "<style scoped>\n",
              "    .dataframe tbody tr th:only-of-type {\n",
              "        vertical-align: middle;\n",
              "    }\n",
              "\n",
              "    .dataframe tbody tr th {\n",
              "        vertical-align: top;\n",
              "    }\n",
              "\n",
              "    .dataframe thead th {\n",
              "        text-align: right;\n",
              "    }\n",
              "</style>\n",
              "<table border=\"1\" class=\"dataframe\">\n",
              "  <thead>\n",
              "    <tr style=\"text-align: right;\">\n",
              "      <th></th>\n",
              "      <th>person_age</th>\n",
              "      <th>person_income</th>\n",
              "      <th>person_home_ownership</th>\n",
              "      <th>person_emp_length</th>\n",
              "      <th>loan_intent</th>\n",
              "      <th>loan_grade</th>\n",
              "      <th>loan_amnt</th>\n",
              "      <th>loan_int_rate</th>\n",
              "      <th>loan_status</th>\n",
              "      <th>loan_percent_income</th>\n",
              "      <th>cb_person_default_on_file</th>\n",
              "      <th>cb_person_cred_hist_length</th>\n",
              "    </tr>\n",
              "  </thead>\n",
              "  <tbody>\n",
              "    <tr>\n",
              "      <th>495</th>\n",
              "      <td>25</td>\n",
              "      <td>64469</td>\n",
              "      <td>MORTGAGE</td>\n",
              "      <td>0.0</td>\n",
              "      <td>PERSONAL</td>\n",
              "      <td>C</td>\n",
              "      <td>18847</td>\n",
              "      <td>10.08</td>\n",
              "      <td>0</td>\n",
              "      <td>0.31</td>\n",
              "      <td>N</td>\n",
              "      <td>4</td>\n",
              "    </tr>\n",
              "    <tr>\n",
              "      <th>496</th>\n",
              "      <td>30</td>\n",
              "      <td>26499</td>\n",
              "      <td>MORTGAGE</td>\n",
              "      <td>0.0</td>\n",
              "      <td>VENTURE</td>\n",
              "      <td>C</td>\n",
              "      <td>10947</td>\n",
              "      <td>7.89</td>\n",
              "      <td>0</td>\n",
              "      <td>0.32</td>\n",
              "      <td>N</td>\n",
              "      <td>7</td>\n",
              "    </tr>\n",
              "    <tr>\n",
              "      <th>497</th>\n",
              "      <td>25</td>\n",
              "      <td>139170</td>\n",
              "      <td>RENT</td>\n",
              "      <td>16.0</td>\n",
              "      <td>EDUCATION</td>\n",
              "      <td>A</td>\n",
              "      <td>19818</td>\n",
              "      <td>11.43</td>\n",
              "      <td>0</td>\n",
              "      <td>0.16</td>\n",
              "      <td>N</td>\n",
              "      <td>5</td>\n",
              "    </tr>\n",
              "    <tr>\n",
              "      <th>498</th>\n",
              "      <td>37</td>\n",
              "      <td>62624</td>\n",
              "      <td>RENT</td>\n",
              "      <td>0.0</td>\n",
              "      <td>HOMEIMPROVEMENT</td>\n",
              "      <td>D</td>\n",
              "      <td>19208</td>\n",
              "      <td>18.31</td>\n",
              "      <td>1</td>\n",
              "      <td>0.31</td>\n",
              "      <td>N</td>\n",
              "      <td>5</td>\n",
              "    </tr>\n",
              "    <tr>\n",
              "      <th>499</th>\n",
              "      <td>30</td>\n",
              "      <td>50213</td>\n",
              "      <td>RENT</td>\n",
              "      <td>26.0</td>\n",
              "      <td>VENTURE</td>\n",
              "      <td>A</td>\n",
              "      <td>5601</td>\n",
              "      <td>7.24</td>\n",
              "      <td>0</td>\n",
              "      <td>0.15</td>\n",
              "      <td>N</td>\n",
              "      <td>11</td>\n",
              "    </tr>\n",
              "  </tbody>\n",
              "</table>\n",
              "</div>"
            ],
            "text/plain": [
              "     person_age  person_income person_home_ownership  person_emp_length  \\\n",
              "495          25          64469              MORTGAGE                0.0   \n",
              "496          30          26499              MORTGAGE                0.0   \n",
              "497          25         139170                  RENT               16.0   \n",
              "498          37          62624                  RENT                0.0   \n",
              "499          30          50213                  RENT               26.0   \n",
              "\n",
              "         loan_intent loan_grade  loan_amnt  loan_int_rate  loan_status  \\\n",
              "495         PERSONAL          C      18847          10.08            0   \n",
              "496          VENTURE          C      10947           7.89            0   \n",
              "497        EDUCATION          A      19818          11.43            0   \n",
              "498  HOMEIMPROVEMENT          D      19208          18.31            1   \n",
              "499          VENTURE          A       5601           7.24            0   \n",
              "\n",
              "     loan_percent_income cb_person_default_on_file  cb_person_cred_hist_length  \n",
              "495                 0.31                         N                           4  \n",
              "496                 0.32                         N                           7  \n",
              "497                 0.16                         N                           5  \n",
              "498                 0.31                         N                           5  \n",
              "499                 0.15                         N                          11  "
            ]
          },
          "execution_count": 3,
          "metadata": {},
          "output_type": "execute_result"
        }
      ],
      "source": [
        "data.tail()"
      ]
    },
    {
      "cell_type": "code",
      "execution_count": 4,
      "metadata": {
        "colab": {
          "base_uri": "https://localhost:8080/"
        },
        "id": "jjzlpOHs7rqY",
        "outputId": "8ac89bd4-3484-4402-e0ac-a0deec380496"
      },
      "outputs": [
        {
          "data": {
            "text/plain": [
              "(500, 12)"
            ]
          },
          "execution_count": 4,
          "metadata": {},
          "output_type": "execute_result"
        }
      ],
      "source": [
        "data.shape"
      ]
    },
    {
      "cell_type": "code",
      "execution_count": 5,
      "metadata": {
        "colab": {
          "base_uri": "https://localhost:8080/"
        },
        "execution": {
          "iopub.execute_input": "2023-08-23T18:45:19.168496Z",
          "iopub.status.busy": "2023-08-23T18:45:19.168028Z",
          "iopub.status.idle": "2023-08-23T18:45:19.233804Z",
          "shell.execute_reply": "2023-08-23T18:45:19.232652Z",
          "shell.execute_reply.started": "2023-08-23T18:45:19.168457Z"
        },
        "id": "q47oRD7J0uqD",
        "outputId": "a64be760-c311-4e62-9e60-70a1d7ffdafb",
        "trusted": true
      },
      "outputs": [
        {
          "name": "stdout",
          "output_type": "stream",
          "text": [
            "<class 'pandas.core.frame.DataFrame'>\n",
            "RangeIndex: 500 entries, 0 to 499\n",
            "Data columns (total 12 columns):\n",
            " #   Column                      Non-Null Count  Dtype  \n",
            "---  ------                      --------------  -----  \n",
            " 0   person_age                  500 non-null    int64  \n",
            " 1   person_income               500 non-null    int64  \n",
            " 2   person_home_ownership       500 non-null    object \n",
            " 3   person_emp_length           489 non-null    float64\n",
            " 4   loan_intent                 500 non-null    object \n",
            " 5   loan_grade                  500 non-null    object \n",
            " 6   loan_amnt                   500 non-null    int64  \n",
            " 7   loan_int_rate               459 non-null    float64\n",
            " 8   loan_status                 500 non-null    int64  \n",
            " 9   loan_percent_income         500 non-null    float64\n",
            " 10  cb_person_default_on_file   500 non-null    object \n",
            " 11  cb_person_cred_hist_length  500 non-null    int64  \n",
            "dtypes: float64(3), int64(5), object(4)\n",
            "memory usage: 47.0+ KB\n"
          ]
        }
      ],
      "source": [
        "data.info()"
      ]
    },
    {
      "cell_type": "markdown",
      "metadata": {
        "id": "Nj4gkgNN0uqA"
      },
      "source": [
        "## 3. Analisis Data Eksplorasi\n"
      ]
    },
    {
      "cell_type": "code",
      "execution_count": 6,
      "metadata": {
        "colab": {
          "base_uri": "https://localhost:8080/",
          "height": 460
        },
        "execution": {
          "iopub.execute_input": "2023-08-23T18:45:19.236366Z",
          "iopub.status.busy": "2023-08-23T18:45:19.235334Z",
          "iopub.status.idle": "2023-08-23T18:45:19.287403Z",
          "shell.execute_reply": "2023-08-23T18:45:19.285881Z",
          "shell.execute_reply.started": "2023-08-23T18:45:19.236329Z"
        },
        "id": "Y3w92gZJ0uqE",
        "outputId": "f45e920b-a594-48fa-9f5c-c565bcab8389",
        "trusted": true
      },
      "outputs": [
        {
          "data": {
            "text/plain": [
              "person_age                     0\n",
              "person_income                  0\n",
              "person_home_ownership          0\n",
              "person_emp_length             11\n",
              "loan_intent                    0\n",
              "loan_grade                     0\n",
              "loan_amnt                      0\n",
              "loan_int_rate                 41\n",
              "loan_status                    0\n",
              "loan_percent_income            0\n",
              "cb_person_default_on_file      0\n",
              "cb_person_cred_hist_length     0\n",
              "dtype: int64"
            ]
          },
          "execution_count": 6,
          "metadata": {},
          "output_type": "execute_result"
        }
      ],
      "source": [
        "data.isnull().sum()"
      ]
    },
    {
      "cell_type": "code",
      "execution_count": 7,
      "metadata": {
        "colab": {
          "base_uri": "https://localhost:8080/",
          "height": 460
        },
        "execution": {
          "iopub.execute_input": "2023-08-23T18:45:19.290997Z",
          "iopub.status.busy": "2023-08-23T18:45:19.290479Z",
          "iopub.status.idle": "2023-08-23T18:45:19.319513Z",
          "shell.execute_reply": "2023-08-23T18:45:19.318504Z",
          "shell.execute_reply.started": "2023-08-23T18:45:19.290957Z"
        },
        "id": "9fmuZp_L0uqE",
        "outputId": "e4ef3087-08d2-4772-f9bb-1f55a398b37e",
        "trusted": true
      },
      "outputs": [
        {
          "data": {
            "text/plain": [
              "person_age                     27\n",
              "person_income                 498\n",
              "person_home_ownership           4\n",
              "person_emp_length              33\n",
              "loan_intent                     6\n",
              "loan_grade                      6\n",
              "loan_amnt                     493\n",
              "loan_int_rate                 382\n",
              "loan_status                     2\n",
              "loan_percent_income            50\n",
              "cb_person_default_on_file       2\n",
              "cb_person_cred_hist_length     16\n",
              "dtype: int64"
            ]
          },
          "execution_count": 7,
          "metadata": {},
          "output_type": "execute_result"
        }
      ],
      "source": [
        "data.nunique()"
      ]
    },
    {
      "cell_type": "code",
      "execution_count": 8,
      "metadata": {
        "colab": {
          "base_uri": "https://localhost:8080/",
          "height": 178
        },
        "execution": {
          "iopub.execute_input": "2023-08-23T18:45:19.32197Z",
          "iopub.status.busy": "2023-08-23T18:45:19.321239Z",
          "iopub.status.idle": "2023-08-23T18:45:19.334369Z",
          "shell.execute_reply": "2023-08-23T18:45:19.333125Z",
          "shell.execute_reply.started": "2023-08-23T18:45:19.321927Z"
        },
        "id": "kxOZUpwe0uqF",
        "outputId": "fb9ad92e-3478-45be-c09e-9f44cb2d839d",
        "trusted": true
      },
      "outputs": [
        {
          "data": {
            "text/plain": [
              "loan_status\n",
              "0    386\n",
              "1    114\n",
              "Name: count, dtype: int64"
            ]
          },
          "execution_count": 8,
          "metadata": {},
          "output_type": "execute_result"
        }
      ],
      "source": [
        "data.loan_status.value_counts()"
      ]
    },
    {
      "cell_type": "code",
      "execution_count": 9,
      "metadata": {
        "colab": {
          "base_uri": "https://localhost:8080/"
        },
        "execution": {
          "iopub.execute_input": "2023-08-23T18:45:19.336602Z",
          "iopub.status.busy": "2023-08-23T18:45:19.336165Z",
          "iopub.status.idle": "2023-08-23T18:45:19.371066Z",
          "shell.execute_reply": "2023-08-23T18:45:19.369958Z",
          "shell.execute_reply.started": "2023-08-23T18:45:19.336562Z"
        },
        "id": "oDr8L-wX0uqF",
        "outputId": "d4377ff8-8680-4867-94b9-dad68fbac429",
        "trusted": true
      },
      "outputs": [
        {
          "data": {
            "text/plain": [
              "np.int64(0)"
            ]
          },
          "execution_count": 9,
          "metadata": {},
          "output_type": "execute_result"
        }
      ],
      "source": [
        "data.duplicated().sum()"
      ]
    },
    {
      "cell_type": "code",
      "execution_count": 10,
      "metadata": {
        "colab": {
          "base_uri": "https://localhost:8080/",
          "height": 320
        },
        "execution": {
          "iopub.execute_input": "2023-08-23T18:45:19.373012Z",
          "iopub.status.busy": "2023-08-23T18:45:19.372677Z",
          "iopub.status.idle": "2023-08-23T18:45:19.406172Z",
          "shell.execute_reply": "2023-08-23T18:45:19.404531Z",
          "shell.execute_reply.started": "2023-08-23T18:45:19.372984Z"
        },
        "id": "rtLbPBvs0uqF",
        "outputId": "296a7186-106c-4809-b24e-025f4133a0ee",
        "trusted": true
      },
      "outputs": [
        {
          "data": {
            "text/html": [
              "<div>\n",
              "<style scoped>\n",
              "    .dataframe tbody tr th:only-of-type {\n",
              "        vertical-align: middle;\n",
              "    }\n",
              "\n",
              "    .dataframe tbody tr th {\n",
              "        vertical-align: top;\n",
              "    }\n",
              "\n",
              "    .dataframe thead th {\n",
              "        text-align: right;\n",
              "    }\n",
              "</style>\n",
              "<table border=\"1\" class=\"dataframe\">\n",
              "  <thead>\n",
              "    <tr style=\"text-align: right;\">\n",
              "      <th></th>\n",
              "      <th>person_age</th>\n",
              "      <th>person_income</th>\n",
              "      <th>person_emp_length</th>\n",
              "      <th>loan_amnt</th>\n",
              "      <th>loan_int_rate</th>\n",
              "      <th>loan_status</th>\n",
              "      <th>loan_percent_income</th>\n",
              "      <th>cb_person_cred_hist_length</th>\n",
              "    </tr>\n",
              "  </thead>\n",
              "  <tbody>\n",
              "    <tr>\n",
              "      <th>person_age</th>\n",
              "      <td>1.000000</td>\n",
              "      <td>0.133432</td>\n",
              "      <td>0.079178</td>\n",
              "      <td>0.068988</td>\n",
              "      <td>0.031961</td>\n",
              "      <td>0.033547</td>\n",
              "      <td>-0.012646</td>\n",
              "      <td>0.622463</td>\n",
              "    </tr>\n",
              "    <tr>\n",
              "      <th>person_income</th>\n",
              "      <td>0.133432</td>\n",
              "      <td>1.000000</td>\n",
              "      <td>0.105083</td>\n",
              "      <td>0.291326</td>\n",
              "      <td>0.039229</td>\n",
              "      <td>-0.164569</td>\n",
              "      <td>-0.409463</td>\n",
              "      <td>0.031506</td>\n",
              "    </tr>\n",
              "    <tr>\n",
              "      <th>person_emp_length</th>\n",
              "      <td>0.079178</td>\n",
              "      <td>0.105083</td>\n",
              "      <td>1.000000</td>\n",
              "      <td>0.021447</td>\n",
              "      <td>-0.118481</td>\n",
              "      <td>-0.067345</td>\n",
              "      <td>-0.041331</td>\n",
              "      <td>0.011227</td>\n",
              "    </tr>\n",
              "    <tr>\n",
              "      <th>loan_amnt</th>\n",
              "      <td>0.068988</td>\n",
              "      <td>0.291326</td>\n",
              "      <td>0.021447</td>\n",
              "      <td>1.000000</td>\n",
              "      <td>0.143880</td>\n",
              "      <td>0.104416</td>\n",
              "      <td>0.668034</td>\n",
              "      <td>0.112626</td>\n",
              "    </tr>\n",
              "    <tr>\n",
              "      <th>loan_int_rate</th>\n",
              "      <td>0.031961</td>\n",
              "      <td>0.039229</td>\n",
              "      <td>-0.118481</td>\n",
              "      <td>0.143880</td>\n",
              "      <td>1.000000</td>\n",
              "      <td>0.132580</td>\n",
              "      <td>0.102636</td>\n",
              "      <td>-0.076196</td>\n",
              "    </tr>\n",
              "    <tr>\n",
              "      <th>loan_status</th>\n",
              "      <td>0.033547</td>\n",
              "      <td>-0.164569</td>\n",
              "      <td>-0.067345</td>\n",
              "      <td>0.104416</td>\n",
              "      <td>0.132580</td>\n",
              "      <td>1.000000</td>\n",
              "      <td>0.271638</td>\n",
              "      <td>-0.017598</td>\n",
              "    </tr>\n",
              "    <tr>\n",
              "      <th>loan_percent_income</th>\n",
              "      <td>-0.012646</td>\n",
              "      <td>-0.409463</td>\n",
              "      <td>-0.041331</td>\n",
              "      <td>0.668034</td>\n",
              "      <td>0.102636</td>\n",
              "      <td>0.271638</td>\n",
              "      <td>1.000000</td>\n",
              "      <td>0.073597</td>\n",
              "    </tr>\n",
              "    <tr>\n",
              "      <th>cb_person_cred_hist_length</th>\n",
              "      <td>0.622463</td>\n",
              "      <td>0.031506</td>\n",
              "      <td>0.011227</td>\n",
              "      <td>0.112626</td>\n",
              "      <td>-0.076196</td>\n",
              "      <td>-0.017598</td>\n",
              "      <td>0.073597</td>\n",
              "      <td>1.000000</td>\n",
              "    </tr>\n",
              "  </tbody>\n",
              "</table>\n",
              "</div>"
            ],
            "text/plain": [
              "                            person_age  person_income  person_emp_length  \\\n",
              "person_age                    1.000000       0.133432           0.079178   \n",
              "person_income                 0.133432       1.000000           0.105083   \n",
              "person_emp_length             0.079178       0.105083           1.000000   \n",
              "loan_amnt                     0.068988       0.291326           0.021447   \n",
              "loan_int_rate                 0.031961       0.039229          -0.118481   \n",
              "loan_status                   0.033547      -0.164569          -0.067345   \n",
              "loan_percent_income          -0.012646      -0.409463          -0.041331   \n",
              "cb_person_cred_hist_length    0.622463       0.031506           0.011227   \n",
              "\n",
              "                            loan_amnt  loan_int_rate  loan_status  \\\n",
              "person_age                   0.068988       0.031961     0.033547   \n",
              "person_income                0.291326       0.039229    -0.164569   \n",
              "person_emp_length            0.021447      -0.118481    -0.067345   \n",
              "loan_amnt                    1.000000       0.143880     0.104416   \n",
              "loan_int_rate                0.143880       1.000000     0.132580   \n",
              "loan_status                  0.104416       0.132580     1.000000   \n",
              "loan_percent_income          0.668034       0.102636     0.271638   \n",
              "cb_person_cred_hist_length   0.112626      -0.076196    -0.017598   \n",
              "\n",
              "                            loan_percent_income  cb_person_cred_hist_length  \n",
              "person_age                            -0.012646                    0.622463  \n",
              "person_income                         -0.409463                    0.031506  \n",
              "person_emp_length                     -0.041331                    0.011227  \n",
              "loan_amnt                              0.668034                    0.112626  \n",
              "loan_int_rate                          0.102636                   -0.076196  \n",
              "loan_status                            0.271638                   -0.017598  \n",
              "loan_percent_income                    1.000000                    0.073597  \n",
              "cb_person_cred_hist_length             0.073597                    1.000000  "
            ]
          },
          "execution_count": 10,
          "metadata": {},
          "output_type": "execute_result"
        }
      ],
      "source": [
        "# data.corr()\n",
        "data.select_dtypes(include=np.number).corr()\n",
        "# data.select_dtypes().corr()"
      ]
    },
    {
      "cell_type": "code",
      "execution_count": 11,
      "metadata": {
        "colab": {
          "base_uri": "https://localhost:8080/",
          "height": 577
        },
        "execution": {
          "iopub.execute_input": "2023-08-23T18:45:19.407877Z",
          "iopub.status.busy": "2023-08-23T18:45:19.40746Z",
          "iopub.status.idle": "2023-08-23T18:45:20.3914Z",
          "shell.execute_reply": "2023-08-23T18:45:20.390144Z",
          "shell.execute_reply.started": "2023-08-23T18:45:19.407835Z"
        },
        "id": "_8YhnnBt0uqG",
        "outputId": "cc2bbf1b-7669-4a8a-a0f0-d61be15adf94",
        "trusted": true
      },
      "outputs": [
        {
          "data": {
            "image/png": "[encoded data removed]",
            "text/plain": [
              "<Figure size 1500x800 with 2 Axes>"
            ]
          },
          "metadata": {},
          "output_type": "display_data"
        }
      ],
      "source": [
        "# perikas korelasi antar kolom\n",
        "fig, ax = plt.subplots()\n",
        "fig.set_size_inches(15,8)\n",
        "sns.heatmap(data.select_dtypes(include=np.number).corr(), vmax =1., square = True, annot = True,cmap='Greens' )\n",
        "plt.title('Korelasi Kolom',fontsize=15);"
      ]
    },
    {
      "cell_type": "markdown",
      "metadata": {
        "id": "a-lxiUDq0up_"
      },
      "source": [
        "<div style=\"background-color: #ddefdd; padding: 10px; border-radius: 10px; color: #007d3c; text-align: center; box-shadow: 0 4px 8px rgba(0, 0, 0, 0.1);\">\n",
        "    <h1 style=\"font-size: 24px;\">Deskripsi Fitur</h1>\n",
        "</div>\n",
        "\n",
        "<div style=\"background-color: #f3faf3; padding: 15px; border-radius: 10px; margin-top: 20px; text-align: left;\">\n",
        "    <ul>\n",
        "        <li><b>person_age:</b> Usia individu yang mengajukan pinjaman.</li>\n",
        "        <li><b>person_income:</b> Penghasilan tahunan individu.</li>\n",
        "        <li><b>person_home_ownership:</b> Jenis kepemilikan rumah individu.\n",
        "            <ul>\n",
        "                <li>rent: Individu tersebut saat ini menyewa properti.</li>\n",
        "                <li>mortgage: Individu tersebut memiliki hipotek (perjanjian pinjaman) atas properti yang mereka miliki.</li>\n",
        "                <li>own: Individu tersebut memiliki rumah mereka secara langsung.</li>\n",
        "                <li>other: Kategori kepemilikan rumah lain yang mungkin spesifik untuk kumpulan data.</li>\n",
        "            </ul>\n",
        "        </li>\n",
        "        <li><b>person_emp_length:</b> Lama kerja individu dalam tahun.</li>\n",
        "        <li><b>loan_intent:</b> Maksud di balik pengajuan pinjaman.\n",
        "          <ul>\n",
        "            <li>Education: Peminjam perlu membiayai peindidikan</li>\n",
        "            <li>Medical: Peminjam perlu membiayai pengobatan</li>\n",
        "            <li>Venture: Peminjam perlu dana untuk pengembangan bisnis</li>\n",
        "            <li>Personal: Peminjam perlu membiayai biaya hidup</li>\n",
        "            <li>Debtconsolidation: Peminjam ingin menggabungkan beberapa pinjaman sebelumnya menjadi satu pinjaman</li>\n",
        "            <li>Homeimprovement: Peminjam perlu melakukan perbaikan rumah</li>\n",
        "          </ul>\n",
        "        </li>\n",
        "        <li><b>loan_grade:</b> Nilai yang diberikan untuk pinjaman berdasarkan kelayakan kredit peminjam.\n",
        "            <ul>\n",
        "                <li>A: Peminjam memiliki kelayakan kredit yang tinggi, menunjukkan risiko rendah.</li>\n",
        "                <li>B: Peminjam relatif berisiko rendah, tetapi tidak layak dikreditkan seperti Grade A.</li>\n",
        "                <li>C: Kelayakan kredit peminjam sedang.</li>\n",
        "                <li>D: Peminjam dianggap memiliki risiko lebih tinggi dibandingkan dengan nilai sebelumnya.</li>\n",
        "                <li>E: Kelayakan kredit peminjam lebih rendah, menunjukkan risiko yang lebih tinggi.</li>\n",
        "                <li>F: Peminjam menimbulkan risiko kredit yang signifikan.</li>\n",
        "                <li>G: Kelayakan kredit peminjam adalah yang terendah, menandakan risiko tertinggi.</li>\n",
        "            </ul>\n",
        "        </li>\n",
        "        <li><b>loan_amnt:</b> Jumlah pinjaman yang diminta oleh individu.</li>\n",
        "        <li><b>loan_int_rate:</b> Suku bunga yang terkait dengan pinjaman.</li>\n",
        "        <li><b>loan_status:</b> Status pinjaman dari pengaju pinjaman.\n",
        "            <ul>\n",
        "                <li>0: Non-default - Peminjam berhasil menerima pinjaman dan potensi adanya gagal bayar rendah.</li>\n",
        "                <li>1: Default - Peminjam gagal menerima pinjaman dan potensi gagal bayar tinggi.</li>\n",
        "            </ul>\n",
        "        </li>\n",
        "        <li><b>loan_percent_income:</b> Persentase pendapatan yang diwakili oleh jumlah pinjaman.</li>\n",
        "        <li><b>cb_person_default_on_file:</b> Riwayat gagal bayar individu sesuai catatan biro kredit.\n",
        "            <ul>\n",
        "                <li>Y: Individu tersebut memiliki riwayat gagal bayar pada file kredit mereka.</li>\n",
        "                <li>N: Individu tersebut tidak memiliki riwayat gagal bayar.</li>\n",
        "            </ul>\n",
        "        </li>\n",
        "        <li><b>cb_preson_cred_hist_length:</b> Panjang riwayat kredit untuk individu.</li>\n",
        "    </ul>\n",
        "</div>\n"
      ]
    },
    {
      "cell_type": "markdown",
      "metadata": {
        "id": "Rbn4y2u50uqK"
      },
      "source": [
        "## 4. Membersihkan data\n"
      ]
    },
    {
      "cell_type": "code",
      "execution_count": 13,
      "metadata": {
        "colab": {
          "base_uri": "https://localhost:8080/",
          "height": 460
        },
        "execution": {
          "iopub.execute_input": "2023-08-23T18:47:46.768698Z",
          "iopub.status.busy": "2023-08-23T18:47:46.76767Z",
          "iopub.status.idle": "2023-08-23T18:47:46.821463Z",
          "shell.execute_reply": "2023-08-23T18:47:46.82027Z",
          "shell.execute_reply.started": "2023-08-23T18:47:46.768662Z"
        },
        "id": "LloPxI1d0uqL",
        "outputId": "b51e3d31-5715-4d77-d216-497112bc975a",
        "trusted": true
      },
      "outputs": [
        {
          "data": {
            "text/plain": [
              "person_age                     0\n",
              "person_income                  0\n",
              "person_home_ownership          0\n",
              "person_emp_length             11\n",
              "loan_intent                    0\n",
              "loan_grade                     0\n",
              "loan_amnt                      0\n",
              "loan_int_rate                 41\n",
              "loan_status                    0\n",
              "loan_percent_income            0\n",
              "cb_person_default_on_file      0\n",
              "cb_person_cred_hist_length     0\n",
              "dtype: int64"
            ]
          },
          "execution_count": 13,
          "metadata": {},
          "output_type": "execute_result"
        }
      ],
      "source": [
        "data.isnull().sum()"
      ]
    },
    {
      "cell_type": "code",
      "execution_count": 14,
      "metadata": {
        "execution": {
          "iopub.execute_input": "2023-08-23T18:47:46.822795Z",
          "iopub.status.busy": "2023-08-23T18:47:46.822492Z",
          "iopub.status.idle": "2023-08-23T18:47:46.873595Z",
          "shell.execute_reply": "2023-08-23T18:47:46.872636Z",
          "shell.execute_reply.started": "2023-08-23T18:47:46.822769Z"
        },
        "id": "2gdcteOs0uqL",
        "trusted": true
      },
      "outputs": [],
      "source": [
        "# drop values that are null\n",
        "data.dropna(axis=0,inplace=True)"
      ]
    },
    {
      "cell_type": "code",
      "execution_count": 16,
      "metadata": {
        "colab": {
          "base_uri": "https://localhost:8080/",
          "height": 460
        },
        "execution": {
          "iopub.execute_input": "2023-08-23T18:47:46.875589Z",
          "iopub.status.busy": "2023-08-23T18:47:46.875126Z",
          "iopub.status.idle": "2023-08-23T18:47:46.92136Z",
          "shell.execute_reply": "2023-08-23T18:47:46.920323Z",
          "shell.execute_reply.started": "2023-08-23T18:47:46.875558Z"
        },
        "id": "_17Takrg0uqL",
        "outputId": "c5b80b90-270b-46c9-d457-5c2ae7c3f831",
        "trusted": true
      },
      "outputs": [
        {
          "data": {
            "text/plain": [
              "person_age                    0\n",
              "person_income                 0\n",
              "person_home_ownership         0\n",
              "person_emp_length             0\n",
              "loan_intent                   0\n",
              "loan_grade                    0\n",
              "loan_amnt                     0\n",
              "loan_int_rate                 0\n",
              "loan_status                   0\n",
              "loan_percent_income           0\n",
              "cb_person_default_on_file     0\n",
              "cb_person_cred_hist_length    0\n",
              "dtype: int64"
            ]
          },
          "execution_count": 16,
          "metadata": {},
          "output_type": "execute_result"
        }
      ],
      "source": [
        "data.isnull().sum()"
      ]
    },
    {
      "cell_type": "code",
      "execution_count": 18,
      "metadata": {
        "colab": {
          "base_uri": "https://localhost:8080/"
        },
        "execution": {
          "iopub.execute_input": "2023-08-23T18:47:46.923986Z",
          "iopub.status.busy": "2023-08-23T18:47:46.923219Z",
          "iopub.status.idle": "2023-08-23T18:47:46.933079Z",
          "shell.execute_reply": "2023-08-23T18:47:46.93188Z",
          "shell.execute_reply.started": "2023-08-23T18:47:46.923946Z"
        },
        "id": "tbnkNzA90uqL",
        "outputId": "9b7f7651-47eb-4558-e4d3-fa37961747f6",
        "trusted": true
      },
      "outputs": [
        {
          "data": {
            "text/plain": [
              "np.int64(0)"
            ]
          },
          "execution_count": 18,
          "metadata": {},
          "output_type": "execute_result"
        }
      ],
      "source": [
        "data.duplicated().sum()"
      ]
    },
    {
      "cell_type": "code",
      "execution_count": 19,
      "metadata": {
        "execution": {
          "iopub.execute_input": "2023-08-23T18:47:46.935386Z",
          "iopub.status.busy": "2023-08-23T18:47:46.93494Z",
          "iopub.status.idle": "2023-08-23T18:47:46.984131Z",
          "shell.execute_reply": "2023-08-23T18:47:46.983073Z",
          "shell.execute_reply.started": "2023-08-23T18:47:46.935348Z"
        },
        "id": "FLxNmeZe0uqZ",
        "trusted": true
      },
      "outputs": [],
      "source": [
        "data = data.drop_duplicates()"
      ]
    },
    {
      "cell_type": "code",
      "execution_count": 20,
      "metadata": {
        "colab": {
          "base_uri": "https://localhost:8080/"
        },
        "id": "YEy1M0-Ol0t7",
        "outputId": "5f24e9b1-9c71-4122-e732-fb520beaab9b"
      },
      "outputs": [
        {
          "data": {
            "text/plain": [
              "np.int64(0)"
            ]
          },
          "execution_count": 20,
          "metadata": {},
          "output_type": "execute_result"
        }
      ],
      "source": [
        "data.duplicated().sum()"
      ]
    },
    {
      "cell_type": "code",
      "execution_count": 21,
      "metadata": {
        "execution": {
          "iopub.execute_input": "2023-08-23T18:47:46.986392Z",
          "iopub.status.busy": "2023-08-23T18:47:46.985944Z",
          "iopub.status.idle": "2023-08-23T18:47:46.991966Z",
          "shell.execute_reply": "2023-08-23T18:47:46.990873Z",
          "shell.execute_reply.started": "2023-08-23T18:47:46.986354Z"
        },
        "id": "RiMcupVl0uqZ",
        "trusted": true
      },
      "outputs": [],
      "source": [
        "#person_age max 144 (issue)\n",
        "#person_emp_length max 123 (issue)\n",
        "data.reset_index(inplace = True)"
      ]
    },
    {
      "cell_type": "code",
      "execution_count": 22,
      "metadata": {
        "colab": {
          "base_uri": "https://localhost:8080/",
          "height": 1000
        },
        "id": "3moXvLpERSKe",
        "outputId": "fb0e8c82-7794-43ad-bf66-5527c70b9aa1"
      },
      "outputs": [
        {
          "data": {
            "text/plain": [
              "person_age\n",
              "24    41\n",
              "23    39\n",
              "25    38\n",
              "26    37\n",
              "22    37\n",
              "28    32\n",
              "27    31\n",
              "21    29\n",
              "32    28\n",
              "31    23\n",
              "29    23\n",
              "30    20\n",
              "33    17\n",
              "34    11\n",
              "35    10\n",
              "37     7\n",
              "38     5\n",
              "39     3\n",
              "44     3\n",
              "45     3\n",
              "41     2\n",
              "36     2\n",
              "20     2\n",
              "40     2\n",
              "42     1\n",
              "43     1\n",
              "46     1\n",
              "Name: count, dtype: int64"
            ]
          },
          "execution_count": 22,
          "metadata": {},
          "output_type": "execute_result"
        }
      ],
      "source": [
        "data['person_age'].value_counts()"
      ]
    },
    {
      "cell_type": "code",
      "execution_count": 23,
      "metadata": {
        "colab": {
          "base_uri": "https://localhost:8080/",
          "height": 254
        },
        "execution": {
          "iopub.execute_input": "2023-08-23T18:47:46.994137Z",
          "iopub.status.busy": "2023-08-23T18:47:46.99368Z",
          "iopub.status.idle": "2023-08-23T18:47:47.546206Z",
          "shell.execute_reply": "2023-08-23T18:47:47.545041Z",
          "shell.execute_reply.started": "2023-08-23T18:47:46.994098Z"
        },
        "id": "hL8NJqgL0uqa",
        "outputId": "79341241-8352-4e2e-d9f8-3af3632762c5",
        "trusted": true
      },
      "outputs": [
        {
          "data": {
            "text/plain": [
              "<BarContainer object of 27 artists>"
            ]
          },
          "execution_count": 23,
          "metadata": {},
          "output_type": "execute_result"
        },
        {
          "data": {
            "image/png": "[encoded data removed]",
            "text/plain": [
              "<Figure size 1500x500 with 1 Axes>"
            ]
          },
          "metadata": {},
          "output_type": "display_data"
        }
      ],
      "source": [
        "verti = data['person_age'].value_counts().values\n",
        "hori = data['person_age'].value_counts().index\n",
        "fig = plt.figure(figsize = (15, 5))\n",
        "plt.bar(hori, verti)"
      ]
    },
    {
      "cell_type": "code",
      "execution_count": 25,
      "metadata": {
        "colab": {
          "base_uri": "https://localhost:8080/"
        },
        "execution": {
          "iopub.execute_input": "2023-08-23T18:47:47.547936Z",
          "iopub.status.busy": "2023-08-23T18:47:47.54762Z",
          "iopub.status.idle": "2023-08-23T18:47:47.557156Z",
          "shell.execute_reply": "2023-08-23T18:47:47.554811Z",
          "shell.execute_reply.started": "2023-08-23T18:47:47.54791Z"
        },
        "id": "gHtex9QQ0uqa",
        "outputId": "63baa2cd-399b-499c-c943-1b698178e397",
        "trusted": true
      },
      "outputs": [
        {
          "data": {
            "text/plain": [
              "np.int64(0)"
            ]
          },
          "execution_count": 25,
          "metadata": {},
          "output_type": "execute_result"
        }
      ],
      "source": [
        "(data['person_age'].value_counts().values>55).sum()"
      ]
    },
    {
      "cell_type": "code",
      "execution_count": 26,
      "metadata": {
        "execution": {
          "iopub.execute_input": "2023-08-23T18:47:47.559821Z",
          "iopub.status.busy": "2023-08-23T18:47:47.558718Z",
          "iopub.status.idle": "2023-08-23T18:47:47.571888Z",
          "shell.execute_reply": "2023-08-23T18:47:47.5706Z",
          "shell.execute_reply.started": "2023-08-23T18:47:47.559776Z"
        },
        "id": "uNUHp1790uqc",
        "trusted": true
      },
      "outputs": [],
      "source": [
        "data = data.drop(data[data['person_age'] > 55].index, axis=0)"
      ]
    },
    {
      "cell_type": "code",
      "execution_count": 27,
      "metadata": {
        "colab": {
          "base_uri": "https://localhost:8080/",
          "height": 236
        },
        "id": "lh2BwO81cnUm",
        "outputId": "3bc98fd2-1fed-4a39-ab4a-16b7a616aff1"
      },
      "outputs": [
        {
          "data": {
            "image/png": "[encoded data removed]",
            "text/plain": [
              "<Figure size 1500x500 with 1 Axes>"
            ]
          },
          "metadata": {},
          "output_type": "display_data"
        }
      ],
      "source": [
        "verti = data['person_age'].value_counts().values\n",
        "hori = data['person_age'].value_counts().index\n",
        "fig = plt.figure(figsize = (15, 5))\n",
        "plt.bar(hori, verti)\n",
        "plt.show()"
      ]
    },
    {
      "cell_type": "code",
      "execution_count": 28,
      "metadata": {
        "colab": {
          "base_uri": "https://localhost:8080/",
          "height": 1000
        },
        "id": "lvsRF5c8XkYe",
        "outputId": "8a37b864-595a-43dd-db33-d5827e2ea22d"
      },
      "outputs": [
        {
          "data": {
            "text/plain": [
              "person_emp_length\n",
              "0.0     132\n",
              "1.0      70\n",
              "2.0      38\n",
              "3.0      21\n",
              "4.0      26\n",
              "5.0      26\n",
              "6.0      17\n",
              "7.0      11\n",
              "8.0      13\n",
              "9.0       6\n",
              "10.0     14\n",
              "11.0      8\n",
              "12.0      3\n",
              "13.0      5\n",
              "14.0      4\n",
              "15.0      8\n",
              "16.0      7\n",
              "17.0      1\n",
              "18.0     10\n",
              "19.0      3\n",
              "20.0      1\n",
              "22.0      2\n",
              "23.0      2\n",
              "24.0      3\n",
              "26.0      3\n",
              "29.0      1\n",
              "31.0      1\n",
              "32.0      4\n",
              "33.0      1\n",
              "34.0      3\n",
              "36.0      2\n",
              "48.0      1\n",
              "57.0      1\n",
              "Name: count, dtype: int64"
            ]
          },
          "execution_count": 28,
          "metadata": {},
          "output_type": "execute_result"
        }
      ],
      "source": [
        "data['person_emp_length'].value_counts().sort_index()"
      ]
    },
    {
      "cell_type": "code",
      "execution_count": 29,
      "metadata": {
        "colab": {
          "base_uri": "https://localhost:8080/",
          "height": 236
        },
        "id": "yrNPGVNSXdXC",
        "outputId": "56b0f193-24af-44e9-df67-ce2fa61e2522"
      },
      "outputs": [
        {
          "data": {
            "image/png": "[encoded data removed]",
            "text/plain": [
              "<Figure size 1500x500 with 1 Axes>"
            ]
          },
          "metadata": {},
          "output_type": "display_data"
        }
      ],
      "source": [
        "verti = data['person_emp_length'].value_counts().values\n",
        "hori = data['person_emp_length'].value_counts().index\n",
        "fig = plt.figure(figsize = (15, 5))\n",
        "plt.bar(hori, verti)\n",
        "plt.show()"
      ]
    },
    {
      "cell_type": "code",
      "execution_count": 30,
      "metadata": {
        "execution": {
          "iopub.execute_input": "2023-08-23T18:47:47.704683Z",
          "iopub.status.busy": "2023-08-23T18:47:47.704304Z",
          "iopub.status.idle": "2023-08-23T18:47:47.722285Z",
          "shell.execute_reply": "2023-08-23T18:47:47.721266Z",
          "shell.execute_reply.started": "2023-08-23T18:47:47.704654Z"
        },
        "id": "LIIK_EPX0uqi",
        "trusted": true
      },
      "outputs": [],
      "source": [
        "data = data.drop(data[data['person_emp_length'] > 38].index, axis=0)"
      ]
    },
    {
      "cell_type": "code",
      "execution_count": 31,
      "metadata": {
        "colab": {
          "base_uri": "https://localhost:8080/",
          "height": 236
        },
        "id": "pj4KS6afcul0",
        "outputId": "244a4997-a9b3-42a6-cba2-71f86707454d"
      },
      "outputs": [
        {
          "data": {
            "image/png": "[encoded data removed]",
            "text/plain": [
              "<Figure size 1500x500 with 1 Axes>"
            ]
          },
          "metadata": {},
          "output_type": "display_data"
        }
      ],
      "source": [
        "verti = data['person_emp_length'].value_counts().values\n",
        "hori = data['person_emp_length'].value_counts().index\n",
        "fig = plt.figure(figsize = (15, 5))\n",
        "plt.bar(hori, verti)\n",
        "plt.show()"
      ]
    },
    {
      "cell_type": "markdown",
      "metadata": {
        "id": "GWxYlY650uqb"
      },
      "source": [
        "## 5. Feature Engineering\n"
      ]
    },
    {
      "cell_type": "code",
      "execution_count": 32,
      "metadata": {
        "execution": {
          "iopub.execute_input": "2023-08-23T18:47:47.73474Z",
          "iopub.status.busy": "2023-08-23T18:47:47.733904Z",
          "iopub.status.idle": "2023-08-23T18:47:47.747771Z",
          "shell.execute_reply": "2023-08-23T18:47:47.746483Z",
          "shell.execute_reply.started": "2023-08-23T18:47:47.734693Z"
        },
        "id": "ZJzH8Qkm0uqj",
        "trusted": true
      },
      "outputs": [],
      "source": [
        "data = data.drop(['index'], axis=1)\n",
        "data.reset_index(inplace = True)\n",
        "data = data.drop(['index'], axis=1)"
      ]
    },
    {
      "cell_type": "code",
      "execution_count": 33,
      "metadata": {
        "colab": {
          "base_uri": "https://localhost:8080/"
        },
        "execution": {
          "iopub.execute_input": "2023-08-23T18:47:47.806886Z",
          "iopub.status.busy": "2023-08-23T18:47:47.806488Z",
          "iopub.status.idle": "2023-08-23T18:47:47.816142Z",
          "shell.execute_reply": "2023-08-23T18:47:47.815084Z",
          "shell.execute_reply.started": "2023-08-23T18:47:47.806856Z"
        },
        "id": "JFfCtw7y0uql",
        "outputId": "0ea3dd9d-4c20-4010-f19a-eb754f56051c",
        "trusted": true
      },
      "outputs": [
        {
          "name": "stdout",
          "output_type": "stream",
          "text": [
            "<class 'pandas.core.frame.DataFrame'>\n",
            "RangeIndex: 446 entries, 0 to 445\n",
            "Data columns (total 12 columns):\n",
            " #   Column                      Non-Null Count  Dtype  \n",
            "---  ------                      --------------  -----  \n",
            " 0   person_age                  446 non-null    int64  \n",
            " 1   person_income               446 non-null    int64  \n",
            " 2   person_home_ownership       446 non-null    object \n",
            " 3   person_emp_length           446 non-null    float64\n",
            " 4   loan_intent                 446 non-null    object \n",
            " 5   loan_grade                  446 non-null    object \n",
            " 6   loan_amnt                   446 non-null    int64  \n",
            " 7   loan_int_rate               446 non-null    float64\n",
            " 8   loan_status                 446 non-null    int64  \n",
            " 9   loan_percent_income         446 non-null    float64\n",
            " 10  cb_person_default_on_file   446 non-null    object \n",
            " 11  cb_person_cred_hist_length  446 non-null    int64  \n",
            "dtypes: float64(3), int64(5), object(4)\n",
            "memory usage: 41.9+ KB\n"
          ]
        }
      ],
      "source": [
        "data.info()"
      ]
    },
    {
      "cell_type": "code",
      "execution_count": 34,
      "metadata": {
        "colab": {
          "base_uri": "https://localhost:8080/",
          "height": 80
        },
        "execution": {
          "iopub.execute_input": "2023-08-23T18:47:48.119082Z",
          "iopub.status.busy": "2023-08-23T18:47:48.118638Z",
          "iopub.status.idle": "2023-08-23T18:47:48.14911Z",
          "shell.execute_reply": "2023-08-23T18:47:48.147944Z",
          "shell.execute_reply.started": "2023-08-23T18:47:48.119019Z"
        },
        "id": "zdMqbH4A0uqp",
        "outputId": "d9ab5330-803d-46b8-b311-ca5ee5172711",
        "trusted": true
      },
      "outputs": [
        {
          "data": {
            "text/html": [
              "<style>#sk-container-id-1 {\n",
              "  /* Definition of color scheme common for light and dark mode */\n",
              "  --sklearn-color-text: #000;\n",
              "  --sklearn-color-text-muted: #666;\n",
              "  --sklearn-color-line: gray;\n",
              "  /* Definition of color scheme for unfitted estimators */\n",
              "  --sklearn-color-unfitted-level-0: #fff5e6;\n",
              "  --sklearn-color-unfitted-level-1: #f6e4d2;\n",
              "  --sklearn-color-unfitted-level-2: #ffe0b3;\n",
              "  --sklearn-color-unfitted-level-3: chocolate;\n",
              "  /* Definition of color scheme for fitted estimators */\n",
              "  --sklearn-color-fitted-level-0: #f0f8ff;\n",
              "  --sklearn-color-fitted-level-1: #d4ebff;\n",
              "  --sklearn-color-fitted-level-2: #b3dbfd;\n",
              "  --sklearn-color-fitted-level-3: cornflowerblue;\n",
              "\n",
              "  /* Specific color for light theme */\n",
              "  --sklearn-color-text-on-default-background: var(--sg-text-color, var(--theme-code-foreground, var(--jp-content-font-color1, black)));\n",
              "  --sklearn-color-background: var(--sg-background-color, var(--theme-background, var(--jp-layout-color0, white)));\n",
              "  --sklearn-color-border-box: var(--sg-text-color, var(--theme-code-foreground, var(--jp-content-font-color1, black)));\n",
              "  --sklearn-color-icon: #696969;\n",
              "\n",
              "  @media (prefers-color-scheme: dark) {\n",
              "    /* Redefinition of color scheme for dark theme */\n",
              "    --sklearn-color-text-on-default-background: var(--sg-text-color, var(--theme-code-foreground, var(--jp-content-font-color1, white)));\n",
              "    --sklearn-color-background: var(--sg-background-color, var(--theme-background, var(--jp-layout-color0, #111)));\n",
              "    --sklearn-color-border-box: var(--sg-text-color, var(--theme-code-foreground, var(--jp-content-font-color1, white)));\n",
              "    --sklearn-color-icon: #878787;\n",
              "  }\n",
              "}\n",
              "\n",
              "#sk-container-id-1 {\n",
              "  color: var(--sklearn-color-text);\n",
              "}\n",
              "\n",
              "#sk-container-id-1 pre {\n",
              "  padding: 0;\n",
              "}\n",
              "\n",
              "#sk-container-id-1 input.sk-hidden--visually {\n",
              "  border: 0;\n",
              "  clip: rect(1px 1px 1px 1px);\n",
              "  clip: rect(1px, 1px, 1px, 1px);\n",
              "  height: 1px;\n",
              "  margin: -1px;\n",
              "  overflow: hidden;\n",
              "  padding: 0;\n",
              "  position: absolute;\n",
              "  width: 1px;\n",
              "}\n",
              "\n",
              "#sk-container-id-1 div.sk-dashed-wrapped {\n",
              "  border: 1px dashed var(--sklearn-color-line);\n",
              "  margin: 0 0.4em 0.5em 0.4em;\n",
              "  box-sizing: border-box;\n",
              "  padding-bottom: 0.4em;\n",
              "  background-color: var(--sklearn-color-background);\n",
              "}\n",
              "\n",
              "#sk-container-id-1 div.sk-container {\n",
              "  /* jupyter's `normalize.less` sets `[hidden] { display: none; }`\n",
              "     but bootstrap.min.css set `[hidden] { display: none !important; }`\n",
              "     so we also need the `!important` here to be able to override the\n",
              "     default hidden behavior on the sphinx rendered scikit-learn.org.\n",
              "     See: https://github.com/scikit-learn/scikit-learn/issues/21755 */\n",
              "  display: inline-block !important;\n",
              "  position: relative;\n",
              "}\n",
              "\n",
              "#sk-container-id-1 div.sk-text-repr-fallback {\n",
              "  display: none;\n",
              "}\n",
              "\n",
              "div.sk-parallel-item,\n",
              "div.sk-serial,\n",
              "div.sk-item {\n",
              "  /* draw centered vertical line to link estimators */\n",
              "  background-image: linear-gradient(var(--sklearn-color-text-on-default-background), var(--sklearn-color-text-on-default-background));\n",
              "  background-size: 2px 100%;\n",
              "  background-repeat: no-repeat;\n",
              "  background-position: center center;\n",
              "}\n",
              "\n",
              "/* Parallel-specific style estimator block */\n",
              "\n",
              "#sk-container-id-1 div.sk-parallel-item::after {\n",
              "  content: \"\";\n",
              "  width: 100%;\n",
              "  border-bottom: 2px solid var(--sklearn-color-text-on-default-background);\n",
              "  flex-grow: 1;\n",
              "}\n",
              "\n",
              "#sk-container-id-1 div.sk-parallel {\n",
              "  display: flex;\n",
              "  align-items: stretch;\n",
              "  justify-content: center;\n",
              "  background-color: var(--sklearn-color-background);\n",
              "  position: relative;\n",
              "}\n",
              "\n",
              "#sk-container-id-1 div.sk-parallel-item {\n",
              "  display: flex;\n",
              "  flex-direction: column;\n",
              "}\n",
              "\n",
              "#sk-container-id-1 div.sk-parallel-item:first-child::after {\n",
              "  align-self: flex-end;\n",
              "  width: 50%;\n",
              "}\n",
              "\n",
              "#sk-container-id-1 div.sk-parallel-item:last-child::after {\n",
              "  align-self: flex-start;\n",
              "  width: 50%;\n",
              "}\n",
              "\n",
              "#sk-container-id-1 div.sk-parallel-item:only-child::after {\n",
              "  width: 0;\n",
              "}\n",
              "\n",
              "/* Serial-specific style estimator block */\n",
              "\n",
              "#sk-container-id-1 div.sk-serial {\n",
              "  display: flex;\n",
              "  flex-direction: column;\n",
              "  align-items: center;\n",
              "  background-color: var(--sklearn-color-background);\n",
              "  padding-right: 1em;\n",
              "  padding-left: 1em;\n",
              "}\n",
              "\n",
              "\n",
              "/* Toggleable style: style used for estimator/Pipeline/ColumnTransformer box that is\n",
              "clickable and can be expanded/collapsed.\n",
              "- Pipeline and ColumnTransformer use this feature and define the default style\n",
              "- Estimators will overwrite some part of the style using the `sk-estimator` class\n",
              "*/\n",
              "\n",
              "/* Pipeline and ColumnTransformer style (default) */\n",
              "\n",
              "#sk-container-id-1 div.sk-toggleable {\n",
              "  /* Default theme specific background. It is overwritten whether we have a\n",
              "  specific estimator or a Pipeline/ColumnTransformer */\n",
              "  background-color: var(--sklearn-color-background);\n",
              "}\n",
              "\n",
              "/* Toggleable label */\n",
              "#sk-container-id-1 label.sk-toggleable__label {\n",
              "  cursor: pointer;\n",
              "  display: flex;\n",
              "  width: 100%;\n",
              "  margin-bottom: 0;\n",
              "  padding: 0.5em;\n",
              "  box-sizing: border-box;\n",
              "  text-align: center;\n",
              "  align-items: start;\n",
              "  justify-content: space-between;\n",
              "  gap: 0.5em;\n",
              "}\n",
              "\n",
              "#sk-container-id-1 label.sk-toggleable__label .caption {\n",
              "  font-size: 0.6rem;\n",
              "  font-weight: lighter;\n",
              "  color: var(--sklearn-color-text-muted);\n",
              "}\n",
              "\n",
              "#sk-container-id-1 label.sk-toggleable__label-arrow:before {\n",
              "  /* Arrow on the left of the label */\n",
              "  content: \"▸\";\n",
              "  float: left;\n",
              "  margin-right: 0.25em;\n",
              "  color: var(--sklearn-color-icon);\n",
              "}\n",
              "\n",
              "#sk-container-id-1 label.sk-toggleable__label-arrow:hover:before {\n",
              "  color: var(--sklearn-color-text);\n",
              "}\n",
              "\n",
              "/* Toggleable content - dropdown */\n",
              "\n",
              "#sk-container-id-1 div.sk-toggleable__content {\n",
              "  max-height: 0;\n",
              "  max-width: 0;\n",
              "  overflow: hidden;\n",
              "  text-align: left;\n",
              "  /* unfitted */\n",
              "  background-color: var(--sklearn-color-unfitted-level-0);\n",
              "}\n",
              "\n",
              "#sk-container-id-1 div.sk-toggleable__content.fitted {\n",
              "  /* fitted */\n",
              "  background-color: var(--sklearn-color-fitted-level-0);\n",
              "}\n",
              "\n",
              "#sk-container-id-1 div.sk-toggleable__content pre {\n",
              "  margin: 0.2em;\n",
              "  border-radius: 0.25em;\n",
              "  color: var(--sklearn-color-text);\n",
              "  /* unfitted */\n",
              "  background-color: var(--sklearn-color-unfitted-level-0);\n",
              "}\n",
              "\n",
              "#sk-container-id-1 div.sk-toggleable__content.fitted pre {\n",
              "  /* unfitted */\n",
              "  background-color: var(--sklearn-color-fitted-level-0);\n",
              "}\n",
              "\n",
              "#sk-container-id-1 input.sk-toggleable__control:checked~div.sk-toggleable__content {\n",
              "  /* Expand drop-down */\n",
              "  max-height: 200px;\n",
              "  max-width: 100%;\n",
              "  overflow: auto;\n",
              "}\n",
              "\n",
              "#sk-container-id-1 input.sk-toggleable__control:checked~label.sk-toggleable__label-arrow:before {\n",
              "  content: \"▾\";\n",
              "}\n",
              "\n",
              "/* Pipeline/ColumnTransformer-specific style */\n",
              "\n",
              "#sk-container-id-1 div.sk-label input.sk-toggleable__control:checked~label.sk-toggleable__label {\n",
              "  color: var(--sklearn-color-text);\n",
              "  background-color: var(--sklearn-color-unfitted-level-2);\n",
              "}\n",
              "\n",
              "#sk-container-id-1 div.sk-label.fitted input.sk-toggleable__control:checked~label.sk-toggleable__label {\n",
              "  background-color: var(--sklearn-color-fitted-level-2);\n",
              "}\n",
              "\n",
              "/* Estimator-specific style */\n",
              "\n",
              "/* Colorize estimator box */\n",
              "#sk-container-id-1 div.sk-estimator input.sk-toggleable__control:checked~label.sk-toggleable__label {\n",
              "  /* unfitted */\n",
              "  background-color: var(--sklearn-color-unfitted-level-2);\n",
              "}\n",
              "\n",
              "#sk-container-id-1 div.sk-estimator.fitted input.sk-toggleable__control:checked~label.sk-toggleable__label {\n",
              "  /* fitted */\n",
              "  background-color: var(--sklearn-color-fitted-level-2);\n",
              "}\n",
              "\n",
              "#sk-container-id-1 div.sk-label label.sk-toggleable__label,\n",
              "#sk-container-id-1 div.sk-label label {\n",
              "  /* The background is the default theme color */\n",
              "  color: var(--sklearn-color-text-on-default-background);\n",
              "}\n",
              "\n",
              "/* On hover, darken the color of the background */\n",
              "#sk-container-id-1 div.sk-label:hover label.sk-toggleable__label {\n",
              "  color: var(--sklearn-color-text);\n",
              "  background-color: var(--sklearn-color-unfitted-level-2);\n",
              "}\n",
              "\n",
              "/* Label box, darken color on hover, fitted */\n",
              "#sk-container-id-1 div.sk-label.fitted:hover label.sk-toggleable__label.fitted {\n",
              "  color: var(--sklearn-color-text);\n",
              "  background-color: var(--sklearn-color-fitted-level-2);\n",
              "}\n",
              "\n",
              "/* Estimator label */\n",
              "\n",
              "#sk-container-id-1 div.sk-label label {\n",
              "  font-family: monospace;\n",
              "  font-weight: bold;\n",
              "  display: inline-block;\n",
              "  line-height: 1.2em;\n",
              "}\n",
              "\n",
              "#sk-container-id-1 div.sk-label-container {\n",
              "  text-align: center;\n",
              "}\n",
              "\n",
              "/* Estimator-specific */\n",
              "#sk-container-id-1 div.sk-estimator {\n",
              "  font-family: monospace;\n",
              "  border: 1px dotted var(--sklearn-color-border-box);\n",
              "  border-radius: 0.25em;\n",
              "  box-sizing: border-box;\n",
              "  margin-bottom: 0.5em;\n",
              "  /* unfitted */\n",
              "  background-color: var(--sklearn-color-unfitted-level-0);\n",
              "}\n",
              "\n",
              "#sk-container-id-1 div.sk-estimator.fitted {\n",
              "  /* fitted */\n",
              "  background-color: var(--sklearn-color-fitted-level-0);\n",
              "}\n",
              "\n",
              "/* on hover */\n",
              "#sk-container-id-1 div.sk-estimator:hover {\n",
              "  /* unfitted */\n",
              "  background-color: var(--sklearn-color-unfitted-level-2);\n",
              "}\n",
              "\n",
              "#sk-container-id-1 div.sk-estimator.fitted:hover {\n",
              "  /* fitted */\n",
              "  background-color: var(--sklearn-color-fitted-level-2);\n",
              "}\n",
              "\n",
              "/* Specification for estimator info (e.g. \"i\" and \"?\") */\n",
              "\n",
              "/* Common style for \"i\" and \"?\" */\n",
              "\n",
              ".sk-estimator-doc-link,\n",
              "a:link.sk-estimator-doc-link,\n",
              "a:visited.sk-estimator-doc-link {\n",
              "  float: right;\n",
              "  font-size: smaller;\n",
              "  line-height: 1em;\n",
              "  font-family: monospace;\n",
              "  background-color: var(--sklearn-color-background);\n",
              "  border-radius: 1em;\n",
              "  height: 1em;\n",
              "  width: 1em;\n",
              "  text-decoration: none !important;\n",
              "  margin-left: 0.5em;\n",
              "  text-align: center;\n",
              "  /* unfitted */\n",
              "  border: var(--sklearn-color-unfitted-level-1) 1pt solid;\n",
              "  color: var(--sklearn-color-unfitted-level-1);\n",
              "}\n",
              "\n",
              ".sk-estimator-doc-link.fitted,\n",
              "a:link.sk-estimator-doc-link.fitted,\n",
              "a:visited.sk-estimator-doc-link.fitted {\n",
              "  /* fitted */\n",
              "  border: var(--sklearn-color-fitted-level-1) 1pt solid;\n",
              "  color: var(--sklearn-color-fitted-level-1);\n",
              "}\n",
              "\n",
              "/* On hover */\n",
              "div.sk-estimator:hover .sk-estimator-doc-link:hover,\n",
              ".sk-estimator-doc-link:hover,\n",
              "div.sk-label-container:hover .sk-estimator-doc-link:hover,\n",
              ".sk-estimator-doc-link:hover {\n",
              "  /* unfitted */\n",
              "  background-color: var(--sklearn-color-unfitted-level-3);\n",
              "  color: var(--sklearn-color-background);\n",
              "  text-decoration: none;\n",
              "}\n",
              "\n",
              "div.sk-estimator.fitted:hover .sk-estimator-doc-link.fitted:hover,\n",
              ".sk-estimator-doc-link.fitted:hover,\n",
              "div.sk-label-container:hover .sk-estimator-doc-link.fitted:hover,\n",
              ".sk-estimator-doc-link.fitted:hover {\n",
              "  /* fitted */\n",
              "  background-color: var(--sklearn-color-fitted-level-3);\n",
              "  color: var(--sklearn-color-background);\n",
              "  text-decoration: none;\n",
              "}\n",
              "\n",
              "/* Span, style for the box shown on hovering the info icon */\n",
              ".sk-estimator-doc-link span {\n",
              "  display: none;\n",
              "  z-index: 9999;\n",
              "  position: relative;\n",
              "  font-weight: normal;\n",
              "  right: .2ex;\n",
              "  padding: .5ex;\n",
              "  margin: .5ex;\n",
              "  width: min-content;\n",
              "  min-width: 20ex;\n",
              "  max-width: 50ex;\n",
              "  color: var(--sklearn-color-text);\n",
              "  box-shadow: 2pt 2pt 4pt #999;\n",
              "  /* unfitted */\n",
              "  background: var(--sklearn-color-unfitted-level-0);\n",
              "  border: .5pt solid var(--sklearn-color-unfitted-level-3);\n",
              "}\n",
              "\n",
              ".sk-estimator-doc-link.fitted span {\n",
              "  /* fitted */\n",
              "  background: var(--sklearn-color-fitted-level-0);\n",
              "  border: var(--sklearn-color-fitted-level-3);\n",
              "}\n",
              "\n",
              ".sk-estimator-doc-link:hover span {\n",
              "  display: block;\n",
              "}\n",
              "\n",
              "/* \"?\"-specific style due to the `<a>` HTML tag */\n",
              "\n",
              "#sk-container-id-1 a.estimator_doc_link {\n",
              "  float: right;\n",
              "  font-size: 1rem;\n",
              "  line-height: 1em;\n",
              "  font-family: monospace;\n",
              "  background-color: var(--sklearn-color-background);\n",
              "  border-radius: 1rem;\n",
              "  height: 1rem;\n",
              "  width: 1rem;\n",
              "  text-decoration: none;\n",
              "  /* unfitted */\n",
              "  color: var(--sklearn-color-unfitted-level-1);\n",
              "  border: var(--sklearn-color-unfitted-level-1) 1pt solid;\n",
              "}\n",
              "\n",
              "#sk-container-id-1 a.estimator_doc_link.fitted {\n",
              "  /* fitted */\n",
              "  border: var(--sklearn-color-fitted-level-1) 1pt solid;\n",
              "  color: var(--sklearn-color-fitted-level-1);\n",
              "}\n",
              "\n",
              "/* On hover */\n",
              "#sk-container-id-1 a.estimator_doc_link:hover {\n",
              "  /* unfitted */\n",
              "  background-color: var(--sklearn-color-unfitted-level-3);\n",
              "  color: var(--sklearn-color-background);\n",
              "  text-decoration: none;\n",
              "}\n",
              "\n",
              "#sk-container-id-1 a.estimator_doc_link.fitted:hover {\n",
              "  /* fitted */\n",
              "  background-color: var(--sklearn-color-fitted-level-3);\n",
              "}\n",
              "</style><div id=\"sk-container-id-1\" class=\"sk-top-container\"><div class=\"sk-text-repr-fallback\"><pre>LabelEncoder()</pre><b>In a Jupyter environment, please rerun this cell to show the HTML representation or trust the notebook. <br />On GitHub, the HTML representation is unable to render, please try loading this page with nbviewer.org.</b></div><div class=\"sk-container\" hidden><div class=\"sk-item\"><div class=\"sk-estimator fitted sk-toggleable\"><input class=\"sk-toggleable__control sk-hidden--visually\" id=\"sk-estimator-id-1\" type=\"checkbox\" checked><label for=\"sk-estimator-id-1\" class=\"sk-toggleable__label fitted sk-toggleable__label-arrow\"><div><div>LabelEncoder</div></div><div><a class=\"sk-estimator-doc-link fitted\" rel=\"noreferrer\" target=\"_blank\" href=\"https://scikit-learn.org/1.6/modules/generated/sklearn.preprocessing.LabelEncoder.html\">?<span>Documentation for LabelEncoder</span></a><span class=\"sk-estimator-doc-link fitted\">i<span>Fitted</span></span></div></label><div class=\"sk-toggleable__content fitted\"><pre>LabelEncoder()</pre></div> </div></div></div></div>"
            ],
            "text/plain": [
              "LabelEncoder()"
            ]
          },
          "execution_count": 34,
          "metadata": {},
          "output_type": "execute_result"
        }
      ],
      "source": [
        "# Mengonversi Data Kategorikal menjadi Numerik (Label Encoding)\n",
        "cat_columns = ['cb_person_default_on_file', 'person_home_ownership','loan_intent']\n",
        "\n",
        "default_on_file = LabelEncoder()\n",
        "default_on_file.fit( data[cat_columns[0]])\n",
        "\n",
        "home = LabelEncoder()\n",
        "home.fit( data[cat_columns[1]] )\n",
        "\n",
        "loan = LabelEncoder()\n",
        "loan.fit( data[cat_columns[2]] )"
      ]
    },
    {
      "cell_type": "code",
      "execution_count": 35,
      "metadata": {
        "colab": {
          "base_uri": "https://localhost:8080/"
        },
        "id": "jlL7-BbGZEfz",
        "outputId": "f4ca99a6-defe-48d8-cd14-c47c0ed4c1d0"
      },
      "outputs": [
        {
          "name": "stdout",
          "output_type": "stream",
          "text": [
            "['N' 'Y']\n",
            "['MORTGAGE' 'OTHER' 'OWN' 'RENT']\n",
            "['DEBTCONSOLIDATION' 'EDUCATION' 'HOMEIMPROVEMENT' 'MEDICAL' 'PERSONAL'\n",
            " 'VENTURE']\n"
          ]
        }
      ],
      "source": [
        "print(default_on_file.classes_)\n",
        "print(home.classes_)\n",
        "print(loan.classes_)"
      ]
    },
    {
      "cell_type": "code",
      "execution_count": 36,
      "metadata": {
        "colab": {
          "base_uri": "https://localhost:8080/"
        },
        "id": "_LioSH_FbfH-",
        "outputId": "6ebc9329-bc22-4dde-8a46-069c1de599aa"
      },
      "outputs": [
        {
          "name": "stdout",
          "output_type": "stream",
          "text": [
            "[0 1]\n",
            "[0 1 2 3]\n",
            "[0 1 2 3 4 5]\n"
          ]
        }
      ],
      "source": [
        "print(default_on_file.transform(default_on_file.classes_) )\n",
        "print(home.transform(home.classes_) )\n",
        "print(loan.transform(loan.classes_) )"
      ]
    },
    {
      "cell_type": "code",
      "execution_count": 37,
      "metadata": {
        "colab": {
          "base_uri": "https://localhost:8080/"
        },
        "id": "UCONrNiwar7M",
        "outputId": "f927ff62-d932-4228-e487-833ad04a45f5"
      },
      "outputs": [
        {
          "data": {
            "text/plain": [
              "np.int64(0)"
            ]
          },
          "execution_count": 37,
          "metadata": {},
          "output_type": "execute_result"
        }
      ],
      "source": [
        "default_on_file.transform(['N'])[0]"
      ]
    },
    {
      "cell_type": "code",
      "execution_count": 38,
      "metadata": {
        "colab": {
          "base_uri": "https://localhost:8080/",
          "height": 458
        },
        "id": "8Pn_fL1aZJJd",
        "outputId": "77d28647-d8e3-4236-c7d3-fdec61bc8f6e"
      },
      "outputs": [
        {
          "data": {
            "text/plain": [
              "0      0\n",
              "1      0\n",
              "2      0\n",
              "3      1\n",
              "4      0\n",
              "      ..\n",
              "441    0\n",
              "442    0\n",
              "443    0\n",
              "444    0\n",
              "445    0\n",
              "Name: cb_person_default_on_file, Length: 446, dtype: int64"
            ]
          },
          "execution_count": 38,
          "metadata": {},
          "output_type": "execute_result"
        }
      ],
      "source": [
        "data[cat_columns[0] ].apply( lambda x: default_on_file.transform([x])[0] )"
      ]
    },
    {
      "cell_type": "code",
      "execution_count": 39,
      "metadata": {
        "id": "jozUYlMwcAFC"
      },
      "outputs": [],
      "source": [
        "# Konversi data kategorikal menjadi data numerik\n",
        "data[cat_columns[0] ] = data[cat_columns[0] ].apply( lambda x: default_on_file.transform([x])[0] )\n",
        "data[cat_columns[1] ] = data[cat_columns[1] ].apply( lambda x: home.transform([x])[0] )\n",
        "data[cat_columns[2] ] = data[cat_columns[2] ].apply( lambda x: loan.transform([x])[0] )"
      ]
    },
    {
      "cell_type": "code",
      "execution_count": 40,
      "metadata": {
        "colab": {
          "base_uri": "https://localhost:8080/",
          "height": 226
        },
        "id": "vn-igcyEa3vr",
        "outputId": "811d7166-9928-40bc-db55-b045ca40d6d1"
      },
      "outputs": [
        {
          "data": {
            "text/html": [
              "<div>\n",
              "<style scoped>\n",
              "    .dataframe tbody tr th:only-of-type {\n",
              "        vertical-align: middle;\n",
              "    }\n",
              "\n",
              "    .dataframe tbody tr th {\n",
              "        vertical-align: top;\n",
              "    }\n",
              "\n",
              "    .dataframe thead th {\n",
              "        text-align: right;\n",
              "    }\n",
              "</style>\n",
              "<table border=\"1\" class=\"dataframe\">\n",
              "  <thead>\n",
              "    <tr style=\"text-align: right;\">\n",
              "      <th></th>\n",
              "      <th>person_age</th>\n",
              "      <th>person_income</th>\n",
              "      <th>person_home_ownership</th>\n",
              "      <th>person_emp_length</th>\n",
              "      <th>loan_intent</th>\n",
              "      <th>loan_grade</th>\n",
              "      <th>loan_amnt</th>\n",
              "      <th>loan_int_rate</th>\n",
              "      <th>loan_status</th>\n",
              "      <th>loan_percent_income</th>\n",
              "      <th>cb_person_default_on_file</th>\n",
              "      <th>cb_person_cred_hist_length</th>\n",
              "    </tr>\n",
              "  </thead>\n",
              "  <tbody>\n",
              "    <tr>\n",
              "      <th>0</th>\n",
              "      <td>35</td>\n",
              "      <td>70452</td>\n",
              "      <td>0</td>\n",
              "      <td>1.0</td>\n",
              "      <td>1</td>\n",
              "      <td>C</td>\n",
              "      <td>8420</td>\n",
              "      <td>11.20</td>\n",
              "      <td>0</td>\n",
              "      <td>0.09</td>\n",
              "      <td>0</td>\n",
              "      <td>9</td>\n",
              "    </tr>\n",
              "    <tr>\n",
              "      <th>1</th>\n",
              "      <td>23</td>\n",
              "      <td>73884</td>\n",
              "      <td>0</td>\n",
              "      <td>9.0</td>\n",
              "      <td>1</td>\n",
              "      <td>C</td>\n",
              "      <td>8977</td>\n",
              "      <td>8.47</td>\n",
              "      <td>0</td>\n",
              "      <td>0.12</td>\n",
              "      <td>0</td>\n",
              "      <td>6</td>\n",
              "    </tr>\n",
              "    <tr>\n",
              "      <th>2</th>\n",
              "      <td>31</td>\n",
              "      <td>153332</td>\n",
              "      <td>0</td>\n",
              "      <td>32.0</td>\n",
              "      <td>1</td>\n",
              "      <td>A</td>\n",
              "      <td>8779</td>\n",
              "      <td>6.14</td>\n",
              "      <td>0</td>\n",
              "      <td>0.04</td>\n",
              "      <td>0</td>\n",
              "      <td>4</td>\n",
              "    </tr>\n",
              "    <tr>\n",
              "      <th>3</th>\n",
              "      <td>24</td>\n",
              "      <td>28689</td>\n",
              "      <td>0</td>\n",
              "      <td>2.0</td>\n",
              "      <td>1</td>\n",
              "      <td>C</td>\n",
              "      <td>7569</td>\n",
              "      <td>10.05</td>\n",
              "      <td>0</td>\n",
              "      <td>0.20</td>\n",
              "      <td>1</td>\n",
              "      <td>7</td>\n",
              "    </tr>\n",
              "    <tr>\n",
              "      <th>4</th>\n",
              "      <td>32</td>\n",
              "      <td>48881</td>\n",
              "      <td>2</td>\n",
              "      <td>8.0</td>\n",
              "      <td>0</td>\n",
              "      <td>A</td>\n",
              "      <td>21342</td>\n",
              "      <td>9.73</td>\n",
              "      <td>0</td>\n",
              "      <td>0.43</td>\n",
              "      <td>0</td>\n",
              "      <td>13</td>\n",
              "    </tr>\n",
              "  </tbody>\n",
              "</table>\n",
              "</div>"
            ],
            "text/plain": [
              "   person_age  person_income  person_home_ownership  person_emp_length  \\\n",
              "0          35          70452                      0                1.0   \n",
              "1          23          73884                      0                9.0   \n",
              "2          31         153332                      0               32.0   \n",
              "3          24          28689                      0                2.0   \n",
              "4          32          48881                      2                8.0   \n",
              "\n",
              "   loan_intent loan_grade  loan_amnt  loan_int_rate  loan_status  \\\n",
              "0            1          C       8420          11.20            0   \n",
              "1            1          C       8977           8.47            0   \n",
              "2            1          A       8779           6.14            0   \n",
              "3            1          C       7569          10.05            0   \n",
              "4            0          A      21342           9.73            0   \n",
              "\n",
              "   loan_percent_income  cb_person_default_on_file  cb_person_cred_hist_length  \n",
              "0                 0.09                          0                           9  \n",
              "1                 0.12                          0                           6  \n",
              "2                 0.04                          0                           4  \n",
              "3                 0.20                          1                           7  \n",
              "4                 0.43                          0                          13  "
            ]
          },
          "execution_count": 40,
          "metadata": {},
          "output_type": "execute_result"
        }
      ],
      "source": [
        "data.head()"
      ]
    },
    {
      "cell_type": "code",
      "execution_count": 41,
      "metadata": {
        "colab": {
          "base_uri": "https://localhost:8080/",
          "height": 577
        },
        "id": "B977QqvBdsqJ",
        "outputId": "b58518ad-cbf3-4dab-f7df-1db0c5e093fe"
      },
      "outputs": [
        {
          "data": {
            "image/png": "[encoded data removed]",
            "text/plain": [
              "<Figure size 1500x800 with 2 Axes>"
            ]
          },
          "metadata": {},
          "output_type": "display_data"
        }
      ],
      "source": [
        "# periksa korelasi antar kolom\n",
        "fig, ax = plt.subplots()\n",
        "fig.set_size_inches(15,8)\n",
        "sns.heatmap(data.select_dtypes(include=np.number).corr(), vmax =1., square = True, annot = True,cmap='Greens' )\n",
        "plt.title('Korelasi Kolom',fontsize=15);"
      ]
    },
    {
      "cell_type": "markdown",
      "metadata": {
        "id": "YvfeJonS0uqn"
      },
      "source": [
        "## 6. Prapemrosesan Data"
      ]
    },
    {
      "cell_type": "markdown",
      "metadata": {
        "id": "GGDPHkWh-l8u"
      },
      "source": [
        "Preproses data: sesuaikan porsi data berdasarkan loan_status"
      ]
    },
    {
      "cell_type": "code",
      "execution_count": 42,
      "metadata": {
        "colab": {
          "base_uri": "https://localhost:8080/",
          "height": 178
        },
        "id": "4r6zPNL56p_V",
        "outputId": "7ec28530-2947-4216-b9d3-e7f10f831a82"
      },
      "outputs": [
        {
          "data": {
            "text/plain": [
              "loan_status\n",
              "0    347\n",
              "1     99\n",
              "Name: count, dtype: int64"
            ]
          },
          "execution_count": 42,
          "metadata": {},
          "output_type": "execute_result"
        }
      ],
      "source": [
        "data['loan_status'].value_counts()"
      ]
    },
    {
      "cell_type": "code",
      "execution_count": 43,
      "metadata": {
        "id": "K8pi2-EpgUGK"
      },
      "outputs": [],
      "source": [
        "cleaned_data = data.copy()"
      ]
    },
    {
      "cell_type": "code",
      "execution_count": 44,
      "metadata": {
        "colab": {
          "base_uri": "https://localhost:8080/"
        },
        "id": "9MELWlAd-R2X",
        "outputId": "3c5c3bb3-3f9f-44d5-ceb6-0ff7d47e1218"
      },
      "outputs": [
        {
          "name": "stdout",
          "output_type": "stream",
          "text": [
            "<class 'pandas.core.frame.DataFrame'>\n",
            "RangeIndex: 446 entries, 0 to 445\n",
            "Data columns (total 12 columns):\n",
            " #   Column                      Non-Null Count  Dtype  \n",
            "---  ------                      --------------  -----  \n",
            " 0   person_age                  446 non-null    int64  \n",
            " 1   person_income               446 non-null    int64  \n",
            " 2   person_home_ownership       446 non-null    int64  \n",
            " 3   person_emp_length           446 non-null    float64\n",
            " 4   loan_intent                 446 non-null    int64  \n",
            " 5   loan_grade                  446 non-null    object \n",
            " 6   loan_amnt                   446 non-null    int64  \n",
            " 7   loan_int_rate               446 non-null    float64\n",
            " 8   loan_status                 446 non-null    int64  \n",
            " 9   loan_percent_income         446 non-null    float64\n",
            " 10  cb_person_default_on_file   446 non-null    int64  \n",
            " 11  cb_person_cred_hist_length  446 non-null    int64  \n",
            "dtypes: float64(3), int64(8), object(1)\n",
            "memory usage: 41.9+ KB\n"
          ]
        }
      ],
      "source": [
        "cleaned_data.info()"
      ]
    },
    {
      "cell_type": "code",
      "execution_count": 45,
      "metadata": {
        "colab": {
          "base_uri": "https://localhost:8080/",
          "height": 178
        },
        "id": "gX-AoLfk-VUr",
        "outputId": "c6dfb0d3-3c24-449e-fc02-ebd293689c71"
      },
      "outputs": [
        {
          "data": {
            "text/plain": [
              "loan_status\n",
              "0    347\n",
              "1     99\n",
              "Name: count, dtype: int64"
            ]
          },
          "execution_count": 45,
          "metadata": {},
          "output_type": "execute_result"
        }
      ],
      "source": [
        "cleaned_data['loan_status'].value_counts()"
      ]
    },
    {
      "cell_type": "code",
      "execution_count": 46,
      "metadata": {
        "id": "awjEAZasgkyW"
      },
      "outputs": [],
      "source": [
        "rus = RandomUnderSampler(random_state=42)\n",
        "\n",
        "X, y = rus.fit_resample( cleaned_data.drop([\"loan_status\"], axis=1), cleaned_data[\"loan_status\"])"
      ]
    },
    {
      "cell_type": "code",
      "execution_count": 47,
      "metadata": {
        "colab": {
          "base_uri": "https://localhost:8080/",
          "height": 178
        },
        "id": "R_No8aoFijJs",
        "outputId": "1a4877b2-3be1-4502-9fa1-08fd4a64862a"
      },
      "outputs": [
        {
          "data": {
            "text/plain": [
              "loan_status\n",
              "0    99\n",
              "1    99\n",
              "Name: count, dtype: int64"
            ]
          },
          "execution_count": 47,
          "metadata": {},
          "output_type": "execute_result"
        }
      ],
      "source": [
        "y.value_counts()"
      ]
    },
    {
      "cell_type": "code",
      "execution_count": 48,
      "metadata": {
        "colab": {
          "base_uri": "https://localhost:8080/",
          "height": 241
        },
        "id": "O0C05hSC-iqJ",
        "outputId": "53597365-f785-49bd-e227-e61845764d01"
      },
      "outputs": [
        {
          "data": {
            "text/plain": [
              "417    0\n",
              "153    0\n",
              "421    0\n",
              "353    0\n",
              "401    0\n",
              "Name: loan_status, dtype: int64"
            ]
          },
          "execution_count": 48,
          "metadata": {},
          "output_type": "execute_result"
        }
      ],
      "source": [
        "y.head()"
      ]
    },
    {
      "cell_type": "code",
      "execution_count": 50,
      "metadata": {
        "colab": {
          "base_uri": "https://localhost:8080/",
          "height": 226
        },
        "id": "wK1hn-MK-0AV",
        "outputId": "86aaf22c-e510-4c74-d6b7-0b9f60c6ce7c"
      },
      "outputs": [
        {
          "data": {
            "text/html": [
              "<div>\n",
              "<style scoped>\n",
              "    .dataframe tbody tr th:only-of-type {\n",
              "        vertical-align: middle;\n",
              "    }\n",
              "\n",
              "    .dataframe tbody tr th {\n",
              "        vertical-align: top;\n",
              "    }\n",
              "\n",
              "    .dataframe thead th {\n",
              "        text-align: right;\n",
              "    }\n",
              "</style>\n",
              "<table border=\"1\" class=\"dataframe\">\n",
              "  <thead>\n",
              "    <tr style=\"text-align: right;\">\n",
              "      <th></th>\n",
              "      <th>person_age</th>\n",
              "      <th>person_income</th>\n",
              "      <th>person_home_ownership</th>\n",
              "      <th>person_emp_length</th>\n",
              "      <th>loan_intent</th>\n",
              "      <th>loan_grade</th>\n",
              "      <th>loan_amnt</th>\n",
              "      <th>loan_int_rate</th>\n",
              "      <th>loan_percent_income</th>\n",
              "      <th>cb_person_default_on_file</th>\n",
              "      <th>cb_person_cred_hist_length</th>\n",
              "    </tr>\n",
              "  </thead>\n",
              "  <tbody>\n",
              "    <tr>\n",
              "      <th>417</th>\n",
              "      <td>31</td>\n",
              "      <td>152726</td>\n",
              "      <td>0</td>\n",
              "      <td>0.0</td>\n",
              "      <td>5</td>\n",
              "      <td>E</td>\n",
              "      <td>5394</td>\n",
              "      <td>8.36</td>\n",
              "      <td>0.02</td>\n",
              "      <td>0</td>\n",
              "      <td>6</td>\n",
              "    </tr>\n",
              "    <tr>\n",
              "      <th>153</th>\n",
              "      <td>22</td>\n",
              "      <td>44351</td>\n",
              "      <td>0</td>\n",
              "      <td>10.0</td>\n",
              "      <td>0</td>\n",
              "      <td>D</td>\n",
              "      <td>10572</td>\n",
              "      <td>13.49</td>\n",
              "      <td>0.26</td>\n",
              "      <td>0</td>\n",
              "      <td>3</td>\n",
              "    </tr>\n",
              "    <tr>\n",
              "      <th>421</th>\n",
              "      <td>34</td>\n",
              "      <td>52229</td>\n",
              "      <td>2</td>\n",
              "      <td>0.0</td>\n",
              "      <td>0</td>\n",
              "      <td>A</td>\n",
              "      <td>8345</td>\n",
              "      <td>7.51</td>\n",
              "      <td>0.20</td>\n",
              "      <td>0</td>\n",
              "      <td>9</td>\n",
              "    </tr>\n",
              "    <tr>\n",
              "      <th>353</th>\n",
              "      <td>25</td>\n",
              "      <td>50699</td>\n",
              "      <td>0</td>\n",
              "      <td>4.0</td>\n",
              "      <td>2</td>\n",
              "      <td>A</td>\n",
              "      <td>3896</td>\n",
              "      <td>6.23</td>\n",
              "      <td>0.07</td>\n",
              "      <td>0</td>\n",
              "      <td>8</td>\n",
              "    </tr>\n",
              "    <tr>\n",
              "      <th>401</th>\n",
              "      <td>31</td>\n",
              "      <td>71935</td>\n",
              "      <td>0</td>\n",
              "      <td>2.0</td>\n",
              "      <td>2</td>\n",
              "      <td>C</td>\n",
              "      <td>9191</td>\n",
              "      <td>7.71</td>\n",
              "      <td>0.13</td>\n",
              "      <td>0</td>\n",
              "      <td>13</td>\n",
              "    </tr>\n",
              "  </tbody>\n",
              "</table>\n",
              "</div>"
            ],
            "text/plain": [
              "     person_age  person_income  person_home_ownership  person_emp_length  \\\n",
              "417          31         152726                      0                0.0   \n",
              "153          22          44351                      0               10.0   \n",
              "421          34          52229                      2                0.0   \n",
              "353          25          50699                      0                4.0   \n",
              "401          31          71935                      0                2.0   \n",
              "\n",
              "     loan_intent loan_grade  loan_amnt  loan_int_rate  loan_percent_income  \\\n",
              "417            5          E       5394           8.36                 0.02   \n",
              "153            0          D      10572          13.49                 0.26   \n",
              "421            0          A       8345           7.51                 0.20   \n",
              "353            2          A       3896           6.23                 0.07   \n",
              "401            2          C       9191           7.71                 0.13   \n",
              "\n",
              "     cb_person_default_on_file  cb_person_cred_hist_length  \n",
              "417                          0                           6  \n",
              "153                          0                           3  \n",
              "421                          0                           9  \n",
              "353                          0                           8  \n",
              "401                          0                          13  "
            ]
          },
          "execution_count": 50,
          "metadata": {},
          "output_type": "execute_result"
        }
      ],
      "source": [
        "X.head()"
      ]
    },
    {
      "cell_type": "markdown",
      "metadata": {
        "id": "_FCwS_Mk-q8F"
      },
      "source": [
        "Proses data"
      ]
    },
    {
      "cell_type": "code",
      "execution_count": 51,
      "metadata": {
        "execution": {
          "iopub.execute_input": "2023-08-23T18:47:47.878331Z",
          "iopub.status.busy": "2023-08-23T18:47:47.877957Z",
          "iopub.status.idle": "2023-08-23T18:47:47.891426Z",
          "shell.execute_reply": "2023-08-23T18:47:47.890231Z",
          "shell.execute_reply.started": "2023-08-23T18:47:47.878302Z"
        },
        "id": "r-rfhjAJ0uqn",
        "trusted": true
      },
      "outputs": [],
      "source": [
        "# Mengahpus kolom 'loan grade'\n",
        "X = X.drop(['loan_grade'], axis=1)"
      ]
    },
    {
      "cell_type": "code",
      "execution_count": 52,
      "metadata": {
        "execution": {
          "iopub.execute_input": "2023-08-23T18:47:47.893475Z",
          "iopub.status.busy": "2023-08-23T18:47:47.89285Z",
          "iopub.status.idle": "2023-08-23T18:47:48.080655Z",
          "shell.execute_reply": "2023-08-23T18:47:48.079436Z",
          "shell.execute_reply.started": "2023-08-23T18:47:47.893434Z"
        },
        "id": "wt1UbZ7N0uqn",
        "trusted": true
      },
      "outputs": [],
      "source": [
        "# Pembagian Data untuk Pelatihan dan Pengujian\n",
        "x_train, x_test, y_train, y_test = train_test_split(X, y,test_size=0.3,random_state=42)"
      ]
    },
    {
      "cell_type": "code",
      "execution_count": 53,
      "metadata": {
        "colab": {
          "base_uri": "https://localhost:8080/"
        },
        "execution": {
          "iopub.execute_input": "2023-08-23T18:47:48.082604Z",
          "iopub.status.busy": "2023-08-23T18:47:48.082162Z",
          "iopub.status.idle": "2023-08-23T18:47:48.089072Z",
          "shell.execute_reply": "2023-08-23T18:47:48.08792Z",
          "shell.execute_reply.started": "2023-08-23T18:47:48.082561Z"
        },
        "id": "OXoG8Rxv0uqo",
        "outputId": "a0a74d62-fbdf-41a3-c3e1-af90ac8f0aa0",
        "trusted": true
      },
      "outputs": [
        {
          "name": "stdout",
          "output_type": "stream",
          "text": [
            "(138, 10) (60, 10)\n"
          ]
        }
      ],
      "source": [
        "print(x_train.shape,x_test.shape)"
      ]
    },
    {
      "cell_type": "code",
      "execution_count": 54,
      "metadata": {
        "colab": {
          "base_uri": "https://localhost:8080/"
        },
        "execution": {
          "iopub.execute_input": "2023-08-23T18:47:48.104759Z",
          "iopub.status.busy": "2023-08-23T18:47:48.10432Z",
          "iopub.status.idle": "2023-08-23T18:47:48.116569Z",
          "shell.execute_reply": "2023-08-23T18:47:48.11541Z",
          "shell.execute_reply.started": "2023-08-23T18:47:48.104718Z"
        },
        "id": "xc2jkPcI0uqp",
        "outputId": "1f39b164-9b96-4bb5-8018-6460d7b0c279",
        "trusted": true
      },
      "outputs": [
        {
          "data": {
            "text/plain": [
              "Index(['person_age', 'person_income', 'person_home_ownership',\n",
              "       'person_emp_length', 'loan_intent', 'loan_amnt', 'loan_int_rate',\n",
              "       'loan_percent_income', 'cb_person_default_on_file',\n",
              "       'cb_person_cred_hist_length'],\n",
              "      dtype='object')"
            ]
          },
          "execution_count": 54,
          "metadata": {},
          "output_type": "execute_result"
        }
      ],
      "source": [
        "x_train.columns"
      ]
    },
    {
      "cell_type": "code",
      "execution_count": 55,
      "metadata": {
        "colab": {
          "base_uri": "https://localhost:8080/"
        },
        "id": "I8LYU5A_AdRI",
        "outputId": "fd865e61-d037-4b3f-fa94-6fa3d32b0939"
      },
      "outputs": [
        {
          "name": "stdout",
          "output_type": "stream",
          "text": [
            "<class 'pandas.core.series.Series'>\n",
            "Index: 138 entries, 3 to 12\n",
            "Series name: loan_status\n",
            "Non-Null Count  Dtype\n",
            "--------------  -----\n",
            "138 non-null    int64\n",
            "dtypes: int64(1)\n",
            "memory usage: 2.2 KB\n"
          ]
        }
      ],
      "source": [
        "y_train.info()"
      ]
    },
    {
      "cell_type": "code",
      "execution_count": 56,
      "metadata": {
        "colab": {
          "base_uri": "https://localhost:8080/"
        },
        "id": "LwOZUI4BMYwK",
        "outputId": "e331ccde-46c7-4be3-e2dc-dfc42734c8ed"
      },
      "outputs": [
        {
          "name": "stdout",
          "output_type": "stream",
          "text": [
            "<class 'pandas.core.series.Series'>\n",
            "Index: 60 entries, 127 to 270\n",
            "Series name: loan_status\n",
            "Non-Null Count  Dtype\n",
            "--------------  -----\n",
            "60 non-null     int64\n",
            "dtypes: int64(1)\n",
            "memory usage: 960.0 bytes\n"
          ]
        }
      ],
      "source": [
        "y_test.info()"
      ]
    },
    {
      "cell_type": "code",
      "execution_count": 57,
      "metadata": {
        "colab": {
          "base_uri": "https://localhost:8080/"
        },
        "id": "pHH5YrKAja6v",
        "outputId": "eaefb28b-a582-4611-c7e4-c6006c540404"
      },
      "outputs": [
        {
          "name": "stdout",
          "output_type": "stream",
          "text": [
            "<class 'pandas.core.frame.DataFrame'>\n",
            "Index: 138 entries, 3 to 12\n",
            "Data columns (total 10 columns):\n",
            " #   Column                      Non-Null Count  Dtype  \n",
            "---  ------                      --------------  -----  \n",
            " 0   person_age                  138 non-null    int64  \n",
            " 1   person_income               138 non-null    int64  \n",
            " 2   person_home_ownership       138 non-null    int64  \n",
            " 3   person_emp_length           138 non-null    float64\n",
            " 4   loan_intent                 138 non-null    int64  \n",
            " 5   loan_amnt                   138 non-null    int64  \n",
            " 6   loan_int_rate               138 non-null    float64\n",
            " 7   loan_percent_income         138 non-null    float64\n",
            " 8   cb_person_default_on_file   138 non-null    int64  \n",
            " 9   cb_person_cred_hist_length  138 non-null    int64  \n",
            "dtypes: float64(3), int64(7)\n",
            "memory usage: 11.9 KB\n"
          ]
        }
      ],
      "source": [
        "x_train.info()"
      ]
    },
    {
      "cell_type": "code",
      "execution_count": 58,
      "metadata": {
        "colab": {
          "base_uri": "https://localhost:8080/",
          "height": 226
        },
        "id": "pxVtx1PIkimt",
        "outputId": "d760d84d-1d44-40f6-c162-c8f1a1803998"
      },
      "outputs": [
        {
          "data": {
            "text/html": [
              "<div>\n",
              "<style scoped>\n",
              "    .dataframe tbody tr th:only-of-type {\n",
              "        vertical-align: middle;\n",
              "    }\n",
              "\n",
              "    .dataframe tbody tr th {\n",
              "        vertical-align: top;\n",
              "    }\n",
              "\n",
              "    .dataframe thead th {\n",
              "        text-align: right;\n",
              "    }\n",
              "</style>\n",
              "<table border=\"1\" class=\"dataframe\">\n",
              "  <thead>\n",
              "    <tr style=\"text-align: right;\">\n",
              "      <th></th>\n",
              "      <th>person_age</th>\n",
              "      <th>person_income</th>\n",
              "      <th>person_home_ownership</th>\n",
              "      <th>person_emp_length</th>\n",
              "      <th>loan_intent</th>\n",
              "      <th>loan_amnt</th>\n",
              "      <th>loan_int_rate</th>\n",
              "      <th>loan_percent_income</th>\n",
              "      <th>cb_person_default_on_file</th>\n",
              "      <th>cb_person_cred_hist_length</th>\n",
              "    </tr>\n",
              "  </thead>\n",
              "  <tbody>\n",
              "    <tr>\n",
              "      <th>38</th>\n",
              "      <td>27</td>\n",
              "      <td>47157</td>\n",
              "      <td>3</td>\n",
              "      <td>0.0</td>\n",
              "      <td>5</td>\n",
              "      <td>8401</td>\n",
              "      <td>15.12</td>\n",
              "      <td>0.20</td>\n",
              "      <td>1</td>\n",
              "      <td>7</td>\n",
              "    </tr>\n",
              "    <tr>\n",
              "      <th>296</th>\n",
              "      <td>25</td>\n",
              "      <td>23984</td>\n",
              "      <td>3</td>\n",
              "      <td>0.0</td>\n",
              "      <td>4</td>\n",
              "      <td>3550</td>\n",
              "      <td>7.08</td>\n",
              "      <td>0.16</td>\n",
              "      <td>0</td>\n",
              "      <td>6</td>\n",
              "    </tr>\n",
              "    <tr>\n",
              "      <th>30</th>\n",
              "      <td>31</td>\n",
              "      <td>91701</td>\n",
              "      <td>0</td>\n",
              "      <td>1.0</td>\n",
              "      <td>2</td>\n",
              "      <td>23188</td>\n",
              "      <td>8.20</td>\n",
              "      <td>0.36</td>\n",
              "      <td>0</td>\n",
              "      <td>9</td>\n",
              "    </tr>\n",
              "    <tr>\n",
              "      <th>334</th>\n",
              "      <td>43</td>\n",
              "      <td>51722</td>\n",
              "      <td>3</td>\n",
              "      <td>9.0</td>\n",
              "      <td>3</td>\n",
              "      <td>21358</td>\n",
              "      <td>13.14</td>\n",
              "      <td>0.48</td>\n",
              "      <td>0</td>\n",
              "      <td>12</td>\n",
              "    </tr>\n",
              "    <tr>\n",
              "      <th>12</th>\n",
              "      <td>22</td>\n",
              "      <td>36902</td>\n",
              "      <td>3</td>\n",
              "      <td>20.0</td>\n",
              "      <td>1</td>\n",
              "      <td>8119</td>\n",
              "      <td>11.93</td>\n",
              "      <td>0.25</td>\n",
              "      <td>0</td>\n",
              "      <td>3</td>\n",
              "    </tr>\n",
              "  </tbody>\n",
              "</table>\n",
              "</div>"
            ],
            "text/plain": [
              "     person_age  person_income  person_home_ownership  person_emp_length  \\\n",
              "38           27          47157                      3                0.0   \n",
              "296          25          23984                      3                0.0   \n",
              "30           31          91701                      0                1.0   \n",
              "334          43          51722                      3                9.0   \n",
              "12           22          36902                      3               20.0   \n",
              "\n",
              "     loan_intent  loan_amnt  loan_int_rate  loan_percent_income  \\\n",
              "38             5       8401          15.12                 0.20   \n",
              "296            4       3550           7.08                 0.16   \n",
              "30             2      23188           8.20                 0.36   \n",
              "334            3      21358          13.14                 0.48   \n",
              "12             1       8119          11.93                 0.25   \n",
              "\n",
              "     cb_person_default_on_file  cb_person_cred_hist_length  \n",
              "38                           1                           7  \n",
              "296                          0                           6  \n",
              "30                           0                           9  \n",
              "334                          0                          12  \n",
              "12                           0                           3  "
            ]
          },
          "execution_count": 58,
          "metadata": {},
          "output_type": "execute_result"
        }
      ],
      "source": [
        "x_train.tail()"
      ]
    },
    {
      "cell_type": "code",
      "execution_count": 59,
      "metadata": {
        "colab": {
          "base_uri": "https://localhost:8080/",
          "height": 241
        },
        "id": "jXClHJOSklpQ",
        "outputId": "0895b251-d425-4e98-877e-ae50b94315ae"
      },
      "outputs": [
        {
          "data": {
            "text/plain": [
              "38     1\n",
              "296    0\n",
              "30     0\n",
              "334    1\n",
              "12     1\n",
              "Name: loan_status, dtype: int64"
            ]
          },
          "execution_count": 59,
          "metadata": {},
          "output_type": "execute_result"
        }
      ],
      "source": [
        "y_train.tail()"
      ]
    },
    {
      "cell_type": "code",
      "execution_count": 60,
      "metadata": {
        "colab": {
          "base_uri": "https://localhost:8080/",
          "height": 226
        },
        "id": "26AhOQkhkr7n",
        "outputId": "eef79b50-c04f-4792-fbcf-42d3fcf74129"
      },
      "outputs": [
        {
          "data": {
            "text/html": [
              "<div>\n",
              "<style scoped>\n",
              "    .dataframe tbody tr th:only-of-type {\n",
              "        vertical-align: middle;\n",
              "    }\n",
              "\n",
              "    .dataframe tbody tr th {\n",
              "        vertical-align: top;\n",
              "    }\n",
              "\n",
              "    .dataframe thead th {\n",
              "        text-align: right;\n",
              "    }\n",
              "</style>\n",
              "<table border=\"1\" class=\"dataframe\">\n",
              "  <thead>\n",
              "    <tr style=\"text-align: right;\">\n",
              "      <th></th>\n",
              "      <th>person_age</th>\n",
              "      <th>person_income</th>\n",
              "      <th>person_home_ownership</th>\n",
              "      <th>person_emp_length</th>\n",
              "      <th>loan_intent</th>\n",
              "      <th>loan_amnt</th>\n",
              "      <th>loan_int_rate</th>\n",
              "      <th>loan_percent_income</th>\n",
              "      <th>cb_person_default_on_file</th>\n",
              "      <th>cb_person_cred_hist_length</th>\n",
              "    </tr>\n",
              "  </thead>\n",
              "  <tbody>\n",
              "    <tr>\n",
              "      <th>127</th>\n",
              "      <td>35</td>\n",
              "      <td>52393</td>\n",
              "      <td>0</td>\n",
              "      <td>0.0</td>\n",
              "      <td>1</td>\n",
              "      <td>1104</td>\n",
              "      <td>7.57</td>\n",
              "      <td>0.02</td>\n",
              "      <td>0</td>\n",
              "      <td>6</td>\n",
              "    </tr>\n",
              "    <tr>\n",
              "      <th>73</th>\n",
              "      <td>23</td>\n",
              "      <td>50665</td>\n",
              "      <td>0</td>\n",
              "      <td>0.0</td>\n",
              "      <td>5</td>\n",
              "      <td>20770</td>\n",
              "      <td>17.03</td>\n",
              "      <td>0.41</td>\n",
              "      <td>1</td>\n",
              "      <td>5</td>\n",
              "    </tr>\n",
              "    <tr>\n",
              "      <th>387</th>\n",
              "      <td>23</td>\n",
              "      <td>55111</td>\n",
              "      <td>0</td>\n",
              "      <td>22.0</td>\n",
              "      <td>4</td>\n",
              "      <td>17683</td>\n",
              "      <td>10.31</td>\n",
              "      <td>0.33</td>\n",
              "      <td>0</td>\n",
              "      <td>6</td>\n",
              "    </tr>\n",
              "    <tr>\n",
              "      <th>181</th>\n",
              "      <td>28</td>\n",
              "      <td>74948</td>\n",
              "      <td>0</td>\n",
              "      <td>18.0</td>\n",
              "      <td>0</td>\n",
              "      <td>9067</td>\n",
              "      <td>7.55</td>\n",
              "      <td>0.12</td>\n",
              "      <td>1</td>\n",
              "      <td>6</td>\n",
              "    </tr>\n",
              "    <tr>\n",
              "      <th>238</th>\n",
              "      <td>23</td>\n",
              "      <td>46235</td>\n",
              "      <td>0</td>\n",
              "      <td>11.0</td>\n",
              "      <td>3</td>\n",
              "      <td>28658</td>\n",
              "      <td>10.19</td>\n",
              "      <td>0.49</td>\n",
              "      <td>0</td>\n",
              "      <td>4</td>\n",
              "    </tr>\n",
              "  </tbody>\n",
              "</table>\n",
              "</div>"
            ],
            "text/plain": [
              "     person_age  person_income  person_home_ownership  person_emp_length  \\\n",
              "127          35          52393                      0                0.0   \n",
              "73           23          50665                      0                0.0   \n",
              "387          23          55111                      0               22.0   \n",
              "181          28          74948                      0               18.0   \n",
              "238          23          46235                      0               11.0   \n",
              "\n",
              "     loan_intent  loan_amnt  loan_int_rate  loan_percent_income  \\\n",
              "127            1       1104           7.57                 0.02   \n",
              "73             5      20770          17.03                 0.41   \n",
              "387            4      17683          10.31                 0.33   \n",
              "181            0       9067           7.55                 0.12   \n",
              "238            3      28658          10.19                 0.49   \n",
              "\n",
              "     cb_person_default_on_file  cb_person_cred_hist_length  \n",
              "127                          0                           6  \n",
              "73                           1                           5  \n",
              "387                          0                           6  \n",
              "181                          1                           6  \n",
              "238                          0                           4  "
            ]
          },
          "execution_count": 60,
          "metadata": {},
          "output_type": "execute_result"
        }
      ],
      "source": [
        "x_test.head()"
      ]
    },
    {
      "cell_type": "code",
      "execution_count": 61,
      "metadata": {
        "colab": {
          "base_uri": "https://localhost:8080/",
          "height": 241
        },
        "id": "OfQZcGH4kusU",
        "outputId": "27e9f746-6a8a-4a18-ccd7-5856b7941588"
      },
      "outputs": [
        {
          "data": {
            "text/plain": [
              "127    0\n",
              "73     1\n",
              "387    0\n",
              "181    1\n",
              "238    1\n",
              "Name: loan_status, dtype: int64"
            ]
          },
          "execution_count": 61,
          "metadata": {},
          "output_type": "execute_result"
        }
      ],
      "source": [
        "y_test.head()"
      ]
    },
    {
      "cell_type": "markdown",
      "metadata": {
        "id": "SSrfsO0G0uqt"
      },
      "source": [
        "## 7. Pelatihan & Pengujian Sklearn"
      ]
    },
    {
      "cell_type": "code",
      "execution_count": 64,
      "metadata": {
        "colab": {
          "base_uri": "https://localhost:8080/",
          "height": 116
        },
        "id": "3WEx8spIodhE",
        "outputId": "04d2e86c-abbf-470e-c7a5-87783071eb44"
      },
      "outputs": [
        {
          "data": {
            "text/html": [
              "<style>#sk-container-id-4 {\n",
              "  /* Definition of color scheme common for light and dark mode */\n",
              "  --sklearn-color-text: #000;\n",
              "  --sklearn-color-text-muted: #666;\n",
              "  --sklearn-color-line: gray;\n",
              "  /* Definition of color scheme for unfitted estimators */\n",
              "  --sklearn-color-unfitted-level-0: #fff5e6;\n",
              "  --sklearn-color-unfitted-level-1: #f6e4d2;\n",
              "  --sklearn-color-unfitted-level-2: #ffe0b3;\n",
              "  --sklearn-color-unfitted-level-3: chocolate;\n",
              "  /* Definition of color scheme for fitted estimators */\n",
              "  --sklearn-color-fitted-level-0: #f0f8ff;\n",
              "  --sklearn-color-fitted-level-1: #d4ebff;\n",
              "  --sklearn-color-fitted-level-2: #b3dbfd;\n",
              "  --sklearn-color-fitted-level-3: cornflowerblue;\n",
              "\n",
              "  /* Specific color for light theme */\n",
              "  --sklearn-color-text-on-default-background: var(--sg-text-color, var(--theme-code-foreground, var(--jp-content-font-color1, black)));\n",
              "  --sklearn-color-background: var(--sg-background-color, var(--theme-background, var(--jp-layout-color0, white)));\n",
              "  --sklearn-color-border-box: var(--sg-text-color, var(--theme-code-foreground, var(--jp-content-font-color1, black)));\n",
              "  --sklearn-color-icon: #696969;\n",
              "\n",
              "  @media (prefers-color-scheme: dark) {\n",
              "    /* Redefinition of color scheme for dark theme */\n",
              "    --sklearn-color-text-on-default-background: var(--sg-text-color, var(--theme-code-foreground, var(--jp-content-font-color1, white)));\n",
              "    --sklearn-color-background: var(--sg-background-color, var(--theme-background, var(--jp-layout-color0, #111)));\n",
              "    --sklearn-color-border-box: var(--sg-text-color, var(--theme-code-foreground, var(--jp-content-font-color1, white)));\n",
              "    --sklearn-color-icon: #878787;\n",
              "  }\n",
              "}\n",
              "\n",
              "#sk-container-id-4 {\n",
              "  color: var(--sklearn-color-text);\n",
              "}\n",
              "\n",
              "#sk-container-id-4 pre {\n",
              "  padding: 0;\n",
              "}\n",
              "\n",
              "#sk-container-id-4 input.sk-hidden--visually {\n",
              "  border: 0;\n",
              "  clip: rect(1px 1px 1px 1px);\n",
              "  clip: rect(1px, 1px, 1px, 1px);\n",
              "  height: 1px;\n",
              "  margin: -1px;\n",
              "  overflow: hidden;\n",
              "  padding: 0;\n",
              "  position: absolute;\n",
              "  width: 1px;\n",
              "}\n",
              "\n",
              "#sk-container-id-4 div.sk-dashed-wrapped {\n",
              "  border: 1px dashed var(--sklearn-color-line);\n",
              "  margin: 0 0.4em 0.5em 0.4em;\n",
              "  box-sizing: border-box;\n",
              "  padding-bottom: 0.4em;\n",
              "  background-color: var(--sklearn-color-background);\n",
              "}\n",
              "\n",
              "#sk-container-id-4 div.sk-container {\n",
              "  /* jupyter's `normalize.less` sets `[hidden] { display: none; }`\n",
              "     but bootstrap.min.css set `[hidden] { display: none !important; }`\n",
              "     so we also need the `!important` here to be able to override the\n",
              "     default hidden behavior on the sphinx rendered scikit-learn.org.\n",
              "     See: https://github.com/scikit-learn/scikit-learn/issues/21755 */\n",
              "  display: inline-block !important;\n",
              "  position: relative;\n",
              "}\n",
              "\n",
              "#sk-container-id-4 div.sk-text-repr-fallback {\n",
              "  display: none;\n",
              "}\n",
              "\n",
              "div.sk-parallel-item,\n",
              "div.sk-serial,\n",
              "div.sk-item {\n",
              "  /* draw centered vertical line to link estimators */\n",
              "  background-image: linear-gradient(var(--sklearn-color-text-on-default-background), var(--sklearn-color-text-on-default-background));\n",
              "  background-size: 2px 100%;\n",
              "  background-repeat: no-repeat;\n",
              "  background-position: center center;\n",
              "}\n",
              "\n",
              "/* Parallel-specific style estimator block */\n",
              "\n",
              "#sk-container-id-4 div.sk-parallel-item::after {\n",
              "  content: \"\";\n",
              "  width: 100%;\n",
              "  border-bottom: 2px solid var(--sklearn-color-text-on-default-background);\n",
              "  flex-grow: 1;\n",
              "}\n",
              "\n",
              "#sk-container-id-4 div.sk-parallel {\n",
              "  display: flex;\n",
              "  align-items: stretch;\n",
              "  justify-content: center;\n",
              "  background-color: var(--sklearn-color-background);\n",
              "  position: relative;\n",
              "}\n",
              "\n",
              "#sk-container-id-4 div.sk-parallel-item {\n",
              "  display: flex;\n",
              "  flex-direction: column;\n",
              "}\n",
              "\n",
              "#sk-container-id-4 div.sk-parallel-item:first-child::after {\n",
              "  align-self: flex-end;\n",
              "  width: 50%;\n",
              "}\n",
              "\n",
              "#sk-container-id-4 div.sk-parallel-item:last-child::after {\n",
              "  align-self: flex-start;\n",
              "  width: 50%;\n",
              "}\n",
              "\n",
              "#sk-container-id-4 div.sk-parallel-item:only-child::after {\n",
              "  width: 0;\n",
              "}\n",
              "\n",
              "/* Serial-specific style estimator block */\n",
              "\n",
              "#sk-container-id-4 div.sk-serial {\n",
              "  display: flex;\n",
              "  flex-direction: column;\n",
              "  align-items: center;\n",
              "  background-color: var(--sklearn-color-background);\n",
              "  padding-right: 1em;\n",
              "  padding-left: 1em;\n",
              "}\n",
              "\n",
              "\n",
              "/* Toggleable style: style used for estimator/Pipeline/ColumnTransformer box that is\n",
              "clickable and can be expanded/collapsed.\n",
              "- Pipeline and ColumnTransformer use this feature and define the default style\n",
              "- Estimators will overwrite some part of the style using the `sk-estimator` class\n",
              "*/\n",
              "\n",
              "/* Pipeline and ColumnTransformer style (default) */\n",
              "\n",
              "#sk-container-id-4 div.sk-toggleable {\n",
              "  /* Default theme specific background. It is overwritten whether we have a\n",
              "  specific estimator or a Pipeline/ColumnTransformer */\n",
              "  background-color: var(--sklearn-color-background);\n",
              "}\n",
              "\n",
              "/* Toggleable label */\n",
              "#sk-container-id-4 label.sk-toggleable__label {\n",
              "  cursor: pointer;\n",
              "  display: flex;\n",
              "  width: 100%;\n",
              "  margin-bottom: 0;\n",
              "  padding: 0.5em;\n",
              "  box-sizing: border-box;\n",
              "  text-align: center;\n",
              "  align-items: start;\n",
              "  justify-content: space-between;\n",
              "  gap: 0.5em;\n",
              "}\n",
              "\n",
              "#sk-container-id-4 label.sk-toggleable__label .caption {\n",
              "  font-size: 0.6rem;\n",
              "  font-weight: lighter;\n",
              "  color: var(--sklearn-color-text-muted);\n",
              "}\n",
              "\n",
              "#sk-container-id-4 label.sk-toggleable__label-arrow:before {\n",
              "  /* Arrow on the left of the label */\n",
              "  content: \"▸\";\n",
              "  float: left;\n",
              "  margin-right: 0.25em;\n",
              "  color: var(--sklearn-color-icon);\n",
              "}\n",
              "\n",
              "#sk-container-id-4 label.sk-toggleable__label-arrow:hover:before {\n",
              "  color: var(--sklearn-color-text);\n",
              "}\n",
              "\n",
              "/* Toggleable content - dropdown */\n",
              "\n",
              "#sk-container-id-4 div.sk-toggleable__content {\n",
              "  max-height: 0;\n",
              "  max-width: 0;\n",
              "  overflow: hidden;\n",
              "  text-align: left;\n",
              "  /* unfitted */\n",
              "  background-color: var(--sklearn-color-unfitted-level-0);\n",
              "}\n",
              "\n",
              "#sk-container-id-4 div.sk-toggleable__content.fitted {\n",
              "  /* fitted */\n",
              "  background-color: var(--sklearn-color-fitted-level-0);\n",
              "}\n",
              "\n",
              "#sk-container-id-4 div.sk-toggleable__content pre {\n",
              "  margin: 0.2em;\n",
              "  border-radius: 0.25em;\n",
              "  color: var(--sklearn-color-text);\n",
              "  /* unfitted */\n",
              "  background-color: var(--sklearn-color-unfitted-level-0);\n",
              "}\n",
              "\n",
              "#sk-container-id-4 div.sk-toggleable__content.fitted pre {\n",
              "  /* unfitted */\n",
              "  background-color: var(--sklearn-color-fitted-level-0);\n",
              "}\n",
              "\n",
              "#sk-container-id-4 input.sk-toggleable__control:checked~div.sk-toggleable__content {\n",
              "  /* Expand drop-down */\n",
              "  max-height: 200px;\n",
              "  max-width: 100%;\n",
              "  overflow: auto;\n",
              "}\n",
              "\n",
              "#sk-container-id-4 input.sk-toggleable__control:checked~label.sk-toggleable__label-arrow:before {\n",
              "  content: \"▾\";\n",
              "}\n",
              "\n",
              "/* Pipeline/ColumnTransformer-specific style */\n",
              "\n",
              "#sk-container-id-4 div.sk-label input.sk-toggleable__control:checked~label.sk-toggleable__label {\n",
              "  color: var(--sklearn-color-text);\n",
              "  background-color: var(--sklearn-color-unfitted-level-2);\n",
              "}\n",
              "\n",
              "#sk-container-id-4 div.sk-label.fitted input.sk-toggleable__control:checked~label.sk-toggleable__label {\n",
              "  background-color: var(--sklearn-color-fitted-level-2);\n",
              "}\n",
              "\n",
              "/* Estimator-specific style */\n",
              "\n",
              "/* Colorize estimator box */\n",
              "#sk-container-id-4 div.sk-estimator input.sk-toggleable__control:checked~label.sk-toggleable__label {\n",
              "  /* unfitted */\n",
              "  background-color: var(--sklearn-color-unfitted-level-2);\n",
              "}\n",
              "\n",
              "#sk-container-id-4 div.sk-estimator.fitted input.sk-toggleable__control:checked~label.sk-toggleable__label {\n",
              "  /* fitted */\n",
              "  background-color: var(--sklearn-color-fitted-level-2);\n",
              "}\n",
              "\n",
              "#sk-container-id-4 div.sk-label label.sk-toggleable__label,\n",
              "#sk-container-id-4 div.sk-label label {\n",
              "  /* The background is the default theme color */\n",
              "  color: var(--sklearn-color-text-on-default-background);\n",
              "}\n",
              "\n",
              "/* On hover, darken the color of the background */\n",
              "#sk-container-id-4 div.sk-label:hover label.sk-toggleable__label {\n",
              "  color: var(--sklearn-color-text);\n",
              "  background-color: var(--sklearn-color-unfitted-level-2);\n",
              "}\n",
              "\n",
              "/* Label box, darken color on hover, fitted */\n",
              "#sk-container-id-4 div.sk-label.fitted:hover label.sk-toggleable__label.fitted {\n",
              "  color: var(--sklearn-color-text);\n",
              "  background-color: var(--sklearn-color-fitted-level-2);\n",
              "}\n",
              "\n",
              "/* Estimator label */\n",
              "\n",
              "#sk-container-id-4 div.sk-label label {\n",
              "  font-family: monospace;\n",
              "  font-weight: bold;\n",
              "  display: inline-block;\n",
              "  line-height: 1.2em;\n",
              "}\n",
              "\n",
              "#sk-container-id-4 div.sk-label-container {\n",
              "  text-align: center;\n",
              "}\n",
              "\n",
              "/* Estimator-specific */\n",
              "#sk-container-id-4 div.sk-estimator {\n",
              "  font-family: monospace;\n",
              "  border: 1px dotted var(--sklearn-color-border-box);\n",
              "  border-radius: 0.25em;\n",
              "  box-sizing: border-box;\n",
              "  margin-bottom: 0.5em;\n",
              "  /* unfitted */\n",
              "  background-color: var(--sklearn-color-unfitted-level-0);\n",
              "}\n",
              "\n",
              "#sk-container-id-4 div.sk-estimator.fitted {\n",
              "  /* fitted */\n",
              "  background-color: var(--sklearn-color-fitted-level-0);\n",
              "}\n",
              "\n",
              "/* on hover */\n",
              "#sk-container-id-4 div.sk-estimator:hover {\n",
              "  /* unfitted */\n",
              "  background-color: var(--sklearn-color-unfitted-level-2);\n",
              "}\n",
              "\n",
              "#sk-container-id-4 div.sk-estimator.fitted:hover {\n",
              "  /* fitted */\n",
              "  background-color: var(--sklearn-color-fitted-level-2);\n",
              "}\n",
              "\n",
              "/* Specification for estimator info (e.g. \"i\" and \"?\") */\n",
              "\n",
              "/* Common style for \"i\" and \"?\" */\n",
              "\n",
              ".sk-estimator-doc-link,\n",
              "a:link.sk-estimator-doc-link,\n",
              "a:visited.sk-estimator-doc-link {\n",
              "  float: right;\n",
              "  font-size: smaller;\n",
              "  line-height: 1em;\n",
              "  font-family: monospace;\n",
              "  background-color: var(--sklearn-color-background);\n",
              "  border-radius: 1em;\n",
              "  height: 1em;\n",
              "  width: 1em;\n",
              "  text-decoration: none !important;\n",
              "  margin-left: 0.5em;\n",
              "  text-align: center;\n",
              "  /* unfitted */\n",
              "  border: var(--sklearn-color-unfitted-level-1) 1pt solid;\n",
              "  color: var(--sklearn-color-unfitted-level-1);\n",
              "}\n",
              "\n",
              ".sk-estimator-doc-link.fitted,\n",
              "a:link.sk-estimator-doc-link.fitted,\n",
              "a:visited.sk-estimator-doc-link.fitted {\n",
              "  /* fitted */\n",
              "  border: var(--sklearn-color-fitted-level-1) 1pt solid;\n",
              "  color: var(--sklearn-color-fitted-level-1);\n",
              "}\n",
              "\n",
              "/* On hover */\n",
              "div.sk-estimator:hover .sk-estimator-doc-link:hover,\n",
              ".sk-estimator-doc-link:hover,\n",
              "div.sk-label-container:hover .sk-estimator-doc-link:hover,\n",
              ".sk-estimator-doc-link:hover {\n",
              "  /* unfitted */\n",
              "  background-color: var(--sklearn-color-unfitted-level-3);\n",
              "  color: var(--sklearn-color-background);\n",
              "  text-decoration: none;\n",
              "}\n",
              "\n",
              "div.sk-estimator.fitted:hover .sk-estimator-doc-link.fitted:hover,\n",
              ".sk-estimator-doc-link.fitted:hover,\n",
              "div.sk-label-container:hover .sk-estimator-doc-link.fitted:hover,\n",
              ".sk-estimator-doc-link.fitted:hover {\n",
              "  /* fitted */\n",
              "  background-color: var(--sklearn-color-fitted-level-3);\n",
              "  color: var(--sklearn-color-background);\n",
              "  text-decoration: none;\n",
              "}\n",
              "\n",
              "/* Span, style for the box shown on hovering the info icon */\n",
              ".sk-estimator-doc-link span {\n",
              "  display: none;\n",
              "  z-index: 9999;\n",
              "  position: relative;\n",
              "  font-weight: normal;\n",
              "  right: .2ex;\n",
              "  padding: .5ex;\n",
              "  margin: .5ex;\n",
              "  width: min-content;\n",
              "  min-width: 20ex;\n",
              "  max-width: 50ex;\n",
              "  color: var(--sklearn-color-text);\n",
              "  box-shadow: 2pt 2pt 4pt #999;\n",
              "  /* unfitted */\n",
              "  background: var(--sklearn-color-unfitted-level-0);\n",
              "  border: .5pt solid var(--sklearn-color-unfitted-level-3);\n",
              "}\n",
              "\n",
              ".sk-estimator-doc-link.fitted span {\n",
              "  /* fitted */\n",
              "  background: var(--sklearn-color-fitted-level-0);\n",
              "  border: var(--sklearn-color-fitted-level-3);\n",
              "}\n",
              "\n",
              ".sk-estimator-doc-link:hover span {\n",
              "  display: block;\n",
              "}\n",
              "\n",
              "/* \"?\"-specific style due to the `<a>` HTML tag */\n",
              "\n",
              "#sk-container-id-4 a.estimator_doc_link {\n",
              "  float: right;\n",
              "  font-size: 1rem;\n",
              "  line-height: 1em;\n",
              "  font-family: monospace;\n",
              "  background-color: var(--sklearn-color-background);\n",
              "  border-radius: 1rem;\n",
              "  height: 1rem;\n",
              "  width: 1rem;\n",
              "  text-decoration: none;\n",
              "  /* unfitted */\n",
              "  color: var(--sklearn-color-unfitted-level-1);\n",
              "  border: var(--sklearn-color-unfitted-level-1) 1pt solid;\n",
              "}\n",
              "\n",
              "#sk-container-id-4 a.estimator_doc_link.fitted {\n",
              "  /* fitted */\n",
              "  border: var(--sklearn-color-fitted-level-1) 1pt solid;\n",
              "  color: var(--sklearn-color-fitted-level-1);\n",
              "}\n",
              "\n",
              "/* On hover */\n",
              "#sk-container-id-4 a.estimator_doc_link:hover {\n",
              "  /* unfitted */\n",
              "  background-color: var(--sklearn-color-unfitted-level-3);\n",
              "  color: var(--sklearn-color-background);\n",
              "  text-decoration: none;\n",
              "}\n",
              "\n",
              "#sk-container-id-4 a.estimator_doc_link.fitted:hover {\n",
              "  /* fitted */\n",
              "  background-color: var(--sklearn-color-fitted-level-3);\n",
              "}\n",
              "</style><div id=\"sk-container-id-4\" class=\"sk-top-container\"><div class=\"sk-text-repr-fallback\"><pre>Pipeline(steps=[(&#x27;model&#x27;, ExtraTreesClassifier())])</pre><b>In a Jupyter environment, please rerun this cell to show the HTML representation or trust the notebook. <br />On GitHub, the HTML representation is unable to render, please try loading this page with nbviewer.org.</b></div><div class=\"sk-container\" hidden><div class=\"sk-item sk-dashed-wrapped\"><div class=\"sk-label-container\"><div class=\"sk-label fitted sk-toggleable\"><input class=\"sk-toggleable__control sk-hidden--visually\" id=\"sk-estimator-id-6\" type=\"checkbox\" ><label for=\"sk-estimator-id-6\" class=\"sk-toggleable__label fitted sk-toggleable__label-arrow\"><div><div>Pipeline</div></div><div><a class=\"sk-estimator-doc-link fitted\" rel=\"noreferrer\" target=\"_blank\" href=\"https://scikit-learn.org/1.6/modules/generated/sklearn.pipeline.Pipeline.html\">?<span>Documentation for Pipeline</span></a><span class=\"sk-estimator-doc-link fitted\">i<span>Fitted</span></span></div></label><div class=\"sk-toggleable__content fitted\"><pre>Pipeline(steps=[(&#x27;model&#x27;, ExtraTreesClassifier())])</pre></div> </div></div><div class=\"sk-serial\"><div class=\"sk-item\"><div class=\"sk-estimator fitted sk-toggleable\"><input class=\"sk-toggleable__control sk-hidden--visually\" id=\"sk-estimator-id-7\" type=\"checkbox\" ><label for=\"sk-estimator-id-7\" class=\"sk-toggleable__label fitted sk-toggleable__label-arrow\"><div><div>ExtraTreesClassifier</div></div><div><a class=\"sk-estimator-doc-link fitted\" rel=\"noreferrer\" target=\"_blank\" href=\"https://scikit-learn.org/1.6/modules/generated/sklearn.ensemble.ExtraTreesClassifier.html\">?<span>Documentation for ExtraTreesClassifier</span></a></div></label><div class=\"sk-toggleable__content fitted\"><pre>ExtraTreesClassifier()</pre></div> </div></div></div></div></div></div>"
            ],
            "text/plain": [
              "Pipeline(steps=[('model', ExtraTreesClassifier())])"
            ]
          },
          "execution_count": 64,
          "metadata": {},
          "output_type": "execute_result"
        }
      ],
      "source": [
        "from sklearn.metrics import accuracy_score, f1_score\n",
        "\n",
        "model = Pipeline(\n",
        "    steps=[\n",
        "        (\"model\", ExtraTreesClassifier())\n",
        "    ]\n",
        ")\n",
        "model.fit(x_train, y_train)"
      ]
    },
    {
      "cell_type": "code",
      "execution_count": 65,
      "metadata": {
        "colab": {
          "base_uri": "https://localhost:8080/"
        },
        "id": "uS0rhXP_0uq_",
        "outputId": "a0f93b7e-4496-4331-a30b-79b60ac406b2"
      },
      "outputs": [
        {
          "name": "stdout",
          "output_type": "stream",
          "text": [
            "Accuracy: 0.6%, F1: 0.6\n"
          ]
        }
      ],
      "source": [
        "from sklearn.ensemble import ExtraTreesClassifier\n",
        "from sklearn.metrics import accuracy_score, f1_score\n",
        "\n",
        "# uji model\n",
        "predict = model.predict(x_test)\n",
        "akurasi = accuracy_score(y_test, predict)\n",
        "f1 = f1_score(y_test, predict, average='macro')\n",
        "\n",
        "print(\"Accuracy: {}%, F1: {}\".format(round(akurasi, 2), round(f1, 2) ) )"
      ]
    },
    {
      "cell_type": "code",
      "execution_count": 59,
      "metadata": {
        "id": "j9JyCUW-nH73"
      },
      "outputs": [],
      "source": [
        "with open(\"Results/metrics.txt\", \"w\") as outfile:\n",
        "    outfile.write(f\"\\nAccuracy = {round(akurasi, 2)}, F1 Score = {round(f1, 2)}.\")"
      ]
    },
    {
      "cell_type": "code",
      "execution_count": null,
      "metadata": {
        "colab": {
          "base_uri": "https://localhost:8080/",
          "height": 449
        },
        "id": "cjLUQtMSnGtH",
        "outputId": "b81157c8-cbac-4454-b651-c0fa79189229"
      },
      "outputs": [
        {
          "data": {
            "image/png": "[encoded data removed]",
            "text/plain": [
              "<Figure size 640x480 with 2 Axes>"
            ]
          },
          "metadata": {},
          "output_type": "display_data"
        }
      ],
      "source": [
        "cm = confusion_matrix(y_test, predict, labels=model.classes_)\n",
        "disp = ConfusionMatrixDisplay(confusion_matrix=cm, display_labels = model.classes_)\n",
        "disp.plot()\n",
        "plt.savefig(\"Results/model_results.png\", dpi=120)"
      ]
    },
    {
      "cell_type": "code",
      "execution_count": 61,
      "metadata": {
        "colab": {
          "base_uri": "https://localhost:8080/"
        },
        "id": "9uoRdwK0nZl8",
        "outputId": "62862533-f0e2-440a-a53b-bf7c0e0ab0c3"
      },
      "outputs": [
        {
          "name": "stdout",
          "output_type": "stream",
          "text": [
            "              precision    recall  f1-score   support\n",
            "\n",
            "           0       0.81      0.86      0.84      1894\n",
            "           1       0.85      0.79      0.82      1801\n",
            "\n",
            "    accuracy                           0.83      3695\n",
            "   macro avg       0.83      0.83      0.83      3695\n",
            "weighted avg       0.83      0.83      0.83      3695\n",
            "\n"
          ]
        }
      ],
      "source": [
        "print(classification_report(y_test, predict) )"
      ]
    },
    {
      "cell_type": "code",
      "execution_count": null,
      "metadata": {
        "colab": {
          "base_uri": "https://localhost:8080/"
        },
        "id": "astpop8RnqhM",
        "outputId": "61beda61-d0c7-4633-e455-d16e8447b30b"
      },
      "outputs": [
        {
          "name": "stdout",
          "output_type": "stream",
          "text": [
            "[]\n"
          ]
        }
      ],
      "source": [
        "sio.dump(model, \"Model/credit_loan_detection_v2.skops\")\n",
        "\n",
        "unknown_types = get_untrusted_types(file=\"Model/credit_loan_detection_v2.skops\")\n",
        "print(unknown_types)"
      ]
    },
    {
      "cell_type": "code",
      "execution_count": 63,
      "metadata": {
        "colab": {
          "base_uri": "https://localhost:8080/",
          "height": 116
        },
        "id": "tERdHJvXntFr",
        "outputId": "bf445fa0-0f09-4250-c7ca-aab72b23e720"
      },
      "outputs": [
        {
          "data": {
            "text/html": [
              "<style>#sk-container-id-3 {\n",
              "  /* Definition of color scheme common for light and dark mode */\n",
              "  --sklearn-color-text: #000;\n",
              "  --sklearn-color-text-muted: #666;\n",
              "  --sklearn-color-line: gray;\n",
              "  /* Definition of color scheme for unfitted estimators */\n",
              "  --sklearn-color-unfitted-level-0: #fff5e6;\n",
              "  --sklearn-color-unfitted-level-1: #f6e4d2;\n",
              "  --sklearn-color-unfitted-level-2: #ffe0b3;\n",
              "  --sklearn-color-unfitted-level-3: chocolate;\n",
              "  /* Definition of color scheme for fitted estimators */\n",
              "  --sklearn-color-fitted-level-0: #f0f8ff;\n",
              "  --sklearn-color-fitted-level-1: #d4ebff;\n",
              "  --sklearn-color-fitted-level-2: #b3dbfd;\n",
              "  --sklearn-color-fitted-level-3: cornflowerblue;\n",
              "\n",
              "  /* Specific color for light theme */\n",
              "  --sklearn-color-text-on-default-background: var(--sg-text-color, var(--theme-code-foreground, var(--jp-content-font-color1, black)));\n",
              "  --sklearn-color-background: var(--sg-background-color, var(--theme-background, var(--jp-layout-color0, white)));\n",
              "  --sklearn-color-border-box: var(--sg-text-color, var(--theme-code-foreground, var(--jp-content-font-color1, black)));\n",
              "  --sklearn-color-icon: #696969;\n",
              "\n",
              "  @media (prefers-color-scheme: dark) {\n",
              "    /* Redefinition of color scheme for dark theme */\n",
              "    --sklearn-color-text-on-default-background: var(--sg-text-color, var(--theme-code-foreground, var(--jp-content-font-color1, white)));\n",
              "    --sklearn-color-background: var(--sg-background-color, var(--theme-background, var(--jp-layout-color0, #111)));\n",
              "    --sklearn-color-border-box: var(--sg-text-color, var(--theme-code-foreground, var(--jp-content-font-color1, white)));\n",
              "    --sklearn-color-icon: #878787;\n",
              "  }\n",
              "}\n",
              "\n",
              "#sk-container-id-3 {\n",
              "  color: var(--sklearn-color-text);\n",
              "}\n",
              "\n",
              "#sk-container-id-3 pre {\n",
              "  padding: 0;\n",
              "}\n",
              "\n",
              "#sk-container-id-3 input.sk-hidden--visually {\n",
              "  border: 0;\n",
              "  clip: rect(1px 1px 1px 1px);\n",
              "  clip: rect(1px, 1px, 1px, 1px);\n",
              "  height: 1px;\n",
              "  margin: -1px;\n",
              "  overflow: hidden;\n",
              "  padding: 0;\n",
              "  position: absolute;\n",
              "  width: 1px;\n",
              "}\n",
              "\n",
              "#sk-container-id-3 div.sk-dashed-wrapped {\n",
              "  border: 1px dashed var(--sklearn-color-line);\n",
              "  margin: 0 0.4em 0.5em 0.4em;\n",
              "  box-sizing: border-box;\n",
              "  padding-bottom: 0.4em;\n",
              "  background-color: var(--sklearn-color-background);\n",
              "}\n",
              "\n",
              "#sk-container-id-3 div.sk-container {\n",
              "  /* jupyter's `normalize.less` sets `[hidden] { display: none; }`\n",
              "     but bootstrap.min.css set `[hidden] { display: none !important; }`\n",
              "     so we also need the `!important` here to be able to override the\n",
              "     default hidden behavior on the sphinx rendered scikit-learn.org.\n",
              "     See: https://github.com/scikit-learn/scikit-learn/issues/21755 */\n",
              "  display: inline-block !important;\n",
              "  position: relative;\n",
              "}\n",
              "\n",
              "#sk-container-id-3 div.sk-text-repr-fallback {\n",
              "  display: none;\n",
              "}\n",
              "\n",
              "div.sk-parallel-item,\n",
              "div.sk-serial,\n",
              "div.sk-item {\n",
              "  /* draw centered vertical line to link estimators */\n",
              "  background-image: linear-gradient(var(--sklearn-color-text-on-default-background), var(--sklearn-color-text-on-default-background));\n",
              "  background-size: 2px 100%;\n",
              "  background-repeat: no-repeat;\n",
              "  background-position: center center;\n",
              "}\n",
              "\n",
              "/* Parallel-specific style estimator block */\n",
              "\n",
              "#sk-container-id-3 div.sk-parallel-item::after {\n",
              "  content: \"\";\n",
              "  width: 100%;\n",
              "  border-bottom: 2px solid var(--sklearn-color-text-on-default-background);\n",
              "  flex-grow: 1;\n",
              "}\n",
              "\n",
              "#sk-container-id-3 div.sk-parallel {\n",
              "  display: flex;\n",
              "  align-items: stretch;\n",
              "  justify-content: center;\n",
              "  background-color: var(--sklearn-color-background);\n",
              "  position: relative;\n",
              "}\n",
              "\n",
              "#sk-container-id-3 div.sk-parallel-item {\n",
              "  display: flex;\n",
              "  flex-direction: column;\n",
              "}\n",
              "\n",
              "#sk-container-id-3 div.sk-parallel-item:first-child::after {\n",
              "  align-self: flex-end;\n",
              "  width: 50%;\n",
              "}\n",
              "\n",
              "#sk-container-id-3 div.sk-parallel-item:last-child::after {\n",
              "  align-self: flex-start;\n",
              "  width: 50%;\n",
              "}\n",
              "\n",
              "#sk-container-id-3 div.sk-parallel-item:only-child::after {\n",
              "  width: 0;\n",
              "}\n",
              "\n",
              "/* Serial-specific style estimator block */\n",
              "\n",
              "#sk-container-id-3 div.sk-serial {\n",
              "  display: flex;\n",
              "  flex-direction: column;\n",
              "  align-items: center;\n",
              "  background-color: var(--sklearn-color-background);\n",
              "  padding-right: 1em;\n",
              "  padding-left: 1em;\n",
              "}\n",
              "\n",
              "\n",
              "/* Toggleable style: style used for estimator/Pipeline/ColumnTransformer box that is\n",
              "clickable and can be expanded/collapsed.\n",
              "- Pipeline and ColumnTransformer use this feature and define the default style\n",
              "- Estimators will overwrite some part of the style using the `sk-estimator` class\n",
              "*/\n",
              "\n",
              "/* Pipeline and ColumnTransformer style (default) */\n",
              "\n",
              "#sk-container-id-3 div.sk-toggleable {\n",
              "  /* Default theme specific background. It is overwritten whether we have a\n",
              "  specific estimator or a Pipeline/ColumnTransformer */\n",
              "  background-color: var(--sklearn-color-background);\n",
              "}\n",
              "\n",
              "/* Toggleable label */\n",
              "#sk-container-id-3 label.sk-toggleable__label {\n",
              "  cursor: pointer;\n",
              "  display: flex;\n",
              "  width: 100%;\n",
              "  margin-bottom: 0;\n",
              "  padding: 0.5em;\n",
              "  box-sizing: border-box;\n",
              "  text-align: center;\n",
              "  align-items: start;\n",
              "  justify-content: space-between;\n",
              "  gap: 0.5em;\n",
              "}\n",
              "\n",
              "#sk-container-id-3 label.sk-toggleable__label .caption {\n",
              "  font-size: 0.6rem;\n",
              "  font-weight: lighter;\n",
              "  color: var(--sklearn-color-text-muted);\n",
              "}\n",
              "\n",
              "#sk-container-id-3 label.sk-toggleable__label-arrow:before {\n",
              "  /* Arrow on the left of the label */\n",
              "  content: \"▸\";\n",
              "  float: left;\n",
              "  margin-right: 0.25em;\n",
              "  color: var(--sklearn-color-icon);\n",
              "}\n",
              "\n",
              "#sk-container-id-3 label.sk-toggleable__label-arrow:hover:before {\n",
              "  color: var(--sklearn-color-text);\n",
              "}\n",
              "\n",
              "/* Toggleable content - dropdown */\n",
              "\n",
              "#sk-container-id-3 div.sk-toggleable__content {\n",
              "  max-height: 0;\n",
              "  max-width: 0;\n",
              "  overflow: hidden;\n",
              "  text-align: left;\n",
              "  /* unfitted */\n",
              "  background-color: var(--sklearn-color-unfitted-level-0);\n",
              "}\n",
              "\n",
              "#sk-container-id-3 div.sk-toggleable__content.fitted {\n",
              "  /* fitted */\n",
              "  background-color: var(--sklearn-color-fitted-level-0);\n",
              "}\n",
              "\n",
              "#sk-container-id-3 div.sk-toggleable__content pre {\n",
              "  margin: 0.2em;\n",
              "  border-radius: 0.25em;\n",
              "  color: var(--sklearn-color-text);\n",
              "  /* unfitted */\n",
              "  background-color: var(--sklearn-color-unfitted-level-0);\n",
              "}\n",
              "\n",
              "#sk-container-id-3 div.sk-toggleable__content.fitted pre {\n",
              "  /* unfitted */\n",
              "  background-color: var(--sklearn-color-fitted-level-0);\n",
              "}\n",
              "\n",
              "#sk-container-id-3 input.sk-toggleable__control:checked~div.sk-toggleable__content {\n",
              "  /* Expand drop-down */\n",
              "  max-height: 200px;\n",
              "  max-width: 100%;\n",
              "  overflow: auto;\n",
              "}\n",
              "\n",
              "#sk-container-id-3 input.sk-toggleable__control:checked~label.sk-toggleable__label-arrow:before {\n",
              "  content: \"▾\";\n",
              "}\n",
              "\n",
              "/* Pipeline/ColumnTransformer-specific style */\n",
              "\n",
              "#sk-container-id-3 div.sk-label input.sk-toggleable__control:checked~label.sk-toggleable__label {\n",
              "  color: var(--sklearn-color-text);\n",
              "  background-color: var(--sklearn-color-unfitted-level-2);\n",
              "}\n",
              "\n",
              "#sk-container-id-3 div.sk-label.fitted input.sk-toggleable__control:checked~label.sk-toggleable__label {\n",
              "  background-color: var(--sklearn-color-fitted-level-2);\n",
              "}\n",
              "\n",
              "/* Estimator-specific style */\n",
              "\n",
              "/* Colorize estimator box */\n",
              "#sk-container-id-3 div.sk-estimator input.sk-toggleable__control:checked~label.sk-toggleable__label {\n",
              "  /* unfitted */\n",
              "  background-color: var(--sklearn-color-unfitted-level-2);\n",
              "}\n",
              "\n",
              "#sk-container-id-3 div.sk-estimator.fitted input.sk-toggleable__control:checked~label.sk-toggleable__label {\n",
              "  /* fitted */\n",
              "  background-color: var(--sklearn-color-fitted-level-2);\n",
              "}\n",
              "\n",
              "#sk-container-id-3 div.sk-label label.sk-toggleable__label,\n",
              "#sk-container-id-3 div.sk-label label {\n",
              "  /* The background is the default theme color */\n",
              "  color: var(--sklearn-color-text-on-default-background);\n",
              "}\n",
              "\n",
              "/* On hover, darken the color of the background */\n",
              "#sk-container-id-3 div.sk-label:hover label.sk-toggleable__label {\n",
              "  color: var(--sklearn-color-text);\n",
              "  background-color: var(--sklearn-color-unfitted-level-2);\n",
              "}\n",
              "\n",
              "/* Label box, darken color on hover, fitted */\n",
              "#sk-container-id-3 div.sk-label.fitted:hover label.sk-toggleable__label.fitted {\n",
              "  color: var(--sklearn-color-text);\n",
              "  background-color: var(--sklearn-color-fitted-level-2);\n",
              "}\n",
              "\n",
              "/* Estimator label */\n",
              "\n",
              "#sk-container-id-3 div.sk-label label {\n",
              "  font-family: monospace;\n",
              "  font-weight: bold;\n",
              "  display: inline-block;\n",
              "  line-height: 1.2em;\n",
              "}\n",
              "\n",
              "#sk-container-id-3 div.sk-label-container {\n",
              "  text-align: center;\n",
              "}\n",
              "\n",
              "/* Estimator-specific */\n",
              "#sk-container-id-3 div.sk-estimator {\n",
              "  font-family: monospace;\n",
              "  border: 1px dotted var(--sklearn-color-border-box);\n",
              "  border-radius: 0.25em;\n",
              "  box-sizing: border-box;\n",
              "  margin-bottom: 0.5em;\n",
              "  /* unfitted */\n",
              "  background-color: var(--sklearn-color-unfitted-level-0);\n",
              "}\n",
              "\n",
              "#sk-container-id-3 div.sk-estimator.fitted {\n",
              "  /* fitted */\n",
              "  background-color: var(--sklearn-color-fitted-level-0);\n",
              "}\n",
              "\n",
              "/* on hover */\n",
              "#sk-container-id-3 div.sk-estimator:hover {\n",
              "  /* unfitted */\n",
              "  background-color: var(--sklearn-color-unfitted-level-2);\n",
              "}\n",
              "\n",
              "#sk-container-id-3 div.sk-estimator.fitted:hover {\n",
              "  /* fitted */\n",
              "  background-color: var(--sklearn-color-fitted-level-2);\n",
              "}\n",
              "\n",
              "/* Specification for estimator info (e.g. \"i\" and \"?\") */\n",
              "\n",
              "/* Common style for \"i\" and \"?\" */\n",
              "\n",
              ".sk-estimator-doc-link,\n",
              "a:link.sk-estimator-doc-link,\n",
              "a:visited.sk-estimator-doc-link {\n",
              "  float: right;\n",
              "  font-size: smaller;\n",
              "  line-height: 1em;\n",
              "  font-family: monospace;\n",
              "  background-color: var(--sklearn-color-background);\n",
              "  border-radius: 1em;\n",
              "  height: 1em;\n",
              "  width: 1em;\n",
              "  text-decoration: none !important;\n",
              "  margin-left: 0.5em;\n",
              "  text-align: center;\n",
              "  /* unfitted */\n",
              "  border: var(--sklearn-color-unfitted-level-1) 1pt solid;\n",
              "  color: var(--sklearn-color-unfitted-level-1);\n",
              "}\n",
              "\n",
              ".sk-estimator-doc-link.fitted,\n",
              "a:link.sk-estimator-doc-link.fitted,\n",
              "a:visited.sk-estimator-doc-link.fitted {\n",
              "  /* fitted */\n",
              "  border: var(--sklearn-color-fitted-level-1) 1pt solid;\n",
              "  color: var(--sklearn-color-fitted-level-1);\n",
              "}\n",
              "\n",
              "/* On hover */\n",
              "div.sk-estimator:hover .sk-estimator-doc-link:hover,\n",
              ".sk-estimator-doc-link:hover,\n",
              "div.sk-label-container:hover .sk-estimator-doc-link:hover,\n",
              ".sk-estimator-doc-link:hover {\n",
              "  /* unfitted */\n",
              "  background-color: var(--sklearn-color-unfitted-level-3);\n",
              "  color: var(--sklearn-color-background);\n",
              "  text-decoration: none;\n",
              "}\n",
              "\n",
              "div.sk-estimator.fitted:hover .sk-estimator-doc-link.fitted:hover,\n",
              ".sk-estimator-doc-link.fitted:hover,\n",
              "div.sk-label-container:hover .sk-estimator-doc-link.fitted:hover,\n",
              ".sk-estimator-doc-link.fitted:hover {\n",
              "  /* fitted */\n",
              "  background-color: var(--sklearn-color-fitted-level-3);\n",
              "  color: var(--sklearn-color-background);\n",
              "  text-decoration: none;\n",
              "}\n",
              "\n",
              "/* Span, style for the box shown on hovering the info icon */\n",
              ".sk-estimator-doc-link span {\n",
              "  display: none;\n",
              "  z-index: 9999;\n",
              "  position: relative;\n",
              "  font-weight: normal;\n",
              "  right: .2ex;\n",
              "  padding: .5ex;\n",
              "  margin: .5ex;\n",
              "  width: min-content;\n",
              "  min-width: 20ex;\n",
              "  max-width: 50ex;\n",
              "  color: var(--sklearn-color-text);\n",
              "  box-shadow: 2pt 2pt 4pt #999;\n",
              "  /* unfitted */\n",
              "  background: var(--sklearn-color-unfitted-level-0);\n",
              "  border: .5pt solid var(--sklearn-color-unfitted-level-3);\n",
              "}\n",
              "\n",
              ".sk-estimator-doc-link.fitted span {\n",
              "  /* fitted */\n",
              "  background: var(--sklearn-color-fitted-level-0);\n",
              "  border: var(--sklearn-color-fitted-level-3);\n",
              "}\n",
              "\n",
              ".sk-estimator-doc-link:hover span {\n",
              "  display: block;\n",
              "}\n",
              "\n",
              "/* \"?\"-specific style due to the `<a>` HTML tag */\n",
              "\n",
              "#sk-container-id-3 a.estimator_doc_link {\n",
              "  float: right;\n",
              "  font-size: 1rem;\n",
              "  line-height: 1em;\n",
              "  font-family: monospace;\n",
              "  background-color: var(--sklearn-color-background);\n",
              "  border-radius: 1rem;\n",
              "  height: 1rem;\n",
              "  width: 1rem;\n",
              "  text-decoration: none;\n",
              "  /* unfitted */\n",
              "  color: var(--sklearn-color-unfitted-level-1);\n",
              "  border: var(--sklearn-color-unfitted-level-1) 1pt solid;\n",
              "}\n",
              "\n",
              "#sk-container-id-3 a.estimator_doc_link.fitted {\n",
              "  /* fitted */\n",
              "  border: var(--sklearn-color-fitted-level-1) 1pt solid;\n",
              "  color: var(--sklearn-color-fitted-level-1);\n",
              "}\n",
              "\n",
              "/* On hover */\n",
              "#sk-container-id-3 a.estimator_doc_link:hover {\n",
              "  /* unfitted */\n",
              "  background-color: var(--sklearn-color-unfitted-level-3);\n",
              "  color: var(--sklearn-color-background);\n",
              "  text-decoration: none;\n",
              "}\n",
              "\n",
              "#sk-container-id-3 a.estimator_doc_link.fitted:hover {\n",
              "  /* fitted */\n",
              "  background-color: var(--sklearn-color-fitted-level-3);\n",
              "}\n",
              "</style><div id=\"sk-container-id-3\" class=\"sk-top-container\"><div class=\"sk-text-repr-fallback\"><pre>Pipeline(steps=[(&#x27;model&#x27;, ExtraTreesClassifier())])</pre><b>In a Jupyter environment, please rerun this cell to show the HTML representation or trust the notebook. <br />On GitHub, the HTML representation is unable to render, please try loading this page with nbviewer.org.</b></div><div class=\"sk-container\" hidden><div class=\"sk-item sk-dashed-wrapped\"><div class=\"sk-label-container\"><div class=\"sk-label fitted sk-toggleable\"><input class=\"sk-toggleable__control sk-hidden--visually\" id=\"sk-estimator-id-4\" type=\"checkbox\" ><label for=\"sk-estimator-id-4\" class=\"sk-toggleable__label fitted sk-toggleable__label-arrow\"><div><div>Pipeline</div></div><div><a class=\"sk-estimator-doc-link fitted\" rel=\"noreferrer\" target=\"_blank\" href=\"https://scikit-learn.org/1.6/modules/generated/sklearn.pipeline.Pipeline.html\">?<span>Documentation for Pipeline</span></a><span class=\"sk-estimator-doc-link fitted\">i<span>Fitted</span></span></div></label><div class=\"sk-toggleable__content fitted\"><pre>Pipeline(steps=[(&#x27;model&#x27;, ExtraTreesClassifier())])</pre></div> </div></div><div class=\"sk-serial\"><div class=\"sk-item\"><div class=\"sk-estimator fitted sk-toggleable\"><input class=\"sk-toggleable__control sk-hidden--visually\" id=\"sk-estimator-id-5\" type=\"checkbox\" ><label for=\"sk-estimator-id-5\" class=\"sk-toggleable__label fitted sk-toggleable__label-arrow\"><div><div>ExtraTreesClassifier</div></div><div><a class=\"sk-estimator-doc-link fitted\" rel=\"noreferrer\" target=\"_blank\" href=\"https://scikit-learn.org/1.6/modules/generated/sklearn.ensemble.ExtraTreesClassifier.html\">?<span>Documentation for ExtraTreesClassifier</span></a></div></label><div class=\"sk-toggleable__content fitted\"><pre>ExtraTreesClassifier()</pre></div> </div></div></div></div></div></div>"
            ],
            "text/plain": [
              "Pipeline(steps=[('model', ExtraTreesClassifier())])"
            ]
          },
          "execution_count": 63,
          "metadata": {},
          "output_type": "execute_result"
        }
      ],
      "source": [
        "unknown_types = get_untrusted_types(file=\"Model/credit_loan_detection.skops\")\n",
        "sio.load(\"Model/credit_loan_detection.skops\", trusted=unknown_types)"
      ]
    },
    {
      "cell_type": "markdown",
      "metadata": {},
      "source": [
        "## 8. Monitoring dengan Mlflow"
      ]
    },
    {
      "cell_type": "code",
      "execution_count": 69,
      "metadata": {},
      "outputs": [
        {
          "data": {
            "text/plain": [
              "<Experiment: artifact_location='mlflow-artifacts:/829300622513880456', creation_time=1752714543075, experiment_id='829300622513880456', last_update_time=1752714543075, lifecycle_stage='active', name='credit_loan_detection', tags={}>"
            ]
          },
          "execution_count": 69,
          "metadata": {},
          "output_type": "execute_result"
        }
      ],
      "source": [
        "# Set tracking URI\n",
        "mlflow.set_tracking_uri(\"http://127.0.0.1:5000\")\n",
        "\n",
        "# Set experiment\n",
        "experiment_name = \"credit_loan_detection\"\n",
        "mlflow.set_experiment(experiment_name)"
      ]
    },
    {
      "cell_type": "code",
      "execution_count": 70,
      "metadata": {},
      "outputs": [
        {
          "name": "stderr",
          "output_type": "stream",
          "text": [
            "2025/07/19 16:03:51 WARNING mlflow.models.model: `artifact_path` is deprecated. Please use `name` instead.\n",
            "\u001b[31m2025/07/19 16:04:10 WARNING mlflow.models.model: Model logged without a signature and input example. Please set `input_example` parameter when logging the model to auto infer the model signature.\u001b[0m\n",
            "Registered model 'credit_loan_detection' already exists. Creating a new version of this model...\n",
            "2025/07/19 16:04:12 INFO mlflow.store.model_registry.abstract_store: Waiting up to 300 seconds for model version to finish creation. Model name: credit_loan_detection, version 3\n",
            "Created version '3' of model 'credit_loan_detection'.\n"
          ]
        },
        {
          "name": "stdout",
          "output_type": "stream",
          "text": [
            "Run ID: 5c4fd985dadf4e2a8b5c9656b9c01c67\n",
            "Accuracy: 0.5833\n",
            "F1-score: 0.5823\n",
            "🏃 View run polite-newt-744 at: http://127.0.0.1:5000/#/experiments/829300622513880456/runs/5c4fd985dadf4e2a8b5c9656b9c01c67\n",
            "🧪 View experiment at: http://127.0.0.1:5000/#/experiments/829300622513880456\n"
          ]
        }
      ],
      "source": [
        "with mlflow.start_run():\n",
        "    # load model\n",
        "    unknown_types = get_untrusted_types(file=\"Model/credit_loan_detection.skops\")\n",
        "    model = sio.load(\"Model/credit_loan_detection.skops\", trusted=unknown_types)\n",
        "\n",
        "    # model melakukan prediksi\n",
        "    y_pred = model.predict(x_test)\n",
        "\n",
        "    # log metrics\n",
        "    akurasi = accuracy_score(y_test, y_pred)\n",
        "    f1 = f1_score(y_test, y_pred, average='macro')\n",
        "\n",
        "    mlflow.log_metric(\"accuracy\", akurasi)\n",
        "    mlflow.log_metric(\"f1-score\", f1)\n",
        "    mlflow.log_metric(\"test_samples_length\", len(y_test))\n",
        "\n",
        "    # log model\n",
        "    mlflow.sklearn.log_model(\n",
        "        model,\n",
        "        \"ExtraTreesClassifierV1\",\n",
        "        registered_model_name=\"credit_loan_detection\"\n",
        "    )\n",
        "\n",
        "    # log artifacts\n",
        "    with open(\"Results/classification_report.txt\", \"w\") as f:\n",
        "        f.write(classification_report(y_test, y_pred))\n",
        "    mlflow.log_artifact(\"Results/classification_report.txt\")\n",
        "    \n",
        "    print(f\"Run ID: {mlflow.active_run().info.run_id}\")\n",
        "    print(f\"Accuracy: {akurasi:.4f}\")\n",
        "    print(f\"F1-score: {f1:.4f}\")"
      ]
    },
    {
      "cell_type": "markdown",
      "metadata": {},
      "source": []
    },
    {
      "cell_type": "code",
      "execution_count": 67,
      "metadata": {},
      "outputs": [
        {
          "data": {
            "text/html": [
              "<div>\n",
              "<style scoped>\n",
              "    .dataframe tbody tr th:only-of-type {\n",
              "        vertical-align: middle;\n",
              "    }\n",
              "\n",
              "    .dataframe tbody tr th {\n",
              "        vertical-align: top;\n",
              "    }\n",
              "\n",
              "    .dataframe thead th {\n",
              "        text-align: right;\n",
              "    }\n",
              "</style>\n",
              "<table border=\"1\" class=\"dataframe\">\n",
              "  <thead>\n",
              "    <tr style=\"text-align: right;\">\n",
              "      <th></th>\n",
              "      <th>person_age</th>\n",
              "      <th>person_income</th>\n",
              "      <th>person_home_ownership</th>\n",
              "      <th>person_emp_length</th>\n",
              "      <th>loan_intent</th>\n",
              "      <th>loan_amnt</th>\n",
              "      <th>loan_int_rate</th>\n",
              "      <th>loan_percent_income</th>\n",
              "      <th>cb_person_default_on_file</th>\n",
              "      <th>cb_person_cred_hist_length</th>\n",
              "    </tr>\n",
              "  </thead>\n",
              "  <tbody>\n",
              "    <tr>\n",
              "      <th>127</th>\n",
              "      <td>35</td>\n",
              "      <td>52393</td>\n",
              "      <td>0</td>\n",
              "      <td>0.0</td>\n",
              "      <td>1</td>\n",
              "      <td>1104</td>\n",
              "      <td>7.57</td>\n",
              "      <td>0.02</td>\n",
              "      <td>0</td>\n",
              "      <td>6</td>\n",
              "    </tr>\n",
              "    <tr>\n",
              "      <th>73</th>\n",
              "      <td>23</td>\n",
              "      <td>50665</td>\n",
              "      <td>0</td>\n",
              "      <td>0.0</td>\n",
              "      <td>5</td>\n",
              "      <td>20770</td>\n",
              "      <td>17.03</td>\n",
              "      <td>0.41</td>\n",
              "      <td>1</td>\n",
              "      <td>5</td>\n",
              "    </tr>\n",
              "    <tr>\n",
              "      <th>387</th>\n",
              "      <td>23</td>\n",
              "      <td>55111</td>\n",
              "      <td>0</td>\n",
              "      <td>22.0</td>\n",
              "      <td>4</td>\n",
              "      <td>17683</td>\n",
              "      <td>10.31</td>\n",
              "      <td>0.33</td>\n",
              "      <td>0</td>\n",
              "      <td>6</td>\n",
              "    </tr>\n",
              "    <tr>\n",
              "      <th>181</th>\n",
              "      <td>28</td>\n",
              "      <td>74948</td>\n",
              "      <td>0</td>\n",
              "      <td>18.0</td>\n",
              "      <td>0</td>\n",
              "      <td>9067</td>\n",
              "      <td>7.55</td>\n",
              "      <td>0.12</td>\n",
              "      <td>1</td>\n",
              "      <td>6</td>\n",
              "    </tr>\n",
              "    <tr>\n",
              "      <th>238</th>\n",
              "      <td>23</td>\n",
              "      <td>46235</td>\n",
              "      <td>0</td>\n",
              "      <td>11.0</td>\n",
              "      <td>3</td>\n",
              "      <td>28658</td>\n",
              "      <td>10.19</td>\n",
              "      <td>0.49</td>\n",
              "      <td>0</td>\n",
              "      <td>4</td>\n",
              "    </tr>\n",
              "  </tbody>\n",
              "</table>\n",
              "</div>"
            ],
            "text/plain": [
              "     person_age  person_income  person_home_ownership  person_emp_length  \\\n",
              "127          35          52393                      0                0.0   \n",
              "73           23          50665                      0                0.0   \n",
              "387          23          55111                      0               22.0   \n",
              "181          28          74948                      0               18.0   \n",
              "238          23          46235                      0               11.0   \n",
              "\n",
              "     loan_intent  loan_amnt  loan_int_rate  loan_percent_income  \\\n",
              "127            1       1104           7.57                 0.02   \n",
              "73             5      20770          17.03                 0.41   \n",
              "387            4      17683          10.31                 0.33   \n",
              "181            0       9067           7.55                 0.12   \n",
              "238            3      28658          10.19                 0.49   \n",
              "\n",
              "     cb_person_default_on_file  cb_person_cred_hist_length  \n",
              "127                          0                           6  \n",
              "73                           1                           5  \n",
              "387                          0                           6  \n",
              "181                          1                           6  \n",
              "238                          0                           4  "
            ]
          },
          "execution_count": 67,
          "metadata": {},
          "output_type": "execute_result"
        }
      ],
      "source": [
        "x_test.head()"
      ]
    },
    {
      "cell_type": "code",
      "execution_count": 66,
      "metadata": {},
      "outputs": [],
      "source": [
        "# x_test.loan_amnt.head() * 1_000\n",
        "x_test.loan_amnt = x_test.loan_amnt * 1_000\n",
        "x_test.person_income = x_test.person_income * 1000"
      ]
    },
    {
      "cell_type": "code",
      "execution_count": 67,
      "metadata": {},
      "outputs": [
        {
          "data": {
            "text/html": [
              "<div>\n",
              "<style scoped>\n",
              "    .dataframe tbody tr th:only-of-type {\n",
              "        vertical-align: middle;\n",
              "    }\n",
              "\n",
              "    .dataframe tbody tr th {\n",
              "        vertical-align: top;\n",
              "    }\n",
              "\n",
              "    .dataframe thead th {\n",
              "        text-align: right;\n",
              "    }\n",
              "</style>\n",
              "<table border=\"1\" class=\"dataframe\">\n",
              "  <thead>\n",
              "    <tr style=\"text-align: right;\">\n",
              "      <th></th>\n",
              "      <th>person_age</th>\n",
              "      <th>person_income</th>\n",
              "      <th>person_home_ownership</th>\n",
              "      <th>person_emp_length</th>\n",
              "      <th>loan_intent</th>\n",
              "      <th>loan_amnt</th>\n",
              "      <th>loan_int_rate</th>\n",
              "      <th>loan_percent_income</th>\n",
              "      <th>cb_person_default_on_file</th>\n",
              "      <th>cb_person_cred_hist_length</th>\n",
              "    </tr>\n",
              "  </thead>\n",
              "  <tbody>\n",
              "    <tr>\n",
              "      <th>12529</th>\n",
              "      <td>25</td>\n",
              "      <td>61000000</td>\n",
              "      <td>3</td>\n",
              "      <td>1.0</td>\n",
              "      <td>4</td>\n",
              "      <td>14400000</td>\n",
              "      <td>12.53</td>\n",
              "      <td>0.24</td>\n",
              "      <td>0</td>\n",
              "      <td>2</td>\n",
              "    </tr>\n",
              "    <tr>\n",
              "      <th>10741</th>\n",
              "      <td>26</td>\n",
              "      <td>32000000</td>\n",
              "      <td>3</td>\n",
              "      <td>6.0</td>\n",
              "      <td>3</td>\n",
              "      <td>12000000</td>\n",
              "      <td>8.94</td>\n",
              "      <td>0.38</td>\n",
              "      <td>0</td>\n",
              "      <td>3</td>\n",
              "    </tr>\n",
              "    <tr>\n",
              "      <th>22973</th>\n",
              "      <td>35</td>\n",
              "      <td>99000000</td>\n",
              "      <td>0</td>\n",
              "      <td>12.0</td>\n",
              "      <td>3</td>\n",
              "      <td>3000000</td>\n",
              "      <td>10.99</td>\n",
              "      <td>0.03</td>\n",
              "      <td>0</td>\n",
              "      <td>9</td>\n",
              "    </tr>\n",
              "    <tr>\n",
              "      <th>10901</th>\n",
              "      <td>24</td>\n",
              "      <td>74600000</td>\n",
              "      <td>0</td>\n",
              "      <td>3.0</td>\n",
              "      <td>0</td>\n",
              "      <td>20000000</td>\n",
              "      <td>17.51</td>\n",
              "      <td>0.27</td>\n",
              "      <td>0</td>\n",
              "      <td>3</td>\n",
              "    </tr>\n",
              "    <tr>\n",
              "      <th>16311</th>\n",
              "      <td>34</td>\n",
              "      <td>39672000</td>\n",
              "      <td>3</td>\n",
              "      <td>18.0</td>\n",
              "      <td>1</td>\n",
              "      <td>16750000</td>\n",
              "      <td>13.98</td>\n",
              "      <td>0.42</td>\n",
              "      <td>0</td>\n",
              "      <td>9</td>\n",
              "    </tr>\n",
              "  </tbody>\n",
              "</table>\n",
              "</div>"
            ],
            "text/plain": [
              "       person_age  ...  cb_person_cred_hist_length\n",
              "12529          25  ...                           2\n",
              "10741          26  ...                           3\n",
              "22973          35  ...                           9\n",
              "10901          24  ...                           3\n",
              "16311          34  ...                           9\n",
              "\n",
              "[5 rows x 10 columns]"
            ]
          },
          "execution_count": 67,
          "metadata": {},
          "output_type": "execute_result"
        }
      ],
      "source": [
        "x_test.head()"
      ]
    },
    {
      "cell_type": "code",
      "execution_count": 68,
      "metadata": {},
      "outputs": [
        {
          "name": "stderr",
          "output_type": "stream",
          "text": [
            "2025/07/17 08:13:28 WARNING mlflow.models.model: `artifact_path` is deprecated. Please use `name` instead.\n",
            "\u001b[31m2025/07/17 08:13:39 WARNING mlflow.models.model: Model logged without a signature and input example. Please set `input_example` parameter when logging the model to auto infer the model signature.\u001b[0m\n",
            "Registered model 'credit_loan_detection' already exists. Creating a new version of this model...\n",
            "2025/07/17 08:13:41 INFO mlflow.store.model_registry.abstract_store: Waiting up to 300 seconds for model version to finish creation. Model name: credit_loan_detection, version 2\n",
            "Created version '2' of model 'credit_loan_detection'.\n"
          ]
        },
        {
          "name": "stdout",
          "output_type": "stream",
          "text": [
            "Run ID: 86c6319d9868492aa29b753a4ea7b713\n",
            "Accuracy: 0.7903\n",
            "F1-score: 0.7870\n",
            "🏃 View run adaptable-asp-508 at: http://127.0.0.1:5000/#/experiments/829300622513880456/runs/86c6319d9868492aa29b753a4ea7b713\n",
            "🧪 View experiment at: http://127.0.0.1:5000/#/experiments/829300622513880456\n"
          ]
        }
      ],
      "source": [
        "with mlflow.start_run():\n",
        "    # load model\n",
        "    unknown_types = get_untrusted_types(file=\"Model/credit_loan_detection.skops\")\n",
        "    model = sio.load(\"Model/credit_loan_detection.skops\", trusted=unknown_types)\n",
        "\n",
        "    # model melakukan prediksi\n",
        "    y_pred = model.predict(x_test)\n",
        "\n",
        "    # log metrics\n",
        "    akurasi = accuracy_score(y_test, y_pred)\n",
        "    f1 = f1_score(y_test, y_pred, average='macro')\n",
        "\n",
        "    mlflow.log_metric(\"accuracy\", akurasi)\n",
        "    mlflow.log_metric(\"f1-score\", f1)\n",
        "    mlflow.log_metric(\"test_samples_length\", len(y_test))\n",
        "\n",
        "    # log model\n",
        "    mlflow.sklearn.log_model(\n",
        "        model,\n",
        "        \"ExtraTreesClassifierV1\",\n",
        "        registered_model_name=\"credit_loan_detection\"\n",
        "    )\n",
        "\n",
        "    # log artifacts\n",
        "    with open(\"Results/classification_report.txt\", \"a\") as f:\n",
        "        f.write(classification_report(y_test, y_pred))\n",
        "    mlflow.log_artifact(\"Results/classification_report.txt\")\n",
        "    \n",
        "    print(f\"Run ID: {mlflow.active_run().info.run_id}\")\n",
        "    print(f\"Accuracy: {akurasi:.4f}\")\n",
        "    print(f\"F1-score: {f1:.4f}\")"
      ]
    }
  ],
  "metadata": {
    "colab": {
      "provenance": []
    },
    "kernelspec": {
      "display_name": ".mvenv",
      "language": "python",
      "name": "python3"
    },
    "language_info": {
      "codemirror_mode": {
        "name": "ipython",
        "version": 3
      },
      "file_extension": ".py",
      "mimetype": "text/x-python",
      "name": "python",
      "nbconvert_exporter": "python",
      "pygments_lexer": "ipython3",
      "version": "3.12.3"
    }
  },
  "nbformat": 4,
  "nbformat_minor": 0
}
