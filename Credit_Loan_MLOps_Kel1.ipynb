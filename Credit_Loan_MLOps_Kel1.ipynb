{
  "cells": [
    {
      "cell_type": "markdown",
      "metadata": {
        "id": "3zSly7up0up6"
      },
      "source": [
        "## 1. Impor Pustaka\n"
      ]
    },
    {
      "cell_type": "code",
      "execution_count": 1,
      "metadata": {
        "execution": {
          "iopub.execute_input": "2023-08-23T18:45:15.357584Z",
          "iopub.status.busy": "2023-08-23T18:45:15.356563Z",
          "iopub.status.idle": "2023-08-23T18:45:18.723504Z",
          "shell.execute_reply": "2023-08-23T18:45:18.722126Z",
          "shell.execute_reply.started": "2023-08-23T18:45:15.357538Z"
        },
        "id": "UKN-5Tii0up8",
        "trusted": true
      },
      "outputs": [],
      "source": [
        "# data\n",
        "import pandas as pd\n",
        "import numpy as np\n",
        "\n",
        "# visualisasi\n",
        "import matplotlib.pyplot as plt\n",
        "import seaborn as sns\n",
        "\n",
        "# pemprosesan & pemodelan data\n",
        "import sklearn\n",
        "import skops.io as sio\n",
        "from skops.io import dump, load, get_untrusted_types\n",
        "import imblearn\n",
        "from imblearn.under_sampling import RandomUnderSampler\n",
        "from sklearn.preprocessing import minmax_scale, StandardScaler, LabelEncoder\n",
        "from sklearn.metrics import accuracy_score, f1_score, classification_report, ConfusionMatrixDisplay, confusion_matrix\n",
        "from sklearn.ensemble import ExtraTreesClassifier\n",
        "from sklearn.pipeline import Pipeline\n",
        "from sklearn.model_selection import train_test_split\n",
        "\n",
        "# monitoring model\n",
        "import mlflow\n",
        "import mlflow.sklearn"
      ]
    },
    {
      "cell_type": "markdown",
      "metadata": {
        "id": "4-aHtDLW0up9"
      },
      "source": [
        "## 2. Baca Kumpulan Data"
      ]
    },
    {
      "cell_type": "code",
      "execution_count": 4,
      "metadata": {
        "colab": {
          "base_uri": "https://localhost:8080/",
          "height": 226
        },
        "collapsed": true,
        "execution": {
          "iopub.execute_input": "2023-08-23T18:45:18.726586Z",
          "iopub.status.busy": "2023-08-23T18:45:18.726215Z",
          "iopub.status.idle": "2023-08-23T18:45:19.039432Z",
          "shell.execute_reply": "2023-08-23T18:45:19.038212Z",
          "shell.execute_reply.started": "2023-08-23T18:45:18.726556Z"
        },
        "id": "sJheS3yS0up-",
        "outputId": "98a62e80-86d6-436e-aa2e-821bc16e2163",
        "trusted": true
      },
      "outputs": [
        {
          "data": {
            "text/html": [
              "<div>\n",
              "<style scoped>\n",
              "    .dataframe tbody tr th:only-of-type {\n",
              "        vertical-align: middle;\n",
              "    }\n",
              "\n",
              "    .dataframe tbody tr th {\n",
              "        vertical-align: top;\n",
              "    }\n",
              "\n",
              "    .dataframe thead th {\n",
              "        text-align: right;\n",
              "    }\n",
              "</style>\n",
              "<table border=\"1\" class=\"dataframe\">\n",
              "  <thead>\n",
              "    <tr style=\"text-align: right;\">\n",
              "      <th></th>\n",
              "      <th>person_age</th>\n",
              "      <th>person_income</th>\n",
              "      <th>person_home_ownership</th>\n",
              "      <th>person_emp_length</th>\n",
              "      <th>loan_intent</th>\n",
              "      <th>loan_grade</th>\n",
              "      <th>loan_amnt</th>\n",
              "      <th>loan_int_rate</th>\n",
              "      <th>loan_status</th>\n",
              "      <th>loan_percent_income</th>\n",
              "      <th>cb_person_default_on_file</th>\n",
              "      <th>cb_person_cred_hist_length</th>\n",
              "    </tr>\n",
              "  </thead>\n",
              "  <tbody>\n",
              "    <tr>\n",
              "      <th>0</th>\n",
              "      <td>22</td>\n",
              "      <td>59000</td>\n",
              "      <td>RENT</td>\n",
              "      <td>123.0</td>\n",
              "      <td>PERSONAL</td>\n",
              "      <td>D</td>\n",
              "      <td>35000</td>\n",
              "      <td>16.02</td>\n",
              "      <td>1</td>\n",
              "      <td>0.59</td>\n",
              "      <td>Y</td>\n",
              "      <td>3</td>\n",
              "    </tr>\n",
              "    <tr>\n",
              "      <th>1</th>\n",
              "      <td>21</td>\n",
              "      <td>9600</td>\n",
              "      <td>OWN</td>\n",
              "      <td>5.0</td>\n",
              "      <td>EDUCATION</td>\n",
              "      <td>B</td>\n",
              "      <td>1000</td>\n",
              "      <td>11.14</td>\n",
              "      <td>0</td>\n",
              "      <td>0.10</td>\n",
              "      <td>N</td>\n",
              "      <td>2</td>\n",
              "    </tr>\n",
              "    <tr>\n",
              "      <th>2</th>\n",
              "      <td>25</td>\n",
              "      <td>9600</td>\n",
              "      <td>MORTGAGE</td>\n",
              "      <td>1.0</td>\n",
              "      <td>MEDICAL</td>\n",
              "      <td>C</td>\n",
              "      <td>5500</td>\n",
              "      <td>12.87</td>\n",
              "      <td>1</td>\n",
              "      <td>0.57</td>\n",
              "      <td>N</td>\n",
              "      <td>3</td>\n",
              "    </tr>\n",
              "    <tr>\n",
              "      <th>3</th>\n",
              "      <td>23</td>\n",
              "      <td>65500</td>\n",
              "      <td>RENT</td>\n",
              "      <td>4.0</td>\n",
              "      <td>MEDICAL</td>\n",
              "      <td>C</td>\n",
              "      <td>35000</td>\n",
              "      <td>15.23</td>\n",
              "      <td>1</td>\n",
              "      <td>0.53</td>\n",
              "      <td>N</td>\n",
              "      <td>2</td>\n",
              "    </tr>\n",
              "    <tr>\n",
              "      <th>4</th>\n",
              "      <td>24</td>\n",
              "      <td>54400</td>\n",
              "      <td>RENT</td>\n",
              "      <td>8.0</td>\n",
              "      <td>MEDICAL</td>\n",
              "      <td>C</td>\n",
              "      <td>35000</td>\n",
              "      <td>14.27</td>\n",
              "      <td>1</td>\n",
              "      <td>0.55</td>\n",
              "      <td>Y</td>\n",
              "      <td>4</td>\n",
              "    </tr>\n",
              "  </tbody>\n",
              "</table>\n",
              "</div>"
            ],
            "text/plain": [
              "   person_age  ...  cb_person_cred_hist_length\n",
              "0          22  ...                           3\n",
              "1          21  ...                           2\n",
              "2          25  ...                           3\n",
              "3          23  ...                           2\n",
              "4          24  ...                           4\n",
              "\n",
              "[5 rows x 12 columns]"
            ]
          },
          "execution_count": 4,
          "metadata": {},
          "output_type": "execute_result"
        }
      ],
      "source": [
        "data = pd.read_csv(f\"Data/credit_risk_dataset.csv\")\n",
        "\n",
        "data.head()"
      ]
    },
    {
      "cell_type": "code",
      "execution_count": 5,
      "metadata": {
        "colab": {
          "base_uri": "https://localhost:8080/",
          "height": 226
        },
        "id": "60LTpZFQbRb4",
        "outputId": "ac5cba02-9d04-445c-faa4-bab53271f55d"
      },
      "outputs": [
        {
          "data": {
            "text/html": [
              "<div>\n",
              "<style scoped>\n",
              "    .dataframe tbody tr th:only-of-type {\n",
              "        vertical-align: middle;\n",
              "    }\n",
              "\n",
              "    .dataframe tbody tr th {\n",
              "        vertical-align: top;\n",
              "    }\n",
              "\n",
              "    .dataframe thead th {\n",
              "        text-align: right;\n",
              "    }\n",
              "</style>\n",
              "<table border=\"1\" class=\"dataframe\">\n",
              "  <thead>\n",
              "    <tr style=\"text-align: right;\">\n",
              "      <th></th>\n",
              "      <th>person_age</th>\n",
              "      <th>person_income</th>\n",
              "      <th>person_home_ownership</th>\n",
              "      <th>person_emp_length</th>\n",
              "      <th>loan_intent</th>\n",
              "      <th>loan_grade</th>\n",
              "      <th>loan_amnt</th>\n",
              "      <th>loan_int_rate</th>\n",
              "      <th>loan_status</th>\n",
              "      <th>loan_percent_income</th>\n",
              "      <th>cb_person_default_on_file</th>\n",
              "      <th>cb_person_cred_hist_length</th>\n",
              "    </tr>\n",
              "  </thead>\n",
              "  <tbody>\n",
              "    <tr>\n",
              "      <th>32576</th>\n",
              "      <td>57</td>\n",
              "      <td>53000</td>\n",
              "      <td>MORTGAGE</td>\n",
              "      <td>1.0</td>\n",
              "      <td>PERSONAL</td>\n",
              "      <td>C</td>\n",
              "      <td>5800</td>\n",
              "      <td>13.16</td>\n",
              "      <td>0</td>\n",
              "      <td>0.11</td>\n",
              "      <td>N</td>\n",
              "      <td>30</td>\n",
              "    </tr>\n",
              "    <tr>\n",
              "      <th>32577</th>\n",
              "      <td>54</td>\n",
              "      <td>120000</td>\n",
              "      <td>MORTGAGE</td>\n",
              "      <td>4.0</td>\n",
              "      <td>PERSONAL</td>\n",
              "      <td>A</td>\n",
              "      <td>17625</td>\n",
              "      <td>7.49</td>\n",
              "      <td>0</td>\n",
              "      <td>0.15</td>\n",
              "      <td>N</td>\n",
              "      <td>19</td>\n",
              "    </tr>\n",
              "    <tr>\n",
              "      <th>32578</th>\n",
              "      <td>65</td>\n",
              "      <td>76000</td>\n",
              "      <td>RENT</td>\n",
              "      <td>3.0</td>\n",
              "      <td>HOMEIMPROVEMENT</td>\n",
              "      <td>B</td>\n",
              "      <td>35000</td>\n",
              "      <td>10.99</td>\n",
              "      <td>1</td>\n",
              "      <td>0.46</td>\n",
              "      <td>N</td>\n",
              "      <td>28</td>\n",
              "    </tr>\n",
              "    <tr>\n",
              "      <th>32579</th>\n",
              "      <td>56</td>\n",
              "      <td>150000</td>\n",
              "      <td>MORTGAGE</td>\n",
              "      <td>5.0</td>\n",
              "      <td>PERSONAL</td>\n",
              "      <td>B</td>\n",
              "      <td>15000</td>\n",
              "      <td>11.48</td>\n",
              "      <td>0</td>\n",
              "      <td>0.10</td>\n",
              "      <td>N</td>\n",
              "      <td>26</td>\n",
              "    </tr>\n",
              "    <tr>\n",
              "      <th>32580</th>\n",
              "      <td>66</td>\n",
              "      <td>42000</td>\n",
              "      <td>RENT</td>\n",
              "      <td>2.0</td>\n",
              "      <td>MEDICAL</td>\n",
              "      <td>B</td>\n",
              "      <td>6475</td>\n",
              "      <td>9.99</td>\n",
              "      <td>0</td>\n",
              "      <td>0.15</td>\n",
              "      <td>N</td>\n",
              "      <td>30</td>\n",
              "    </tr>\n",
              "  </tbody>\n",
              "</table>\n",
              "</div>"
            ],
            "text/plain": [
              "       person_age  ...  cb_person_cred_hist_length\n",
              "32576          57  ...                          30\n",
              "32577          54  ...                          19\n",
              "32578          65  ...                          28\n",
              "32579          56  ...                          26\n",
              "32580          66  ...                          30\n",
              "\n",
              "[5 rows x 12 columns]"
            ]
          },
          "execution_count": 5,
          "metadata": {},
          "output_type": "execute_result"
        }
      ],
      "source": [
        "data.tail()"
      ]
    },
    {
      "cell_type": "code",
      "execution_count": 6,
      "metadata": {
        "colab": {
          "base_uri": "https://localhost:8080/"
        },
        "id": "jjzlpOHs7rqY",
        "outputId": "8ac89bd4-3484-4402-e0ac-a0deec380496"
      },
      "outputs": [
        {
          "data": {
            "text/plain": [
              "(32581, 12)"
            ]
          },
          "execution_count": 6,
          "metadata": {},
          "output_type": "execute_result"
        }
      ],
      "source": [
        "data.shape"
      ]
    },
    {
      "cell_type": "code",
      "execution_count": 7,
      "metadata": {
        "colab": {
          "base_uri": "https://localhost:8080/"
        },
        "execution": {
          "iopub.execute_input": "2023-08-23T18:45:19.168496Z",
          "iopub.status.busy": "2023-08-23T18:45:19.168028Z",
          "iopub.status.idle": "2023-08-23T18:45:19.233804Z",
          "shell.execute_reply": "2023-08-23T18:45:19.232652Z",
          "shell.execute_reply.started": "2023-08-23T18:45:19.168457Z"
        },
        "id": "q47oRD7J0uqD",
        "outputId": "a64be760-c311-4e62-9e60-70a1d7ffdafb",
        "trusted": true
      },
      "outputs": [
        {
          "name": "stdout",
          "output_type": "stream",
          "text": [
            "<class 'pandas.core.frame.DataFrame'>\n",
            "RangeIndex: 32581 entries, 0 to 32580\n",
            "Data columns (total 12 columns):\n",
            " #   Column                      Non-Null Count  Dtype  \n",
            "---  ------                      --------------  -----  \n",
            " 0   person_age                  32581 non-null  int64  \n",
            " 1   person_income               32581 non-null  int64  \n",
            " 2   person_home_ownership       32581 non-null  object \n",
            " 3   person_emp_length           31686 non-null  float64\n",
            " 4   loan_intent                 32581 non-null  object \n",
            " 5   loan_grade                  32581 non-null  object \n",
            " 6   loan_amnt                   32581 non-null  int64  \n",
            " 7   loan_int_rate               29465 non-null  float64\n",
            " 8   loan_status                 32581 non-null  int64  \n",
            " 9   loan_percent_income         32581 non-null  float64\n",
            " 10  cb_person_default_on_file   32581 non-null  object \n",
            " 11  cb_person_cred_hist_length  32581 non-null  int64  \n",
            "dtypes: float64(3), int64(5), object(4)\n",
            "memory usage: 3.0+ MB\n"
          ]
        }
      ],
      "source": [
        "data.info()"
      ]
    },
    {
      "cell_type": "markdown",
      "metadata": {
        "id": "Nj4gkgNN0uqA"
      },
      "source": [
        "## 3. Analisis Data Eksplorasi\n"
      ]
    },
    {
      "cell_type": "code",
      "execution_count": 8,
      "metadata": {
        "colab": {
          "base_uri": "https://localhost:8080/",
          "height": 460
        },
        "execution": {
          "iopub.execute_input": "2023-08-23T18:45:19.236366Z",
          "iopub.status.busy": "2023-08-23T18:45:19.235334Z",
          "iopub.status.idle": "2023-08-23T18:45:19.287403Z",
          "shell.execute_reply": "2023-08-23T18:45:19.285881Z",
          "shell.execute_reply.started": "2023-08-23T18:45:19.236329Z"
        },
        "id": "Y3w92gZJ0uqE",
        "outputId": "f45e920b-a594-48fa-9f5c-c565bcab8389",
        "trusted": true
      },
      "outputs": [
        {
          "data": {
            "text/plain": [
              "person_age                       0\n",
              "person_income                    0\n",
              "person_home_ownership            0\n",
              "person_emp_length              895\n",
              "loan_intent                      0\n",
              "loan_grade                       0\n",
              "loan_amnt                        0\n",
              "loan_int_rate                 3116\n",
              "loan_status                      0\n",
              "loan_percent_income              0\n",
              "cb_person_default_on_file        0\n",
              "cb_person_cred_hist_length       0\n",
              "dtype: int64"
            ]
          },
          "execution_count": 8,
          "metadata": {},
          "output_type": "execute_result"
        }
      ],
      "source": [
        "data.isnull().sum()"
      ]
    },
    {
      "cell_type": "code",
      "execution_count": 9,
      "metadata": {
        "colab": {
          "base_uri": "https://localhost:8080/",
          "height": 460
        },
        "execution": {
          "iopub.execute_input": "2023-08-23T18:45:19.290997Z",
          "iopub.status.busy": "2023-08-23T18:45:19.290479Z",
          "iopub.status.idle": "2023-08-23T18:45:19.319513Z",
          "shell.execute_reply": "2023-08-23T18:45:19.318504Z",
          "shell.execute_reply.started": "2023-08-23T18:45:19.290957Z"
        },
        "id": "9fmuZp_L0uqE",
        "outputId": "e4ef3087-08d2-4772-f9bb-1f55a398b37e",
        "trusted": true
      },
      "outputs": [
        {
          "data": {
            "text/plain": [
              "person_age                      58\n",
              "person_income                 4295\n",
              "person_home_ownership            4\n",
              "person_emp_length               36\n",
              "loan_intent                      6\n",
              "loan_grade                       7\n",
              "loan_amnt                      753\n",
              "loan_int_rate                  348\n",
              "loan_status                      2\n",
              "loan_percent_income             77\n",
              "cb_person_default_on_file        2\n",
              "cb_person_cred_hist_length      29\n",
              "dtype: int64"
            ]
          },
          "execution_count": 9,
          "metadata": {},
          "output_type": "execute_result"
        }
      ],
      "source": [
        "data.nunique()"
      ]
    },
    {
      "cell_type": "code",
      "execution_count": 10,
      "metadata": {
        "colab": {
          "base_uri": "https://localhost:8080/",
          "height": 178
        },
        "execution": {
          "iopub.execute_input": "2023-08-23T18:45:19.32197Z",
          "iopub.status.busy": "2023-08-23T18:45:19.321239Z",
          "iopub.status.idle": "2023-08-23T18:45:19.334369Z",
          "shell.execute_reply": "2023-08-23T18:45:19.333125Z",
          "shell.execute_reply.started": "2023-08-23T18:45:19.321927Z"
        },
        "id": "kxOZUpwe0uqF",
        "outputId": "fb9ad92e-3478-45be-c09e-9f44cb2d839d",
        "trusted": true
      },
      "outputs": [
        {
          "data": {
            "text/plain": [
              "loan_status\n",
              "0    25473\n",
              "1     7108\n",
              "Name: count, dtype: int64"
            ]
          },
          "execution_count": 10,
          "metadata": {},
          "output_type": "execute_result"
        }
      ],
      "source": [
        "data.loan_status.value_counts()"
      ]
    },
    {
      "cell_type": "code",
      "execution_count": 11,
      "metadata": {
        "colab": {
          "base_uri": "https://localhost:8080/"
        },
        "execution": {
          "iopub.execute_input": "2023-08-23T18:45:19.336602Z",
          "iopub.status.busy": "2023-08-23T18:45:19.336165Z",
          "iopub.status.idle": "2023-08-23T18:45:19.371066Z",
          "shell.execute_reply": "2023-08-23T18:45:19.369958Z",
          "shell.execute_reply.started": "2023-08-23T18:45:19.336562Z"
        },
        "id": "oDr8L-wX0uqF",
        "outputId": "d4377ff8-8680-4867-94b9-dad68fbac429",
        "trusted": true
      },
      "outputs": [
        {
          "data": {
            "text/plain": [
              "np.int64(165)"
            ]
          },
          "execution_count": 11,
          "metadata": {},
          "output_type": "execute_result"
        }
      ],
      "source": [
        "data.duplicated().sum()"
      ]
    },
    {
      "cell_type": "code",
      "execution_count": 12,
      "metadata": {
        "colab": {
          "base_uri": "https://localhost:8080/",
          "height": 320
        },
        "execution": {
          "iopub.execute_input": "2023-08-23T18:45:19.373012Z",
          "iopub.status.busy": "2023-08-23T18:45:19.372677Z",
          "iopub.status.idle": "2023-08-23T18:45:19.406172Z",
          "shell.execute_reply": "2023-08-23T18:45:19.404531Z",
          "shell.execute_reply.started": "2023-08-23T18:45:19.372984Z"
        },
        "id": "rtLbPBvs0uqF",
        "outputId": "296a7186-106c-4809-b24e-025f4133a0ee",
        "trusted": true
      },
      "outputs": [
        {
          "data": {
            "text/html": [
              "<div>\n",
              "<style scoped>\n",
              "    .dataframe tbody tr th:only-of-type {\n",
              "        vertical-align: middle;\n",
              "    }\n",
              "\n",
              "    .dataframe tbody tr th {\n",
              "        vertical-align: top;\n",
              "    }\n",
              "\n",
              "    .dataframe thead th {\n",
              "        text-align: right;\n",
              "    }\n",
              "</style>\n",
              "<table border=\"1\" class=\"dataframe\">\n",
              "  <thead>\n",
              "    <tr style=\"text-align: right;\">\n",
              "      <th></th>\n",
              "      <th>person_age</th>\n",
              "      <th>person_income</th>\n",
              "      <th>person_emp_length</th>\n",
              "      <th>loan_amnt</th>\n",
              "      <th>loan_int_rate</th>\n",
              "      <th>loan_status</th>\n",
              "      <th>loan_percent_income</th>\n",
              "      <th>cb_person_cred_hist_length</th>\n",
              "    </tr>\n",
              "  </thead>\n",
              "  <tbody>\n",
              "    <tr>\n",
              "      <th>person_age</th>\n",
              "      <td>1.000000</td>\n",
              "      <td>0.173202</td>\n",
              "      <td>0.163106</td>\n",
              "      <td>0.050787</td>\n",
              "      <td>0.012580</td>\n",
              "      <td>-0.021629</td>\n",
              "      <td>-0.042411</td>\n",
              "      <td>0.859133</td>\n",
              "    </tr>\n",
              "    <tr>\n",
              "      <th>person_income</th>\n",
              "      <td>0.173202</td>\n",
              "      <td>1.000000</td>\n",
              "      <td>0.134268</td>\n",
              "      <td>0.266820</td>\n",
              "      <td>0.000792</td>\n",
              "      <td>-0.144449</td>\n",
              "      <td>-0.254471</td>\n",
              "      <td>0.117987</td>\n",
              "    </tr>\n",
              "    <tr>\n",
              "      <th>person_emp_length</th>\n",
              "      <td>0.163106</td>\n",
              "      <td>0.134268</td>\n",
              "      <td>1.000000</td>\n",
              "      <td>0.113082</td>\n",
              "      <td>-0.056405</td>\n",
              "      <td>-0.082489</td>\n",
              "      <td>-0.054111</td>\n",
              "      <td>0.144699</td>\n",
              "    </tr>\n",
              "    <tr>\n",
              "      <th>loan_amnt</th>\n",
              "      <td>0.050787</td>\n",
              "      <td>0.266820</td>\n",
              "      <td>0.113082</td>\n",
              "      <td>1.000000</td>\n",
              "      <td>0.146813</td>\n",
              "      <td>0.105376</td>\n",
              "      <td>0.572612</td>\n",
              "      <td>0.041967</td>\n",
              "    </tr>\n",
              "    <tr>\n",
              "      <th>loan_int_rate</th>\n",
              "      <td>0.012580</td>\n",
              "      <td>0.000792</td>\n",
              "      <td>-0.056405</td>\n",
              "      <td>0.146813</td>\n",
              "      <td>1.000000</td>\n",
              "      <td>0.335133</td>\n",
              "      <td>0.120314</td>\n",
              "      <td>0.016696</td>\n",
              "    </tr>\n",
              "    <tr>\n",
              "      <th>loan_status</th>\n",
              "      <td>-0.021629</td>\n",
              "      <td>-0.144449</td>\n",
              "      <td>-0.082489</td>\n",
              "      <td>0.105376</td>\n",
              "      <td>0.335133</td>\n",
              "      <td>1.000000</td>\n",
              "      <td>0.379366</td>\n",
              "      <td>-0.015529</td>\n",
              "    </tr>\n",
              "    <tr>\n",
              "      <th>loan_percent_income</th>\n",
              "      <td>-0.042411</td>\n",
              "      <td>-0.254471</td>\n",
              "      <td>-0.054111</td>\n",
              "      <td>0.572612</td>\n",
              "      <td>0.120314</td>\n",
              "      <td>0.379366</td>\n",
              "      <td>1.000000</td>\n",
              "      <td>-0.031690</td>\n",
              "    </tr>\n",
              "    <tr>\n",
              "      <th>cb_person_cred_hist_length</th>\n",
              "      <td>0.859133</td>\n",
              "      <td>0.117987</td>\n",
              "      <td>0.144699</td>\n",
              "      <td>0.041967</td>\n",
              "      <td>0.016696</td>\n",
              "      <td>-0.015529</td>\n",
              "      <td>-0.031690</td>\n",
              "      <td>1.000000</td>\n",
              "    </tr>\n",
              "  </tbody>\n",
              "</table>\n",
              "</div>"
            ],
            "text/plain": [
              "                            person_age  ...  cb_person_cred_hist_length\n",
              "person_age                    1.000000  ...                    0.859133\n",
              "person_income                 0.173202  ...                    0.117987\n",
              "person_emp_length             0.163106  ...                    0.144699\n",
              "loan_amnt                     0.050787  ...                    0.041967\n",
              "loan_int_rate                 0.012580  ...                    0.016696\n",
              "loan_status                  -0.021629  ...                   -0.015529\n",
              "loan_percent_income          -0.042411  ...                   -0.031690\n",
              "cb_person_cred_hist_length    0.859133  ...                    1.000000\n",
              "\n",
              "[8 rows x 8 columns]"
            ]
          },
          "execution_count": 12,
          "metadata": {},
          "output_type": "execute_result"
        }
      ],
      "source": [
        "# data.corr()\n",
        "data.select_dtypes(include=np.number).corr()\n",
        "# data.select_dtypes().corr()"
      ]
    },
    {
      "cell_type": "code",
      "execution_count": 13,
      "metadata": {
        "colab": {
          "base_uri": "https://localhost:8080/",
          "height": 577
        },
        "execution": {
          "iopub.execute_input": "2023-08-23T18:45:19.407877Z",
          "iopub.status.busy": "2023-08-23T18:45:19.40746Z",
          "iopub.status.idle": "2023-08-23T18:45:20.3914Z",
          "shell.execute_reply": "2023-08-23T18:45:20.390144Z",
          "shell.execute_reply.started": "2023-08-23T18:45:19.407835Z"
        },
        "id": "_8YhnnBt0uqG",
        "outputId": "cc2bbf1b-7669-4a8a-a0f0-d61be15adf94",
        "trusted": true
      },
      "outputs": [
        {
          "data": {
            "image/png": "[encoded data removed]",
            "text/plain": [
              "<Figure size 1500x800 with 2 Axes>"
            ]
          },
          "metadata": {},
          "output_type": "display_data"
        }
      ],
      "source": [
        "# perikas korelasi antar kolom\n",
        "fig, ax = plt.subplots()\n",
        "fig.set_size_inches(15,8)\n",
        "sns.heatmap(data.select_dtypes(include=np.number).corr(), vmax =1., square = True, annot = True,cmap='Greens' )\n",
        "plt.title('Korelasi Kolom',fontsize=15);"
      ]
    },
    {
      "cell_type": "markdown",
      "metadata": {
        "id": "a-lxiUDq0up_"
      },
      "source": [
        "<div style=\"background-color: #ddefdd; padding: 10px; border-radius: 10px; color: #007d3c; text-align: center; box-shadow: 0 4px 8px rgba(0, 0, 0, 0.1);\">\n",
        "    <h1 style=\"font-size: 24px;\">Deskripsi Fitur</h1>\n",
        "</div>\n",
        "\n",
        "<div style=\"background-color: #f3faf3; padding: 15px; border-radius: 10px; margin-top: 20px; text-align: left;\">\n",
        "    <ul>\n",
        "        <li><b>person_age:</b> Usia individu yang mengajukan pinjaman.</li>\n",
        "        <li><b>person_income:</b> Penghasilan tahunan individu.</li>\n",
        "        <li><b>person_home_ownership:</b> Jenis kepemilikan rumah individu.\n",
        "            <ul>\n",
        "                <li>rent: Individu tersebut saat ini menyewa properti.</li>\n",
        "                <li>mortgage: Individu tersebut memiliki hipotek (perjanjian pinjaman) atas properti yang mereka miliki.</li>\n",
        "                <li>own: Individu tersebut memiliki rumah mereka secara langsung.</li>\n",
        "                <li>other: Kategori kepemilikan rumah lain yang mungkin spesifik untuk kumpulan data.</li>\n",
        "            </ul>\n",
        "        </li>\n",
        "        <li><b>person_emp_length:</b> Lama kerja individu dalam tahun.</li>\n",
        "        <li><b>loan_intent:</b> Maksud di balik pengajuan pinjaman.\n",
        "          <ul>\n",
        "            <li>Education: Peminjam perlu membiayai peindidikan</li>\n",
        "            <li>Medical: Peminjam perlu membiayai pengobatan</li>\n",
        "            <li>Venture: Peminjam perlu dana untuk pengembangan bisnis</li>\n",
        "            <li>Personal: Peminjam perlu membiayai biaya hidup</li>\n",
        "            <li>Debtconsolidation: Peminjam ingin menggabungkan beberapa pinjaman sebelumnya menjadi satu pinjaman</li>\n",
        "            <li>Homeimprovement: Peminjam perlu melakukan perbaikan rumah</li>\n",
        "          </ul>\n",
        "        </li>\n",
        "        <li><b>loan_grade:</b> Nilai yang diberikan untuk pinjaman berdasarkan kelayakan kredit peminjam.\n",
        "            <ul>\n",
        "                <li>A: Peminjam memiliki kelayakan kredit yang tinggi, menunjukkan risiko rendah.</li>\n",
        "                <li>B: Peminjam relatif berisiko rendah, tetapi tidak layak dikreditkan seperti Grade A.</li>\n",
        "                <li>C: Kelayakan kredit peminjam sedang.</li>\n",
        "                <li>D: Peminjam dianggap memiliki risiko lebih tinggi dibandingkan dengan nilai sebelumnya.</li>\n",
        "                <li>E: Kelayakan kredit peminjam lebih rendah, menunjukkan risiko yang lebih tinggi.</li>\n",
        "                <li>F: Peminjam menimbulkan risiko kredit yang signifikan.</li>\n",
        "                <li>G: Kelayakan kredit peminjam adalah yang terendah, menandakan risiko tertinggi.</li>\n",
        "            </ul>\n",
        "        </li>\n",
        "        <li><b>loan_amnt:</b> Jumlah pinjaman yang diminta oleh individu.</li>\n",
        "        <li><b>loan_int_rate:</b> Suku bunga yang terkait dengan pinjaman.</li>\n",
        "        <li><b>loan_status:</b> Status pinjaman dari pengaju pinjaman.\n",
        "            <ul>\n",
        "                <li>0: Non-default - Peminjam berhasil menerima pinjaman dan potensi adanya gagal bayar rendah.</li>\n",
        "                <li>1: Default - Peminjam gagal menerima pinjaman dan potensi gagal bayar tinggi.</li>\n",
        "            </ul>\n",
        "        </li>\n",
        "        <li><b>loan_percent_income:</b> Persentase pendapatan yang diwakili oleh jumlah pinjaman.</li>\n",
        "        <li><b>cb_person_default_on_file:</b> Riwayat gagal bayar individu sesuai catatan biro kredit.\n",
        "            <ul>\n",
        "                <li>Y: Individu tersebut memiliki riwayat gagal bayar pada file kredit mereka.</li>\n",
        "                <li>N: Individu tersebut tidak memiliki riwayat gagal bayar.</li>\n",
        "            </ul>\n",
        "        </li>\n",
        "        <li><b>cb_preson_cred_hist_length:</b> Panjang riwayat kredit untuk individu.</li>\n",
        "    </ul>\n",
        "</div>\n"
      ]
    },
    {
      "cell_type": "markdown",
      "metadata": {
        "id": "Rbn4y2u50uqK"
      },
      "source": [
        "## 4. Membersihkan data\n"
      ]
    },
    {
      "cell_type": "code",
      "execution_count": 14,
      "metadata": {
        "colab": {
          "base_uri": "https://localhost:8080/",
          "height": 460
        },
        "execution": {
          "iopub.execute_input": "2023-08-23T18:47:46.768698Z",
          "iopub.status.busy": "2023-08-23T18:47:46.76767Z",
          "iopub.status.idle": "2023-08-23T18:47:46.821463Z",
          "shell.execute_reply": "2023-08-23T18:47:46.82027Z",
          "shell.execute_reply.started": "2023-08-23T18:47:46.768662Z"
        },
        "id": "LloPxI1d0uqL",
        "outputId": "b51e3d31-5715-4d77-d216-497112bc975a",
        "trusted": true
      },
      "outputs": [
        {
          "data": {
            "text/plain": [
              "person_age                       0\n",
              "person_income                    0\n",
              "person_home_ownership            0\n",
              "person_emp_length              895\n",
              "loan_intent                      0\n",
              "loan_grade                       0\n",
              "loan_amnt                        0\n",
              "loan_int_rate                 3116\n",
              "loan_status                      0\n",
              "loan_percent_income              0\n",
              "cb_person_default_on_file        0\n",
              "cb_person_cred_hist_length       0\n",
              "dtype: int64"
            ]
          },
          "execution_count": 14,
          "metadata": {},
          "output_type": "execute_result"
        }
      ],
      "source": [
        "data.isnull().sum()"
      ]
    },
    {
      "cell_type": "code",
      "execution_count": 15,
      "metadata": {
        "execution": {
          "iopub.execute_input": "2023-08-23T18:47:46.822795Z",
          "iopub.status.busy": "2023-08-23T18:47:46.822492Z",
          "iopub.status.idle": "2023-08-23T18:47:46.873595Z",
          "shell.execute_reply": "2023-08-23T18:47:46.872636Z",
          "shell.execute_reply.started": "2023-08-23T18:47:46.822769Z"
        },
        "id": "2gdcteOs0uqL",
        "trusted": true
      },
      "outputs": [],
      "source": [
        "# drop values that are null\n",
        "data.dropna(axis=0,inplace=True)"
      ]
    },
    {
      "cell_type": "code",
      "execution_count": 16,
      "metadata": {
        "colab": {
          "base_uri": "https://localhost:8080/",
          "height": 460
        },
        "execution": {
          "iopub.execute_input": "2023-08-23T18:47:46.875589Z",
          "iopub.status.busy": "2023-08-23T18:47:46.875126Z",
          "iopub.status.idle": "2023-08-23T18:47:46.92136Z",
          "shell.execute_reply": "2023-08-23T18:47:46.920323Z",
          "shell.execute_reply.started": "2023-08-23T18:47:46.875558Z"
        },
        "id": "_17Takrg0uqL",
        "outputId": "c5b80b90-270b-46c9-d457-5c2ae7c3f831",
        "trusted": true
      },
      "outputs": [
        {
          "data": {
            "text/plain": [
              "person_age                    0\n",
              "person_income                 0\n",
              "person_home_ownership         0\n",
              "person_emp_length             0\n",
              "loan_intent                   0\n",
              "loan_grade                    0\n",
              "loan_amnt                     0\n",
              "loan_int_rate                 0\n",
              "loan_status                   0\n",
              "loan_percent_income           0\n",
              "cb_person_default_on_file     0\n",
              "cb_person_cred_hist_length    0\n",
              "dtype: int64"
            ]
          },
          "execution_count": 16,
          "metadata": {},
          "output_type": "execute_result"
        }
      ],
      "source": [
        "data.isnull().sum()"
      ]
    },
    {
      "cell_type": "code",
      "execution_count": 17,
      "metadata": {
        "colab": {
          "base_uri": "https://localhost:8080/"
        },
        "execution": {
          "iopub.execute_input": "2023-08-23T18:47:46.923986Z",
          "iopub.status.busy": "2023-08-23T18:47:46.923219Z",
          "iopub.status.idle": "2023-08-23T18:47:46.933079Z",
          "shell.execute_reply": "2023-08-23T18:47:46.93188Z",
          "shell.execute_reply.started": "2023-08-23T18:47:46.923946Z"
        },
        "id": "tbnkNzA90uqL",
        "outputId": "9b7f7651-47eb-4558-e4d3-fa37961747f6",
        "trusted": true
      },
      "outputs": [
        {
          "data": {
            "text/plain": [
              "np.int64(137)"
            ]
          },
          "execution_count": 17,
          "metadata": {},
          "output_type": "execute_result"
        }
      ],
      "source": [
        "data.duplicated().sum()"
      ]
    },
    {
      "cell_type": "code",
      "execution_count": 18,
      "metadata": {
        "execution": {
          "iopub.execute_input": "2023-08-23T18:47:46.935386Z",
          "iopub.status.busy": "2023-08-23T18:47:46.93494Z",
          "iopub.status.idle": "2023-08-23T18:47:46.984131Z",
          "shell.execute_reply": "2023-08-23T18:47:46.983073Z",
          "shell.execute_reply.started": "2023-08-23T18:47:46.935348Z"
        },
        "id": "FLxNmeZe0uqZ",
        "trusted": true
      },
      "outputs": [],
      "source": [
        "data = data.drop_duplicates()"
      ]
    },
    {
      "cell_type": "code",
      "execution_count": 19,
      "metadata": {
        "colab": {
          "base_uri": "https://localhost:8080/"
        },
        "id": "YEy1M0-Ol0t7",
        "outputId": "5f24e9b1-9c71-4122-e732-fb520beaab9b"
      },
      "outputs": [
        {
          "data": {
            "text/plain": [
              "np.int64(0)"
            ]
          },
          "execution_count": 19,
          "metadata": {},
          "output_type": "execute_result"
        }
      ],
      "source": [
        "data.duplicated().sum()"
      ]
    },
    {
      "cell_type": "code",
      "execution_count": 20,
      "metadata": {
        "execution": {
          "iopub.execute_input": "2023-08-23T18:47:46.986392Z",
          "iopub.status.busy": "2023-08-23T18:47:46.985944Z",
          "iopub.status.idle": "2023-08-23T18:47:46.991966Z",
          "shell.execute_reply": "2023-08-23T18:47:46.990873Z",
          "shell.execute_reply.started": "2023-08-23T18:47:46.986354Z"
        },
        "id": "RiMcupVl0uqZ",
        "trusted": true
      },
      "outputs": [],
      "source": [
        "#person_age max 144 (issue)\n",
        "#person_emp_length max 123 (issue)\n",
        "data.reset_index(inplace = True)"
      ]
    },
    {
      "cell_type": "code",
      "execution_count": 21,
      "metadata": {
        "colab": {
          "base_uri": "https://localhost:8080/",
          "height": 1000
        },
        "id": "3moXvLpERSKe",
        "outputId": "fb0e8c82-7794-43ad-bf66-5527c70b9aa1"
      },
      "outputs": [
        {
          "data": {
            "text/plain": [
              "person_age\n",
              "23     3390\n",
              "22     3144\n",
              "24     3109\n",
              "25     2686\n",
              "26     2188\n",
              "27     1880\n",
              "28     1619\n",
              "29     1488\n",
              "30     1122\n",
              "21     1048\n",
              "31     1006\n",
              "32      857\n",
              "33      757\n",
              "34      624\n",
              "35      558\n",
              "36      481\n",
              "37      409\n",
              "38      321\n",
              "39      269\n",
              "40      235\n",
              "41      218\n",
              "42      164\n",
              "43      142\n",
              "44      116\n",
              "45       91\n",
              "46       86\n",
              "47       76\n",
              "48       65\n",
              "50       45\n",
              "49       40\n",
              "51       33\n",
              "52       33\n",
              "53       26\n",
              "54       21\n",
              "55       18\n",
              "58       17\n",
              "57       15\n",
              "20       14\n",
              "56       14\n",
              "60       13\n",
              "61        8\n",
              "66        8\n",
              "64        7\n",
              "62        6\n",
              "65        5\n",
              "69        5\n",
              "70        5\n",
              "59        5\n",
              "144       3\n",
              "63        3\n",
              "73        2\n",
              "123       1\n",
              "78        1\n",
              "80        1\n",
              "84        1\n",
              "76        1\n",
              "67        1\n",
              "Name: count, dtype: int64"
            ]
          },
          "execution_count": 21,
          "metadata": {},
          "output_type": "execute_result"
        }
      ],
      "source": [
        "data['person_age'].value_counts()"
      ]
    },
    {
      "cell_type": "code",
      "execution_count": 22,
      "metadata": {
        "colab": {
          "base_uri": "https://localhost:8080/",
          "height": 254
        },
        "execution": {
          "iopub.execute_input": "2023-08-23T18:47:46.994137Z",
          "iopub.status.busy": "2023-08-23T18:47:46.99368Z",
          "iopub.status.idle": "2023-08-23T18:47:47.546206Z",
          "shell.execute_reply": "2023-08-23T18:47:47.545041Z",
          "shell.execute_reply.started": "2023-08-23T18:47:46.994098Z"
        },
        "id": "hL8NJqgL0uqa",
        "outputId": "79341241-8352-4e2e-d9f8-3af3632762c5",
        "trusted": true
      },
      "outputs": [
        {
          "data": {
            "text/plain": [
              "<BarContainer object of 57 artists>"
            ]
          },
          "execution_count": 22,
          "metadata": {},
          "output_type": "execute_result"
        },
        {
          "data": {
            "image/png": "[encoded data removed]",
            "text/plain": [
              "<Figure size 1500x500 with 1 Axes>"
            ]
          },
          "metadata": {},
          "output_type": "display_data"
        }
      ],
      "source": [
        "verti = data['person_age'].value_counts().values\n",
        "hori = data['person_age'].value_counts().index\n",
        "fig = plt.figure(figsize = (15, 5))\n",
        "plt.bar(hori, verti)"
      ]
    },
    {
      "cell_type": "code",
      "execution_count": 23,
      "metadata": {
        "colab": {
          "base_uri": "https://localhost:8080/"
        },
        "execution": {
          "iopub.execute_input": "2023-08-23T18:47:47.547936Z",
          "iopub.status.busy": "2023-08-23T18:47:47.54762Z",
          "iopub.status.idle": "2023-08-23T18:47:47.557156Z",
          "shell.execute_reply": "2023-08-23T18:47:47.554811Z",
          "shell.execute_reply.started": "2023-08-23T18:47:47.54791Z"
        },
        "id": "gHtex9QQ0uqa",
        "outputId": "63baa2cd-399b-499c-c943-1b698178e397",
        "trusted": true
      },
      "outputs": [
        {
          "data": {
            "text/plain": [
              "np.int64(28)"
            ]
          },
          "execution_count": 23,
          "metadata": {},
          "output_type": "execute_result"
        }
      ],
      "source": [
        "(data['person_age'].value_counts().values>55).sum()"
      ]
    },
    {
      "cell_type": "code",
      "execution_count": 24,
      "metadata": {
        "execution": {
          "iopub.execute_input": "2023-08-23T18:47:47.559821Z",
          "iopub.status.busy": "2023-08-23T18:47:47.558718Z",
          "iopub.status.idle": "2023-08-23T18:47:47.571888Z",
          "shell.execute_reply": "2023-08-23T18:47:47.5706Z",
          "shell.execute_reply.started": "2023-08-23T18:47:47.559776Z"
        },
        "id": "uNUHp1790uqc",
        "trusted": true
      },
      "outputs": [],
      "source": [
        "data = data.drop(data[data['person_age'] > 55].index, axis=0)"
      ]
    },
    {
      "cell_type": "code",
      "execution_count": 25,
      "metadata": {
        "colab": {
          "base_uri": "https://localhost:8080/",
          "height": 236
        },
        "id": "lh2BwO81cnUm",
        "outputId": "3bc98fd2-1fed-4a39-ab4a-16b7a616aff1"
      },
      "outputs": [
        {
          "data": {
            "image/png": "[encoded data removed]",
            "text/plain": [
              "<Figure size 1500x500 with 1 Axes>"
            ]
          },
          "metadata": {},
          "output_type": "display_data"
        }
      ],
      "source": [
        "verti = data['person_age'].value_counts().values\n",
        "hori = data['person_age'].value_counts().index\n",
        "fig = plt.figure(figsize = (15, 5))\n",
        "plt.bar(hori, verti)\n",
        "plt.show()"
      ]
    },
    {
      "cell_type": "code",
      "execution_count": 26,
      "metadata": {
        "colab": {
          "base_uri": "https://localhost:8080/",
          "height": 1000
        },
        "id": "lvsRF5c8XkYe",
        "outputId": "8a37b864-595a-43dd-db33-d5827e2ea22d"
      },
      "outputs": [
        {
          "data": {
            "text/plain": [
              "person_emp_length\n",
              "0.0      3672\n",
              "1.0      2611\n",
              "2.0      3439\n",
              "3.0      3107\n",
              "4.0      2554\n",
              "5.0      2686\n",
              "6.0      2377\n",
              "7.0      1955\n",
              "8.0      1523\n",
              "9.0      1221\n",
              "10.0      628\n",
              "11.0      657\n",
              "12.0      512\n",
              "13.0      378\n",
              "14.0      303\n",
              "15.0      211\n",
              "16.0      152\n",
              "17.0      112\n",
              "18.0       95\n",
              "19.0       61\n",
              "20.0       34\n",
              "21.0       32\n",
              "22.0       18\n",
              "23.0        9\n",
              "24.0        7\n",
              "25.0        8\n",
              "26.0        4\n",
              "27.0        4\n",
              "28.0        2\n",
              "31.0        4\n",
              "38.0        1\n",
              "123.0       2\n",
              "Name: count, dtype: int64"
            ]
          },
          "execution_count": 26,
          "metadata": {},
          "output_type": "execute_result"
        }
      ],
      "source": [
        "data['person_emp_length'].value_counts().sort_index()"
      ]
    },
    {
      "cell_type": "code",
      "execution_count": 27,
      "metadata": {
        "colab": {
          "base_uri": "https://localhost:8080/",
          "height": 236
        },
        "id": "yrNPGVNSXdXC",
        "outputId": "56b0f193-24af-44e9-df67-ce2fa61e2522"
      },
      "outputs": [
        {
          "data": {
            "image/png": "[encoded data removed]",
            "text/plain": [
              "<Figure size 1500x500 with 1 Axes>"
            ]
          },
          "metadata": {},
          "output_type": "display_data"
        }
      ],
      "source": [
        "verti = data['person_emp_length'].value_counts().values\n",
        "hori = data['person_emp_length'].value_counts().index\n",
        "fig = plt.figure(figsize = (15, 5))\n",
        "plt.bar(hori, verti)\n",
        "plt.show()"
      ]
    },
    {
      "cell_type": "code",
      "execution_count": 28,
      "metadata": {
        "execution": {
          "iopub.execute_input": "2023-08-23T18:47:47.704683Z",
          "iopub.status.busy": "2023-08-23T18:47:47.704304Z",
          "iopub.status.idle": "2023-08-23T18:47:47.722285Z",
          "shell.execute_reply": "2023-08-23T18:47:47.721266Z",
          "shell.execute_reply.started": "2023-08-23T18:47:47.704654Z"
        },
        "id": "LIIK_EPX0uqi",
        "trusted": true
      },
      "outputs": [],
      "source": [
        "data = data.drop(data[data['person_emp_length'] > 38].index, axis=0)"
      ]
    },
    {
      "cell_type": "code",
      "execution_count": 29,
      "metadata": {
        "colab": {
          "base_uri": "https://localhost:8080/",
          "height": 236
        },
        "id": "pj4KS6afcul0",
        "outputId": "244a4997-a9b3-42a6-cba2-71f86707454d"
      },
      "outputs": [
        {
          "data": {
            "image/png": "[encoded data removed]",
            "text/plain": [
              "<Figure size 1500x500 with 1 Axes>"
            ]
          },
          "metadata": {},
          "output_type": "display_data"
        }
      ],
      "source": [
        "verti = data['person_emp_length'].value_counts().values\n",
        "hori = data['person_emp_length'].value_counts().index\n",
        "fig = plt.figure(figsize = (15, 5))\n",
        "plt.bar(hori, verti)\n",
        "plt.show()"
      ]
    },
    {
      "cell_type": "markdown",
      "metadata": {
        "id": "GWxYlY650uqb"
      },
      "source": [
        "## 5. Feature Engineering\n"
      ]
    },
    {
      "cell_type": "code",
      "execution_count": 30,
      "metadata": {
        "execution": {
          "iopub.execute_input": "2023-08-23T18:47:47.73474Z",
          "iopub.status.busy": "2023-08-23T18:47:47.733904Z",
          "iopub.status.idle": "2023-08-23T18:47:47.747771Z",
          "shell.execute_reply": "2023-08-23T18:47:47.746483Z",
          "shell.execute_reply.started": "2023-08-23T18:47:47.734693Z"
        },
        "id": "ZJzH8Qkm0uqj",
        "trusted": true
      },
      "outputs": [],
      "source": [
        "data = data.drop(['index'], axis=1)\n",
        "data.reset_index(inplace = True)\n",
        "data = data.drop(['index'], axis=1)"
      ]
    },
    {
      "cell_type": "code",
      "execution_count": 31,
      "metadata": {
        "colab": {
          "base_uri": "https://localhost:8080/"
        },
        "execution": {
          "iopub.execute_input": "2023-08-23T18:47:47.806886Z",
          "iopub.status.busy": "2023-08-23T18:47:47.806488Z",
          "iopub.status.idle": "2023-08-23T18:47:47.816142Z",
          "shell.execute_reply": "2023-08-23T18:47:47.815084Z",
          "shell.execute_reply.started": "2023-08-23T18:47:47.806856Z"
        },
        "id": "JFfCtw7y0uql",
        "outputId": "0ea3dd9d-4c20-4010-f19a-eb754f56051c",
        "trusted": true
      },
      "outputs": [
        {
          "name": "stdout",
          "output_type": "stream",
          "text": [
            "<class 'pandas.core.frame.DataFrame'>\n",
            "RangeIndex: 28377 entries, 0 to 28376\n",
            "Data columns (total 12 columns):\n",
            " #   Column                      Non-Null Count  Dtype  \n",
            "---  ------                      --------------  -----  \n",
            " 0   person_age                  28377 non-null  int64  \n",
            " 1   person_income               28377 non-null  int64  \n",
            " 2   person_home_ownership       28377 non-null  object \n",
            " 3   person_emp_length           28377 non-null  float64\n",
            " 4   loan_intent                 28377 non-null  object \n",
            " 5   loan_grade                  28377 non-null  object \n",
            " 6   loan_amnt                   28377 non-null  int64  \n",
            " 7   loan_int_rate               28377 non-null  float64\n",
            " 8   loan_status                 28377 non-null  int64  \n",
            " 9   loan_percent_income         28377 non-null  float64\n",
            " 10  cb_person_default_on_file   28377 non-null  object \n",
            " 11  cb_person_cred_hist_length  28377 non-null  int64  \n",
            "dtypes: float64(3), int64(5), object(4)\n",
            "memory usage: 2.6+ MB\n"
          ]
        }
      ],
      "source": [
        "data.info()"
      ]
    },
    {
      "cell_type": "code",
      "execution_count": 32,
      "metadata": {
        "colab": {
          "base_uri": "https://localhost:8080/",
          "height": 80
        },
        "execution": {
          "iopub.execute_input": "2023-08-23T18:47:48.119082Z",
          "iopub.status.busy": "2023-08-23T18:47:48.118638Z",
          "iopub.status.idle": "2023-08-23T18:47:48.14911Z",
          "shell.execute_reply": "2023-08-23T18:47:48.147944Z",
          "shell.execute_reply.started": "2023-08-23T18:47:48.119019Z"
        },
        "id": "zdMqbH4A0uqp",
        "outputId": "d9ab5330-803d-46b8-b311-ca5ee5172711",
        "trusted": true
      },
      "outputs": [
        {
          "data": {
            "text/html": [
              "<style>#sk-container-id-1 {\n",
              "  /* Definition of color scheme common for light and dark mode */\n",
              "  --sklearn-color-text: #000;\n",
              "  --sklearn-color-text-muted: #666;\n",
              "  --sklearn-color-line: gray;\n",
              "  /* Definition of color scheme for unfitted estimators */\n",
              "  --sklearn-color-unfitted-level-0: #fff5e6;\n",
              "  --sklearn-color-unfitted-level-1: #f6e4d2;\n",
              "  --sklearn-color-unfitted-level-2: #ffe0b3;\n",
              "  --sklearn-color-unfitted-level-3: chocolate;\n",
              "  /* Definition of color scheme for fitted estimators */\n",
              "  --sklearn-color-fitted-level-0: #f0f8ff;\n",
              "  --sklearn-color-fitted-level-1: #d4ebff;\n",
              "  --sklearn-color-fitted-level-2: #b3dbfd;\n",
              "  --sklearn-color-fitted-level-3: cornflowerblue;\n",
              "\n",
              "  /* Specific color for light theme */\n",
              "  --sklearn-color-text-on-default-background: var(--sg-text-color, var(--theme-code-foreground, var(--jp-content-font-color1, black)));\n",
              "  --sklearn-color-background: var(--sg-background-color, var(--theme-background, var(--jp-layout-color0, white)));\n",
              "  --sklearn-color-border-box: var(--sg-text-color, var(--theme-code-foreground, var(--jp-content-font-color1, black)));\n",
              "  --sklearn-color-icon: #696969;\n",
              "\n",
              "  @media (prefers-color-scheme: dark) {\n",
              "    /* Redefinition of color scheme for dark theme */\n",
              "    --sklearn-color-text-on-default-background: var(--sg-text-color, var(--theme-code-foreground, var(--jp-content-font-color1, white)));\n",
              "    --sklearn-color-background: var(--sg-background-color, var(--theme-background, var(--jp-layout-color0, #111)));\n",
              "    --sklearn-color-border-box: var(--sg-text-color, var(--theme-code-foreground, var(--jp-content-font-color1, white)));\n",
              "    --sklearn-color-icon: #878787;\n",
              "  }\n",
              "}\n",
              "\n",
              "#sk-container-id-1 {\n",
              "  color: var(--sklearn-color-text);\n",
              "}\n",
              "\n",
              "#sk-container-id-1 pre {\n",
              "  padding: 0;\n",
              "}\n",
              "\n",
              "#sk-container-id-1 input.sk-hidden--visually {\n",
              "  border: 0;\n",
              "  clip: rect(1px 1px 1px 1px);\n",
              "  clip: rect(1px, 1px, 1px, 1px);\n",
              "  height: 1px;\n",
              "  margin: -1px;\n",
              "  overflow: hidden;\n",
              "  padding: 0;\n",
              "  position: absolute;\n",
              "  width: 1px;\n",
              "}\n",
              "\n",
              "#sk-container-id-1 div.sk-dashed-wrapped {\n",
              "  border: 1px dashed var(--sklearn-color-line);\n",
              "  margin: 0 0.4em 0.5em 0.4em;\n",
              "  box-sizing: border-box;\n",
              "  padding-bottom: 0.4em;\n",
              "  background-color: var(--sklearn-color-background);\n",
              "}\n",
              "\n",
              "#sk-container-id-1 div.sk-container {\n",
              "  /* jupyter's `normalize.less` sets `[hidden] { display: none; }`\n",
              "     but bootstrap.min.css set `[hidden] { display: none !important; }`\n",
              "     so we also need the `!important` here to be able to override the\n",
              "     default hidden behavior on the sphinx rendered scikit-learn.org.\n",
              "     See: https://github.com/scikit-learn/scikit-learn/issues/21755 */\n",
              "  display: inline-block !important;\n",
              "  position: relative;\n",
              "}\n",
              "\n",
              "#sk-container-id-1 div.sk-text-repr-fallback {\n",
              "  display: none;\n",
              "}\n",
              "\n",
              "div.sk-parallel-item,\n",
              "div.sk-serial,\n",
              "div.sk-item {\n",
              "  /* draw centered vertical line to link estimators */\n",
              "  background-image: linear-gradient(var(--sklearn-color-text-on-default-background), var(--sklearn-color-text-on-default-background));\n",
              "  background-size: 2px 100%;\n",
              "  background-repeat: no-repeat;\n",
              "  background-position: center center;\n",
              "}\n",
              "\n",
              "/* Parallel-specific style estimator block */\n",
              "\n",
              "#sk-container-id-1 div.sk-parallel-item::after {\n",
              "  content: \"\";\n",
              "  width: 100%;\n",
              "  border-bottom: 2px solid var(--sklearn-color-text-on-default-background);\n",
              "  flex-grow: 1;\n",
              "}\n",
              "\n",
              "#sk-container-id-1 div.sk-parallel {\n",
              "  display: flex;\n",
              "  align-items: stretch;\n",
              "  justify-content: center;\n",
              "  background-color: var(--sklearn-color-background);\n",
              "  position: relative;\n",
              "}\n",
              "\n",
              "#sk-container-id-1 div.sk-parallel-item {\n",
              "  display: flex;\n",
              "  flex-direction: column;\n",
              "}\n",
              "\n",
              "#sk-container-id-1 div.sk-parallel-item:first-child::after {\n",
              "  align-self: flex-end;\n",
              "  width: 50%;\n",
              "}\n",
              "\n",
              "#sk-container-id-1 div.sk-parallel-item:last-child::after {\n",
              "  align-self: flex-start;\n",
              "  width: 50%;\n",
              "}\n",
              "\n",
              "#sk-container-id-1 div.sk-parallel-item:only-child::after {\n",
              "  width: 0;\n",
              "}\n",
              "\n",
              "/* Serial-specific style estimator block */\n",
              "\n",
              "#sk-container-id-1 div.sk-serial {\n",
              "  display: flex;\n",
              "  flex-direction: column;\n",
              "  align-items: center;\n",
              "  background-color: var(--sklearn-color-background);\n",
              "  padding-right: 1em;\n",
              "  padding-left: 1em;\n",
              "}\n",
              "\n",
              "\n",
              "/* Toggleable style: style used for estimator/Pipeline/ColumnTransformer box that is\n",
              "clickable and can be expanded/collapsed.\n",
              "- Pipeline and ColumnTransformer use this feature and define the default style\n",
              "- Estimators will overwrite some part of the style using the `sk-estimator` class\n",
              "*/\n",
              "\n",
              "/* Pipeline and ColumnTransformer style (default) */\n",
              "\n",
              "#sk-container-id-1 div.sk-toggleable {\n",
              "  /* Default theme specific background. It is overwritten whether we have a\n",
              "  specific estimator or a Pipeline/ColumnTransformer */\n",
              "  background-color: var(--sklearn-color-background);\n",
              "}\n",
              "\n",
              "/* Toggleable label */\n",
              "#sk-container-id-1 label.sk-toggleable__label {\n",
              "  cursor: pointer;\n",
              "  display: flex;\n",
              "  width: 100%;\n",
              "  margin-bottom: 0;\n",
              "  padding: 0.5em;\n",
              "  box-sizing: border-box;\n",
              "  text-align: center;\n",
              "  align-items: start;\n",
              "  justify-content: space-between;\n",
              "  gap: 0.5em;\n",
              "}\n",
              "\n",
              "#sk-container-id-1 label.sk-toggleable__label .caption {\n",
              "  font-size: 0.6rem;\n",
              "  font-weight: lighter;\n",
              "  color: var(--sklearn-color-text-muted);\n",
              "}\n",
              "\n",
              "#sk-container-id-1 label.sk-toggleable__label-arrow:before {\n",
              "  /* Arrow on the left of the label */\n",
              "  content: \"▸\";\n",
              "  float: left;\n",
              "  margin-right: 0.25em;\n",
              "  color: var(--sklearn-color-icon);\n",
              "}\n",
              "\n",
              "#sk-container-id-1 label.sk-toggleable__label-arrow:hover:before {\n",
              "  color: var(--sklearn-color-text);\n",
              "}\n",
              "\n",
              "/* Toggleable content - dropdown */\n",
              "\n",
              "#sk-container-id-1 div.sk-toggleable__content {\n",
              "  max-height: 0;\n",
              "  max-width: 0;\n",
              "  overflow: hidden;\n",
              "  text-align: left;\n",
              "  /* unfitted */\n",
              "  background-color: var(--sklearn-color-unfitted-level-0);\n",
              "}\n",
              "\n",
              "#sk-container-id-1 div.sk-toggleable__content.fitted {\n",
              "  /* fitted */\n",
              "  background-color: var(--sklearn-color-fitted-level-0);\n",
              "}\n",
              "\n",
              "#sk-container-id-1 div.sk-toggleable__content pre {\n",
              "  margin: 0.2em;\n",
              "  border-radius: 0.25em;\n",
              "  color: var(--sklearn-color-text);\n",
              "  /* unfitted */\n",
              "  background-color: var(--sklearn-color-unfitted-level-0);\n",
              "}\n",
              "\n",
              "#sk-container-id-1 div.sk-toggleable__content.fitted pre {\n",
              "  /* unfitted */\n",
              "  background-color: var(--sklearn-color-fitted-level-0);\n",
              "}\n",
              "\n",
              "#sk-container-id-1 input.sk-toggleable__control:checked~div.sk-toggleable__content {\n",
              "  /* Expand drop-down */\n",
              "  max-height: 200px;\n",
              "  max-width: 100%;\n",
              "  overflow: auto;\n",
              "}\n",
              "\n",
              "#sk-container-id-1 input.sk-toggleable__control:checked~label.sk-toggleable__label-arrow:before {\n",
              "  content: \"▾\";\n",
              "}\n",
              "\n",
              "/* Pipeline/ColumnTransformer-specific style */\n",
              "\n",
              "#sk-container-id-1 div.sk-label input.sk-toggleable__control:checked~label.sk-toggleable__label {\n",
              "  color: var(--sklearn-color-text);\n",
              "  background-color: var(--sklearn-color-unfitted-level-2);\n",
              "}\n",
              "\n",
              "#sk-container-id-1 div.sk-label.fitted input.sk-toggleable__control:checked~label.sk-toggleable__label {\n",
              "  background-color: var(--sklearn-color-fitted-level-2);\n",
              "}\n",
              "\n",
              "/* Estimator-specific style */\n",
              "\n",
              "/* Colorize estimator box */\n",
              "#sk-container-id-1 div.sk-estimator input.sk-toggleable__control:checked~label.sk-toggleable__label {\n",
              "  /* unfitted */\n",
              "  background-color: var(--sklearn-color-unfitted-level-2);\n",
              "}\n",
              "\n",
              "#sk-container-id-1 div.sk-estimator.fitted input.sk-toggleable__control:checked~label.sk-toggleable__label {\n",
              "  /* fitted */\n",
              "  background-color: var(--sklearn-color-fitted-level-2);\n",
              "}\n",
              "\n",
              "#sk-container-id-1 div.sk-label label.sk-toggleable__label,\n",
              "#sk-container-id-1 div.sk-label label {\n",
              "  /* The background is the default theme color */\n",
              "  color: var(--sklearn-color-text-on-default-background);\n",
              "}\n",
              "\n",
              "/* On hover, darken the color of the background */\n",
              "#sk-container-id-1 div.sk-label:hover label.sk-toggleable__label {\n",
              "  color: var(--sklearn-color-text);\n",
              "  background-color: var(--sklearn-color-unfitted-level-2);\n",
              "}\n",
              "\n",
              "/* Label box, darken color on hover, fitted */\n",
              "#sk-container-id-1 div.sk-label.fitted:hover label.sk-toggleable__label.fitted {\n",
              "  color: var(--sklearn-color-text);\n",
              "  background-color: var(--sklearn-color-fitted-level-2);\n",
              "}\n",
              "\n",
              "/* Estimator label */\n",
              "\n",
              "#sk-container-id-1 div.sk-label label {\n",
              "  font-family: monospace;\n",
              "  font-weight: bold;\n",
              "  display: inline-block;\n",
              "  line-height: 1.2em;\n",
              "}\n",
              "\n",
              "#sk-container-id-1 div.sk-label-container {\n",
              "  text-align: center;\n",
              "}\n",
              "\n",
              "/* Estimator-specific */\n",
              "#sk-container-id-1 div.sk-estimator {\n",
              "  font-family: monospace;\n",
              "  border: 1px dotted var(--sklearn-color-border-box);\n",
              "  border-radius: 0.25em;\n",
              "  box-sizing: border-box;\n",
              "  margin-bottom: 0.5em;\n",
              "  /* unfitted */\n",
              "  background-color: var(--sklearn-color-unfitted-level-0);\n",
              "}\n",
              "\n",
              "#sk-container-id-1 div.sk-estimator.fitted {\n",
              "  /* fitted */\n",
              "  background-color: var(--sklearn-color-fitted-level-0);\n",
              "}\n",
              "\n",
              "/* on hover */\n",
              "#sk-container-id-1 div.sk-estimator:hover {\n",
              "  /* unfitted */\n",
              "  background-color: var(--sklearn-color-unfitted-level-2);\n",
              "}\n",
              "\n",
              "#sk-container-id-1 div.sk-estimator.fitted:hover {\n",
              "  /* fitted */\n",
              "  background-color: var(--sklearn-color-fitted-level-2);\n",
              "}\n",
              "\n",
              "/* Specification for estimator info (e.g. \"i\" and \"?\") */\n",
              "\n",
              "/* Common style for \"i\" and \"?\" */\n",
              "\n",
              ".sk-estimator-doc-link,\n",
              "a:link.sk-estimator-doc-link,\n",
              "a:visited.sk-estimator-doc-link {\n",
              "  float: right;\n",
              "  font-size: smaller;\n",
              "  line-height: 1em;\n",
              "  font-family: monospace;\n",
              "  background-color: var(--sklearn-color-background);\n",
              "  border-radius: 1em;\n",
              "  height: 1em;\n",
              "  width: 1em;\n",
              "  text-decoration: none !important;\n",
              "  margin-left: 0.5em;\n",
              "  text-align: center;\n",
              "  /* unfitted */\n",
              "  border: var(--sklearn-color-unfitted-level-1) 1pt solid;\n",
              "  color: var(--sklearn-color-unfitted-level-1);\n",
              "}\n",
              "\n",
              ".sk-estimator-doc-link.fitted,\n",
              "a:link.sk-estimator-doc-link.fitted,\n",
              "a:visited.sk-estimator-doc-link.fitted {\n",
              "  /* fitted */\n",
              "  border: var(--sklearn-color-fitted-level-1) 1pt solid;\n",
              "  color: var(--sklearn-color-fitted-level-1);\n",
              "}\n",
              "\n",
              "/* On hover */\n",
              "div.sk-estimator:hover .sk-estimator-doc-link:hover,\n",
              ".sk-estimator-doc-link:hover,\n",
              "div.sk-label-container:hover .sk-estimator-doc-link:hover,\n",
              ".sk-estimator-doc-link:hover {\n",
              "  /* unfitted */\n",
              "  background-color: var(--sklearn-color-unfitted-level-3);\n",
              "  color: var(--sklearn-color-background);\n",
              "  text-decoration: none;\n",
              "}\n",
              "\n",
              "div.sk-estimator.fitted:hover .sk-estimator-doc-link.fitted:hover,\n",
              ".sk-estimator-doc-link.fitted:hover,\n",
              "div.sk-label-container:hover .sk-estimator-doc-link.fitted:hover,\n",
              ".sk-estimator-doc-link.fitted:hover {\n",
              "  /* fitted */\n",
              "  background-color: var(--sklearn-color-fitted-level-3);\n",
              "  color: var(--sklearn-color-background);\n",
              "  text-decoration: none;\n",
              "}\n",
              "\n",
              "/* Span, style for the box shown on hovering the info icon */\n",
              ".sk-estimator-doc-link span {\n",
              "  display: none;\n",
              "  z-index: 9999;\n",
              "  position: relative;\n",
              "  font-weight: normal;\n",
              "  right: .2ex;\n",
              "  padding: .5ex;\n",
              "  margin: .5ex;\n",
              "  width: min-content;\n",
              "  min-width: 20ex;\n",
              "  max-width: 50ex;\n",
              "  color: var(--sklearn-color-text);\n",
              "  box-shadow: 2pt 2pt 4pt #999;\n",
              "  /* unfitted */\n",
              "  background: var(--sklearn-color-unfitted-level-0);\n",
              "  border: .5pt solid var(--sklearn-color-unfitted-level-3);\n",
              "}\n",
              "\n",
              ".sk-estimator-doc-link.fitted span {\n",
              "  /* fitted */\n",
              "  background: var(--sklearn-color-fitted-level-0);\n",
              "  border: var(--sklearn-color-fitted-level-3);\n",
              "}\n",
              "\n",
              ".sk-estimator-doc-link:hover span {\n",
              "  display: block;\n",
              "}\n",
              "\n",
              "/* \"?\"-specific style due to the `<a>` HTML tag */\n",
              "\n",
              "#sk-container-id-1 a.estimator_doc_link {\n",
              "  float: right;\n",
              "  font-size: 1rem;\n",
              "  line-height: 1em;\n",
              "  font-family: monospace;\n",
              "  background-color: var(--sklearn-color-background);\n",
              "  border-radius: 1rem;\n",
              "  height: 1rem;\n",
              "  width: 1rem;\n",
              "  text-decoration: none;\n",
              "  /* unfitted */\n",
              "  color: var(--sklearn-color-unfitted-level-1);\n",
              "  border: var(--sklearn-color-unfitted-level-1) 1pt solid;\n",
              "}\n",
              "\n",
              "#sk-container-id-1 a.estimator_doc_link.fitted {\n",
              "  /* fitted */\n",
              "  border: var(--sklearn-color-fitted-level-1) 1pt solid;\n",
              "  color: var(--sklearn-color-fitted-level-1);\n",
              "}\n",
              "\n",
              "/* On hover */\n",
              "#sk-container-id-1 a.estimator_doc_link:hover {\n",
              "  /* unfitted */\n",
              "  background-color: var(--sklearn-color-unfitted-level-3);\n",
              "  color: var(--sklearn-color-background);\n",
              "  text-decoration: none;\n",
              "}\n",
              "\n",
              "#sk-container-id-1 a.estimator_doc_link.fitted:hover {\n",
              "  /* fitted */\n",
              "  background-color: var(--sklearn-color-fitted-level-3);\n",
              "}\n",
              "</style><div id=\"sk-container-id-1\" class=\"sk-top-container\"><div class=\"sk-text-repr-fallback\"><pre>LabelEncoder()</pre><b>In a Jupyter environment, please rerun this cell to show the HTML representation or trust the notebook. <br />On GitHub, the HTML representation is unable to render, please try loading this page with nbviewer.org.</b></div><div class=\"sk-container\" hidden><div class=\"sk-item\"><div class=\"sk-estimator fitted sk-toggleable\"><input class=\"sk-toggleable__control sk-hidden--visually\" id=\"sk-estimator-id-1\" type=\"checkbox\" checked><label for=\"sk-estimator-id-1\" class=\"sk-toggleable__label fitted sk-toggleable__label-arrow\"><div><div>LabelEncoder</div></div><div><a class=\"sk-estimator-doc-link fitted\" rel=\"noreferrer\" target=\"_blank\" href=\"https://scikit-learn.org/1.6/modules/generated/sklearn.preprocessing.LabelEncoder.html\">?<span>Documentation for LabelEncoder</span></a><span class=\"sk-estimator-doc-link fitted\">i<span>Fitted</span></span></div></label><div class=\"sk-toggleable__content fitted\"><pre>LabelEncoder()</pre></div> </div></div></div></div>"
            ],
            "text/plain": [
              "LabelEncoder()"
            ]
          },
          "execution_count": 32,
          "metadata": {},
          "output_type": "execute_result"
        }
      ],
      "source": [
        "# Mengonversi Data Kategorikal menjadi Numerik (Label Encoding)\n",
        "cat_columns = ['cb_person_default_on_file', 'person_home_ownership','loan_intent']\n",
        "\n",
        "default_on_file = LabelEncoder()\n",
        "default_on_file.fit( data[cat_columns[0]])\n",
        "\n",
        "home = LabelEncoder()\n",
        "home.fit( data[cat_columns[1]] )\n",
        "\n",
        "loan = LabelEncoder()\n",
        "loan.fit( data[cat_columns[2]] )"
      ]
    },
    {
      "cell_type": "code",
      "execution_count": 33,
      "metadata": {
        "colab": {
          "base_uri": "https://localhost:8080/"
        },
        "id": "jlL7-BbGZEfz",
        "outputId": "f4ca99a6-defe-48d8-cd14-c47c0ed4c1d0"
      },
      "outputs": [
        {
          "name": "stdout",
          "output_type": "stream",
          "text": [
            "['N' 'Y']\n",
            "['MORTGAGE' 'OTHER' 'OWN' 'RENT']\n",
            "['DEBTCONSOLIDATION' 'EDUCATION' 'HOMEIMPROVEMENT' 'MEDICAL' 'PERSONAL'\n",
            " 'VENTURE']\n"
          ]
        }
      ],
      "source": [
        "print(default_on_file.classes_)\n",
        "print(home.classes_)\n",
        "print(loan.classes_)"
      ]
    },
    {
      "cell_type": "code",
      "execution_count": 34,
      "metadata": {
        "colab": {
          "base_uri": "https://localhost:8080/"
        },
        "id": "_LioSH_FbfH-",
        "outputId": "6ebc9329-bc22-4dde-8a46-069c1de599aa"
      },
      "outputs": [
        {
          "name": "stdout",
          "output_type": "stream",
          "text": [
            "[0 1]\n",
            "[0 1 2 3]\n",
            "[0 1 2 3 4 5]\n"
          ]
        }
      ],
      "source": [
        "print(default_on_file.transform(default_on_file.classes_) )\n",
        "print(home.transform(home.classes_) )\n",
        "print(loan.transform(loan.classes_) )"
      ]
    },
    {
      "cell_type": "code",
      "execution_count": 35,
      "metadata": {
        "colab": {
          "base_uri": "https://localhost:8080/"
        },
        "id": "UCONrNiwar7M",
        "outputId": "f927ff62-d932-4228-e487-833ad04a45f5"
      },
      "outputs": [
        {
          "data": {
            "text/plain": [
              "np.int64(0)"
            ]
          },
          "execution_count": 35,
          "metadata": {},
          "output_type": "execute_result"
        }
      ],
      "source": [
        "default_on_file.transform(['N'])[0]"
      ]
    },
    {
      "cell_type": "code",
      "execution_count": 36,
      "metadata": {
        "colab": {
          "base_uri": "https://localhost:8080/",
          "height": 458
        },
        "id": "8Pn_fL1aZJJd",
        "outputId": "77d28647-d8e3-4236-c7d3-fdec61bc8f6e"
      },
      "outputs": [
        {
          "data": {
            "text/plain": [
              "0        0\n",
              "1        0\n",
              "2        0\n",
              "3        1\n",
              "4        0\n",
              "        ..\n",
              "28372    0\n",
              "28373    0\n",
              "28374    1\n",
              "28375    0\n",
              "28376    0\n",
              "Name: cb_person_default_on_file, Length: 28377, dtype: int64"
            ]
          },
          "execution_count": 36,
          "metadata": {},
          "output_type": "execute_result"
        }
      ],
      "source": [
        "data[cat_columns[0] ].apply( lambda x: default_on_file.transform([x])[0] )"
      ]
    },
    {
      "cell_type": "code",
      "execution_count": 37,
      "metadata": {
        "id": "jozUYlMwcAFC"
      },
      "outputs": [],
      "source": [
        "# Konversi data kategorikal menjadi data numerik\n",
        "data[cat_columns[0] ] = data[cat_columns[0] ].apply( lambda x: default_on_file.transform([x])[0] )\n",
        "data[cat_columns[1] ] = data[cat_columns[1] ].apply( lambda x: home.transform([x])[0] )\n",
        "data[cat_columns[2] ] = data[cat_columns[2] ].apply( lambda x: loan.transform([x])[0] )"
      ]
    },
    {
      "cell_type": "code",
      "execution_count": 38,
      "metadata": {
        "colab": {
          "base_uri": "https://localhost:8080/",
          "height": 226
        },
        "id": "vn-igcyEa3vr",
        "outputId": "811d7166-9928-40bc-db55-b045ca40d6d1"
      },
      "outputs": [
        {
          "data": {
            "text/html": [
              "<div>\n",
              "<style scoped>\n",
              "    .dataframe tbody tr th:only-of-type {\n",
              "        vertical-align: middle;\n",
              "    }\n",
              "\n",
              "    .dataframe tbody tr th {\n",
              "        vertical-align: top;\n",
              "    }\n",
              "\n",
              "    .dataframe thead th {\n",
              "        text-align: right;\n",
              "    }\n",
              "</style>\n",
              "<table border=\"1\" class=\"dataframe\">\n",
              "  <thead>\n",
              "    <tr style=\"text-align: right;\">\n",
              "      <th></th>\n",
              "      <th>person_age</th>\n",
              "      <th>person_income</th>\n",
              "      <th>person_home_ownership</th>\n",
              "      <th>person_emp_length</th>\n",
              "      <th>loan_intent</th>\n",
              "      <th>loan_grade</th>\n",
              "      <th>loan_amnt</th>\n",
              "      <th>loan_int_rate</th>\n",
              "      <th>loan_status</th>\n",
              "      <th>loan_percent_income</th>\n",
              "      <th>cb_person_default_on_file</th>\n",
              "      <th>cb_person_cred_hist_length</th>\n",
              "    </tr>\n",
              "  </thead>\n",
              "  <tbody>\n",
              "    <tr>\n",
              "      <th>0</th>\n",
              "      <td>21</td>\n",
              "      <td>9600</td>\n",
              "      <td>2</td>\n",
              "      <td>5.0</td>\n",
              "      <td>1</td>\n",
              "      <td>B</td>\n",
              "      <td>1000</td>\n",
              "      <td>11.14</td>\n",
              "      <td>0</td>\n",
              "      <td>0.10</td>\n",
              "      <td>0</td>\n",
              "      <td>2</td>\n",
              "    </tr>\n",
              "    <tr>\n",
              "      <th>1</th>\n",
              "      <td>25</td>\n",
              "      <td>9600</td>\n",
              "      <td>0</td>\n",
              "      <td>1.0</td>\n",
              "      <td>3</td>\n",
              "      <td>C</td>\n",
              "      <td>5500</td>\n",
              "      <td>12.87</td>\n",
              "      <td>1</td>\n",
              "      <td>0.57</td>\n",
              "      <td>0</td>\n",
              "      <td>3</td>\n",
              "    </tr>\n",
              "    <tr>\n",
              "      <th>2</th>\n",
              "      <td>23</td>\n",
              "      <td>65500</td>\n",
              "      <td>3</td>\n",
              "      <td>4.0</td>\n",
              "      <td>3</td>\n",
              "      <td>C</td>\n",
              "      <td>35000</td>\n",
              "      <td>15.23</td>\n",
              "      <td>1</td>\n",
              "      <td>0.53</td>\n",
              "      <td>0</td>\n",
              "      <td>2</td>\n",
              "    </tr>\n",
              "    <tr>\n",
              "      <th>3</th>\n",
              "      <td>24</td>\n",
              "      <td>54400</td>\n",
              "      <td>3</td>\n",
              "      <td>8.0</td>\n",
              "      <td>3</td>\n",
              "      <td>C</td>\n",
              "      <td>35000</td>\n",
              "      <td>14.27</td>\n",
              "      <td>1</td>\n",
              "      <td>0.55</td>\n",
              "      <td>1</td>\n",
              "      <td>4</td>\n",
              "    </tr>\n",
              "    <tr>\n",
              "      <th>4</th>\n",
              "      <td>21</td>\n",
              "      <td>9900</td>\n",
              "      <td>2</td>\n",
              "      <td>2.0</td>\n",
              "      <td>5</td>\n",
              "      <td>A</td>\n",
              "      <td>2500</td>\n",
              "      <td>7.14</td>\n",
              "      <td>1</td>\n",
              "      <td>0.25</td>\n",
              "      <td>0</td>\n",
              "      <td>2</td>\n",
              "    </tr>\n",
              "  </tbody>\n",
              "</table>\n",
              "</div>"
            ],
            "text/plain": [
              "   person_age  ...  cb_person_cred_hist_length\n",
              "0          21  ...                           2\n",
              "1          25  ...                           3\n",
              "2          23  ...                           2\n",
              "3          24  ...                           4\n",
              "4          21  ...                           2\n",
              "\n",
              "[5 rows x 12 columns]"
            ]
          },
          "execution_count": 38,
          "metadata": {},
          "output_type": "execute_result"
        }
      ],
      "source": [
        "data.head()"
      ]
    },
    {
      "cell_type": "code",
      "execution_count": 39,
      "metadata": {
        "colab": {
          "base_uri": "https://localhost:8080/",
          "height": 577
        },
        "id": "B977QqvBdsqJ",
        "outputId": "b58518ad-cbf3-4dab-f7df-1db0c5e093fe"
      },
      "outputs": [
        {
          "data": {
            "image/png": "[encoded data removed]",
            "text/plain": [
              "<Figure size 1500x800 with 2 Axes>"
            ]
          },
          "metadata": {},
          "output_type": "display_data"
        }
      ],
      "source": [
        "# periksa korelasi antar kolom\n",
        "fig, ax = plt.subplots()\n",
        "fig.set_size_inches(15,8)\n",
        "sns.heatmap(data.select_dtypes(include=np.number).corr(), vmax =1., square = True, annot = True,cmap='Greens' )\n",
        "plt.title('Korelasi Kolom',fontsize=15);"
      ]
    },
    {
      "cell_type": "markdown",
      "metadata": {
        "id": "YvfeJonS0uqn"
      },
      "source": [
        "## 6. Prapemrosesan Data"
      ]
    },
    {
      "cell_type": "markdown",
      "metadata": {
        "id": "GGDPHkWh-l8u"
      },
      "source": [
        "Preproses data: sesuaikan porsi data berdasarkan loan_status"
      ]
    },
    {
      "cell_type": "code",
      "execution_count": 40,
      "metadata": {
        "colab": {
          "base_uri": "https://localhost:8080/",
          "height": 178
        },
        "id": "4r6zPNL56p_V",
        "outputId": "7ec28530-2947-4216-b9d3-e7f10f831a82"
      },
      "outputs": [
        {
          "data": {
            "text/plain": [
              "loan_status\n",
              "0    22220\n",
              "1     6157\n",
              "Name: count, dtype: int64"
            ]
          },
          "execution_count": 40,
          "metadata": {},
          "output_type": "execute_result"
        }
      ],
      "source": [
        "data['loan_status'].value_counts()"
      ]
    },
    {
      "cell_type": "code",
      "execution_count": 41,
      "metadata": {
        "id": "K8pi2-EpgUGK"
      },
      "outputs": [],
      "source": [
        "cleaned_data = data.copy()"
      ]
    },
    {
      "cell_type": "code",
      "execution_count": 42,
      "metadata": {
        "colab": {
          "base_uri": "https://localhost:8080/"
        },
        "id": "9MELWlAd-R2X",
        "outputId": "3c5c3bb3-3f9f-44d5-ceb6-0ff7d47e1218"
      },
      "outputs": [
        {
          "name": "stdout",
          "output_type": "stream",
          "text": [
            "<class 'pandas.core.frame.DataFrame'>\n",
            "RangeIndex: 28377 entries, 0 to 28376\n",
            "Data columns (total 12 columns):\n",
            " #   Column                      Non-Null Count  Dtype  \n",
            "---  ------                      --------------  -----  \n",
            " 0   person_age                  28377 non-null  int64  \n",
            " 1   person_income               28377 non-null  int64  \n",
            " 2   person_home_ownership       28377 non-null  int64  \n",
            " 3   person_emp_length           28377 non-null  float64\n",
            " 4   loan_intent                 28377 non-null  int64  \n",
            " 5   loan_grade                  28377 non-null  object \n",
            " 6   loan_amnt                   28377 non-null  int64  \n",
            " 7   loan_int_rate               28377 non-null  float64\n",
            " 8   loan_status                 28377 non-null  int64  \n",
            " 9   loan_percent_income         28377 non-null  float64\n",
            " 10  cb_person_default_on_file   28377 non-null  int64  \n",
            " 11  cb_person_cred_hist_length  28377 non-null  int64  \n",
            "dtypes: float64(3), int64(8), object(1)\n",
            "memory usage: 2.6+ MB\n"
          ]
        }
      ],
      "source": [
        "cleaned_data.info()"
      ]
    },
    {
      "cell_type": "code",
      "execution_count": 43,
      "metadata": {
        "colab": {
          "base_uri": "https://localhost:8080/",
          "height": 178
        },
        "id": "gX-AoLfk-VUr",
        "outputId": "c6dfb0d3-3c24-449e-fc02-ebd293689c71"
      },
      "outputs": [
        {
          "data": {
            "text/plain": [
              "loan_status\n",
              "0    22220\n",
              "1     6157\n",
              "Name: count, dtype: int64"
            ]
          },
          "execution_count": 43,
          "metadata": {},
          "output_type": "execute_result"
        }
      ],
      "source": [
        "cleaned_data['loan_status'].value_counts()"
      ]
    },
    {
      "cell_type": "code",
      "execution_count": 44,
      "metadata": {
        "id": "awjEAZasgkyW"
      },
      "outputs": [],
      "source": [
        "rus = RandomUnderSampler(random_state=42)\n",
        "\n",
        "X, y = rus.fit_resample( cleaned_data.drop([\"loan_status\"], axis=1), cleaned_data[\"loan_status\"])"
      ]
    },
    {
      "cell_type": "code",
      "execution_count": 45,
      "metadata": {
        "colab": {
          "base_uri": "https://localhost:8080/",
          "height": 178
        },
        "id": "R_No8aoFijJs",
        "outputId": "1a4877b2-3be1-4502-9fa1-08fd4a64862a"
      },
      "outputs": [
        {
          "data": {
            "text/plain": [
              "loan_status\n",
              "0    6157\n",
              "1    6157\n",
              "Name: count, dtype: int64"
            ]
          },
          "execution_count": 45,
          "metadata": {},
          "output_type": "execute_result"
        }
      ],
      "source": [
        "y.value_counts()"
      ]
    },
    {
      "cell_type": "code",
      "execution_count": 46,
      "metadata": {
        "colab": {
          "base_uri": "https://localhost:8080/",
          "height": 241
        },
        "id": "O0C05hSC-iqJ",
        "outputId": "53597365-f785-49bd-e227-e61845764d01"
      },
      "outputs": [
        {
          "data": {
            "text/plain": [
              "2484     0\n",
              "20454    0\n",
              "12579    0\n",
              "25179    0\n",
              "13192    0\n",
              "Name: loan_status, dtype: int64"
            ]
          },
          "execution_count": 46,
          "metadata": {},
          "output_type": "execute_result"
        }
      ],
      "source": [
        "y.head()"
      ]
    },
    {
      "cell_type": "code",
      "execution_count": 47,
      "metadata": {
        "colab": {
          "base_uri": "https://localhost:8080/",
          "height": 226
        },
        "id": "wK1hn-MK-0AV",
        "outputId": "86aaf22c-e510-4c74-d6b7-0b9f60c6ce7c"
      },
      "outputs": [
        {
          "data": {
            "text/html": [
              "<div>\n",
              "<style scoped>\n",
              "    .dataframe tbody tr th:only-of-type {\n",
              "        vertical-align: middle;\n",
              "    }\n",
              "\n",
              "    .dataframe tbody tr th {\n",
              "        vertical-align: top;\n",
              "    }\n",
              "\n",
              "    .dataframe thead th {\n",
              "        text-align: right;\n",
              "    }\n",
              "</style>\n",
              "<table border=\"1\" class=\"dataframe\">\n",
              "  <thead>\n",
              "    <tr style=\"text-align: right;\">\n",
              "      <th></th>\n",
              "      <th>person_age</th>\n",
              "      <th>person_income</th>\n",
              "      <th>person_home_ownership</th>\n",
              "      <th>person_emp_length</th>\n",
              "      <th>loan_intent</th>\n",
              "      <th>loan_grade</th>\n",
              "      <th>loan_amnt</th>\n",
              "      <th>loan_int_rate</th>\n",
              "      <th>loan_percent_income</th>\n",
              "      <th>cb_person_default_on_file</th>\n",
              "      <th>cb_person_cred_hist_length</th>\n",
              "    </tr>\n",
              "  </thead>\n",
              "  <tbody>\n",
              "    <tr>\n",
              "      <th>2484</th>\n",
              "      <td>24</td>\n",
              "      <td>35000</td>\n",
              "      <td>2</td>\n",
              "      <td>1.0</td>\n",
              "      <td>2</td>\n",
              "      <td>D</td>\n",
              "      <td>7000</td>\n",
              "      <td>16.29</td>\n",
              "      <td>0.20</td>\n",
              "      <td>1</td>\n",
              "      <td>4</td>\n",
              "    </tr>\n",
              "    <tr>\n",
              "      <th>20454</th>\n",
              "      <td>31</td>\n",
              "      <td>80000</td>\n",
              "      <td>3</td>\n",
              "      <td>1.0</td>\n",
              "      <td>1</td>\n",
              "      <td>C</td>\n",
              "      <td>8000</td>\n",
              "      <td>12.61</td>\n",
              "      <td>0.10</td>\n",
              "      <td>1</td>\n",
              "      <td>7</td>\n",
              "    </tr>\n",
              "    <tr>\n",
              "      <th>12579</th>\n",
              "      <td>22</td>\n",
              "      <td>30000</td>\n",
              "      <td>2</td>\n",
              "      <td>5.0</td>\n",
              "      <td>4</td>\n",
              "      <td>B</td>\n",
              "      <td>3000</td>\n",
              "      <td>10.36</td>\n",
              "      <td>0.10</td>\n",
              "      <td>0</td>\n",
              "      <td>2</td>\n",
              "    </tr>\n",
              "    <tr>\n",
              "      <th>25179</th>\n",
              "      <td>33</td>\n",
              "      <td>123000</td>\n",
              "      <td>3</td>\n",
              "      <td>5.0</td>\n",
              "      <td>1</td>\n",
              "      <td>B</td>\n",
              "      <td>12000</td>\n",
              "      <td>11.83</td>\n",
              "      <td>0.10</td>\n",
              "      <td>0</td>\n",
              "      <td>10</td>\n",
              "    </tr>\n",
              "    <tr>\n",
              "      <th>13192</th>\n",
              "      <td>25</td>\n",
              "      <td>120000</td>\n",
              "      <td>0</td>\n",
              "      <td>7.0</td>\n",
              "      <td>3</td>\n",
              "      <td>A</td>\n",
              "      <td>4000</td>\n",
              "      <td>5.42</td>\n",
              "      <td>0.03</td>\n",
              "      <td>0</td>\n",
              "      <td>3</td>\n",
              "    </tr>\n",
              "  </tbody>\n",
              "</table>\n",
              "</div>"
            ],
            "text/plain": [
              "       person_age  ...  cb_person_cred_hist_length\n",
              "2484           24  ...                           4\n",
              "20454          31  ...                           7\n",
              "12579          22  ...                           2\n",
              "25179          33  ...                          10\n",
              "13192          25  ...                           3\n",
              "\n",
              "[5 rows x 11 columns]"
            ]
          },
          "execution_count": 47,
          "metadata": {},
          "output_type": "execute_result"
        }
      ],
      "source": [
        "X.head()"
      ]
    },
    {
      "cell_type": "markdown",
      "metadata": {
        "id": "_FCwS_Mk-q8F"
      },
      "source": [
        "Proses data"
      ]
    },
    {
      "cell_type": "code",
      "execution_count": 48,
      "metadata": {
        "execution": {
          "iopub.execute_input": "2023-08-23T18:47:47.878331Z",
          "iopub.status.busy": "2023-08-23T18:47:47.877957Z",
          "iopub.status.idle": "2023-08-23T18:47:47.891426Z",
          "shell.execute_reply": "2023-08-23T18:47:47.890231Z",
          "shell.execute_reply.started": "2023-08-23T18:47:47.878302Z"
        },
        "id": "r-rfhjAJ0uqn",
        "trusted": true
      },
      "outputs": [],
      "source": [
        "# Mengahpus kolom 'loan grade'\n",
        "X = X.drop(['loan_grade'], axis=1)"
      ]
    },
    {
      "cell_type": "code",
      "execution_count": 49,
      "metadata": {
        "execution": {
          "iopub.execute_input": "2023-08-23T18:47:47.893475Z",
          "iopub.status.busy": "2023-08-23T18:47:47.89285Z",
          "iopub.status.idle": "2023-08-23T18:47:48.080655Z",
          "shell.execute_reply": "2023-08-23T18:47:48.079436Z",
          "shell.execute_reply.started": "2023-08-23T18:47:47.893434Z"
        },
        "id": "wt1UbZ7N0uqn",
        "trusted": true
      },
      "outputs": [],
      "source": [
        "# Pembagian Data untuk Pelatihan dan Pengujian\n",
        "x_train, x_test, y_train, y_test = train_test_split(X, y,test_size=0.3,random_state=42)"
      ]
    },
    {
      "cell_type": "code",
      "execution_count": 50,
      "metadata": {
        "colab": {
          "base_uri": "https://localhost:8080/"
        },
        "execution": {
          "iopub.execute_input": "2023-08-23T18:47:48.082604Z",
          "iopub.status.busy": "2023-08-23T18:47:48.082162Z",
          "iopub.status.idle": "2023-08-23T18:47:48.089072Z",
          "shell.execute_reply": "2023-08-23T18:47:48.08792Z",
          "shell.execute_reply.started": "2023-08-23T18:47:48.082561Z"
        },
        "id": "OXoG8Rxv0uqo",
        "outputId": "a0a74d62-fbdf-41a3-c3e1-af90ac8f0aa0",
        "trusted": true
      },
      "outputs": [
        {
          "name": "stdout",
          "output_type": "stream",
          "text": [
            "(8619, 10) (3695, 10)\n"
          ]
        }
      ],
      "source": [
        "print(x_train.shape,x_test.shape)"
      ]
    },
    {
      "cell_type": "code",
      "execution_count": 51,
      "metadata": {
        "colab": {
          "base_uri": "https://localhost:8080/"
        },
        "execution": {
          "iopub.execute_input": "2023-08-23T18:47:48.104759Z",
          "iopub.status.busy": "2023-08-23T18:47:48.10432Z",
          "iopub.status.idle": "2023-08-23T18:47:48.116569Z",
          "shell.execute_reply": "2023-08-23T18:47:48.11541Z",
          "shell.execute_reply.started": "2023-08-23T18:47:48.104718Z"
        },
        "id": "xc2jkPcI0uqp",
        "outputId": "1f39b164-9b96-4bb5-8018-6460d7b0c279",
        "trusted": true
      },
      "outputs": [
        {
          "data": {
            "text/plain": [
              "Index(['person_age', 'person_income', 'person_home_ownership',\n",
              "       'person_emp_length', 'loan_intent', 'loan_amnt', 'loan_int_rate',\n",
              "       'loan_percent_income', 'cb_person_default_on_file',\n",
              "       'cb_person_cred_hist_length'],\n",
              "      dtype='object')"
            ]
          },
          "execution_count": 51,
          "metadata": {},
          "output_type": "execute_result"
        }
      ],
      "source": [
        "x_train.columns"
      ]
    },
    {
      "cell_type": "code",
      "execution_count": 52,
      "metadata": {
        "colab": {
          "base_uri": "https://localhost:8080/"
        },
        "id": "I8LYU5A_AdRI",
        "outputId": "fd865e61-d037-4b3f-fa94-6fa3d32b0939"
      },
      "outputs": [
        {
          "name": "stdout",
          "output_type": "stream",
          "text": [
            "<class 'pandas.core.series.Series'>\n",
            "Index: 8619 entries, 5943 to 3198\n",
            "Series name: loan_status\n",
            "Non-Null Count  Dtype\n",
            "--------------  -----\n",
            "8619 non-null   int64\n",
            "dtypes: int64(1)\n",
            "memory usage: 134.7 KB\n"
          ]
        }
      ],
      "source": [
        "y_train.info()"
      ]
    },
    {
      "cell_type": "code",
      "execution_count": 53,
      "metadata": {
        "colab": {
          "base_uri": "https://localhost:8080/"
        },
        "id": "LwOZUI4BMYwK",
        "outputId": "e331ccde-46c7-4be3-e2dc-dfc42734c8ed"
      },
      "outputs": [
        {
          "name": "stdout",
          "output_type": "stream",
          "text": [
            "<class 'pandas.core.series.Series'>\n",
            "Index: 3695 entries, 12529 to 25170\n",
            "Series name: loan_status\n",
            "Non-Null Count  Dtype\n",
            "--------------  -----\n",
            "3695 non-null   int64\n",
            "dtypes: int64(1)\n",
            "memory usage: 57.7 KB\n"
          ]
        }
      ],
      "source": [
        "y_test.info()"
      ]
    },
    {
      "cell_type": "code",
      "execution_count": 54,
      "metadata": {
        "colab": {
          "base_uri": "https://localhost:8080/"
        },
        "id": "pHH5YrKAja6v",
        "outputId": "eaefb28b-a582-4611-c7e4-c6006c540404"
      },
      "outputs": [
        {
          "name": "stdout",
          "output_type": "stream",
          "text": [
            "<class 'pandas.core.frame.DataFrame'>\n",
            "Index: 8619 entries, 5943 to 3198\n",
            "Data columns (total 10 columns):\n",
            " #   Column                      Non-Null Count  Dtype  \n",
            "---  ------                      --------------  -----  \n",
            " 0   person_age                  8619 non-null   int64  \n",
            " 1   person_income               8619 non-null   int64  \n",
            " 2   person_home_ownership       8619 non-null   int64  \n",
            " 3   person_emp_length           8619 non-null   float64\n",
            " 4   loan_intent                 8619 non-null   int64  \n",
            " 5   loan_amnt                   8619 non-null   int64  \n",
            " 6   loan_int_rate               8619 non-null   float64\n",
            " 7   loan_percent_income         8619 non-null   float64\n",
            " 8   cb_person_default_on_file   8619 non-null   int64  \n",
            " 9   cb_person_cred_hist_length  8619 non-null   int64  \n",
            "dtypes: float64(3), int64(7)\n",
            "memory usage: 740.7 KB\n"
          ]
        }
      ],
      "source": [
        "x_train.info()"
      ]
    },
    {
      "cell_type": "code",
      "execution_count": 55,
      "metadata": {
        "colab": {
          "base_uri": "https://localhost:8080/",
          "height": 226
        },
        "id": "pxVtx1PIkimt",
        "outputId": "d760d84d-1d44-40f6-c162-c8f1a1803998"
      },
      "outputs": [
        {
          "data": {
            "text/html": [
              "<div>\n",
              "<style scoped>\n",
              "    .dataframe tbody tr th:only-of-type {\n",
              "        vertical-align: middle;\n",
              "    }\n",
              "\n",
              "    .dataframe tbody tr th {\n",
              "        vertical-align: top;\n",
              "    }\n",
              "\n",
              "    .dataframe thead th {\n",
              "        text-align: right;\n",
              "    }\n",
              "</style>\n",
              "<table border=\"1\" class=\"dataframe\">\n",
              "  <thead>\n",
              "    <tr style=\"text-align: right;\">\n",
              "      <th></th>\n",
              "      <th>person_age</th>\n",
              "      <th>person_income</th>\n",
              "      <th>person_home_ownership</th>\n",
              "      <th>person_emp_length</th>\n",
              "      <th>loan_intent</th>\n",
              "      <th>loan_amnt</th>\n",
              "      <th>loan_int_rate</th>\n",
              "      <th>loan_percent_income</th>\n",
              "      <th>cb_person_default_on_file</th>\n",
              "      <th>cb_person_cred_hist_length</th>\n",
              "    </tr>\n",
              "  </thead>\n",
              "  <tbody>\n",
              "    <tr>\n",
              "      <th>26624</th>\n",
              "      <td>40</td>\n",
              "      <td>38000</td>\n",
              "      <td>3</td>\n",
              "      <td>4.0</td>\n",
              "      <td>0</td>\n",
              "      <td>7000</td>\n",
              "      <td>15.99</td>\n",
              "      <td>0.18</td>\n",
              "      <td>0</td>\n",
              "      <td>16</td>\n",
              "    </tr>\n",
              "    <tr>\n",
              "      <th>23626</th>\n",
              "      <td>27</td>\n",
              "      <td>50000</td>\n",
              "      <td>3</td>\n",
              "      <td>1.0</td>\n",
              "      <td>5</td>\n",
              "      <td>15000</td>\n",
              "      <td>13.16</td>\n",
              "      <td>0.30</td>\n",
              "      <td>0</td>\n",
              "      <td>9</td>\n",
              "    </tr>\n",
              "    <tr>\n",
              "      <th>3001</th>\n",
              "      <td>23</td>\n",
              "      <td>55000</td>\n",
              "      <td>3</td>\n",
              "      <td>2.0</td>\n",
              "      <td>3</td>\n",
              "      <td>10800</td>\n",
              "      <td>8.88</td>\n",
              "      <td>0.20</td>\n",
              "      <td>0</td>\n",
              "      <td>2</td>\n",
              "    </tr>\n",
              "    <tr>\n",
              "      <th>3898</th>\n",
              "      <td>22</td>\n",
              "      <td>50000</td>\n",
              "      <td>3</td>\n",
              "      <td>7.0</td>\n",
              "      <td>3</td>\n",
              "      <td>4800</td>\n",
              "      <td>12.68</td>\n",
              "      <td>0.10</td>\n",
              "      <td>0</td>\n",
              "      <td>3</td>\n",
              "    </tr>\n",
              "    <tr>\n",
              "      <th>3198</th>\n",
              "      <td>23</td>\n",
              "      <td>14400</td>\n",
              "      <td>3</td>\n",
              "      <td>0.0</td>\n",
              "      <td>5</td>\n",
              "      <td>4000</td>\n",
              "      <td>10.74</td>\n",
              "      <td>0.28</td>\n",
              "      <td>0</td>\n",
              "      <td>3</td>\n",
              "    </tr>\n",
              "  </tbody>\n",
              "</table>\n",
              "</div>"
            ],
            "text/plain": [
              "       person_age  ...  cb_person_cred_hist_length\n",
              "26624          40  ...                          16\n",
              "23626          27  ...                           9\n",
              "3001           23  ...                           2\n",
              "3898           22  ...                           3\n",
              "3198           23  ...                           3\n",
              "\n",
              "[5 rows x 10 columns]"
            ]
          },
          "execution_count": 55,
          "metadata": {},
          "output_type": "execute_result"
        }
      ],
      "source": [
        "x_train.tail()"
      ]
    },
    {
      "cell_type": "code",
      "execution_count": 56,
      "metadata": {
        "colab": {
          "base_uri": "https://localhost:8080/",
          "height": 241
        },
        "id": "jXClHJOSklpQ",
        "outputId": "0895b251-d425-4e98-877e-ae50b94315ae"
      },
      "outputs": [
        {
          "data": {
            "text/plain": [
              "26624    1\n",
              "23626    0\n",
              "3001     0\n",
              "3898     0\n",
              "3198     1\n",
              "Name: loan_status, dtype: int64"
            ]
          },
          "execution_count": 56,
          "metadata": {},
          "output_type": "execute_result"
        }
      ],
      "source": [
        "y_train.tail()"
      ]
    },
    {
      "cell_type": "code",
      "execution_count": 57,
      "metadata": {
        "colab": {
          "base_uri": "https://localhost:8080/",
          "height": 226
        },
        "id": "26AhOQkhkr7n",
        "outputId": "eef79b50-c04f-4792-fbcf-42d3fcf74129"
      },
      "outputs": [
        {
          "data": {
            "text/html": [
              "<div>\n",
              "<style scoped>\n",
              "    .dataframe tbody tr th:only-of-type {\n",
              "        vertical-align: middle;\n",
              "    }\n",
              "\n",
              "    .dataframe tbody tr th {\n",
              "        vertical-align: top;\n",
              "    }\n",
              "\n",
              "    .dataframe thead th {\n",
              "        text-align: right;\n",
              "    }\n",
              "</style>\n",
              "<table border=\"1\" class=\"dataframe\">\n",
              "  <thead>\n",
              "    <tr style=\"text-align: right;\">\n",
              "      <th></th>\n",
              "      <th>person_age</th>\n",
              "      <th>person_income</th>\n",
              "      <th>person_home_ownership</th>\n",
              "      <th>person_emp_length</th>\n",
              "      <th>loan_intent</th>\n",
              "      <th>loan_amnt</th>\n",
              "      <th>loan_int_rate</th>\n",
              "      <th>loan_percent_income</th>\n",
              "      <th>cb_person_default_on_file</th>\n",
              "      <th>cb_person_cred_hist_length</th>\n",
              "    </tr>\n",
              "  </thead>\n",
              "  <tbody>\n",
              "    <tr>\n",
              "      <th>12529</th>\n",
              "      <td>25</td>\n",
              "      <td>61000</td>\n",
              "      <td>3</td>\n",
              "      <td>1.0</td>\n",
              "      <td>4</td>\n",
              "      <td>14400</td>\n",
              "      <td>12.53</td>\n",
              "      <td>0.24</td>\n",
              "      <td>0</td>\n",
              "      <td>2</td>\n",
              "    </tr>\n",
              "    <tr>\n",
              "      <th>10741</th>\n",
              "      <td>26</td>\n",
              "      <td>32000</td>\n",
              "      <td>3</td>\n",
              "      <td>6.0</td>\n",
              "      <td>3</td>\n",
              "      <td>12000</td>\n",
              "      <td>8.94</td>\n",
              "      <td>0.38</td>\n",
              "      <td>0</td>\n",
              "      <td>3</td>\n",
              "    </tr>\n",
              "    <tr>\n",
              "      <th>22973</th>\n",
              "      <td>35</td>\n",
              "      <td>99000</td>\n",
              "      <td>0</td>\n",
              "      <td>12.0</td>\n",
              "      <td>3</td>\n",
              "      <td>3000</td>\n",
              "      <td>10.99</td>\n",
              "      <td>0.03</td>\n",
              "      <td>0</td>\n",
              "      <td>9</td>\n",
              "    </tr>\n",
              "    <tr>\n",
              "      <th>10901</th>\n",
              "      <td>24</td>\n",
              "      <td>74600</td>\n",
              "      <td>0</td>\n",
              "      <td>3.0</td>\n",
              "      <td>0</td>\n",
              "      <td>20000</td>\n",
              "      <td>17.51</td>\n",
              "      <td>0.27</td>\n",
              "      <td>0</td>\n",
              "      <td>3</td>\n",
              "    </tr>\n",
              "    <tr>\n",
              "      <th>16311</th>\n",
              "      <td>34</td>\n",
              "      <td>39672</td>\n",
              "      <td>3</td>\n",
              "      <td>18.0</td>\n",
              "      <td>1</td>\n",
              "      <td>16750</td>\n",
              "      <td>13.98</td>\n",
              "      <td>0.42</td>\n",
              "      <td>0</td>\n",
              "      <td>9</td>\n",
              "    </tr>\n",
              "  </tbody>\n",
              "</table>\n",
              "</div>"
            ],
            "text/plain": [
              "       person_age  ...  cb_person_cred_hist_length\n",
              "12529          25  ...                           2\n",
              "10741          26  ...                           3\n",
              "22973          35  ...                           9\n",
              "10901          24  ...                           3\n",
              "16311          34  ...                           9\n",
              "\n",
              "[5 rows x 10 columns]"
            ]
          },
          "execution_count": 57,
          "metadata": {},
          "output_type": "execute_result"
        }
      ],
      "source": [
        "x_test.head()"
      ]
    },
    {
      "cell_type": "code",
      "execution_count": 58,
      "metadata": {
        "colab": {
          "base_uri": "https://localhost:8080/",
          "height": 241
        },
        "id": "OfQZcGH4kusU",
        "outputId": "27e9f746-6a8a-4a18-ccd7-5856b7941588"
      },
      "outputs": [
        {
          "data": {
            "text/plain": [
              "12529    0\n",
              "10741    1\n",
              "22973    0\n",
              "10901    1\n",
              "16311    1\n",
              "Name: loan_status, dtype: int64"
            ]
          },
          "execution_count": 58,
          "metadata": {},
          "output_type": "execute_result"
        }
      ],
      "source": [
        "y_test.head()"
      ]
    },
    {
      "cell_type": "markdown",
      "metadata": {
        "id": "SSrfsO0G0uqt"
      },
      "source": [
        "## 7. Pelatihan & Pengujian Sklearn"
      ]
    },
    {
      "cell_type": "code",
      "execution_count": 57,
      "metadata": {
        "colab": {
          "base_uri": "https://localhost:8080/",
          "height": 116
        },
        "id": "3WEx8spIodhE",
        "outputId": "04d2e86c-abbf-470e-c7a5-87783071eb44"
      },
      "outputs": [
        {
          "data": {
            "text/html": [
              "<style>#sk-container-id-2 {\n",
              "  /* Definition of color scheme common for light and dark mode */\n",
              "  --sklearn-color-text: #000;\n",
              "  --sklearn-color-text-muted: #666;\n",
              "  --sklearn-color-line: gray;\n",
              "  /* Definition of color scheme for unfitted estimators */\n",
              "  --sklearn-color-unfitted-level-0: #fff5e6;\n",
              "  --sklearn-color-unfitted-level-1: #f6e4d2;\n",
              "  --sklearn-color-unfitted-level-2: #ffe0b3;\n",
              "  --sklearn-color-unfitted-level-3: chocolate;\n",
              "  /* Definition of color scheme for fitted estimators */\n",
              "  --sklearn-color-fitted-level-0: #f0f8ff;\n",
              "  --sklearn-color-fitted-level-1: #d4ebff;\n",
              "  --sklearn-color-fitted-level-2: #b3dbfd;\n",
              "  --sklearn-color-fitted-level-3: cornflowerblue;\n",
              "\n",
              "  /* Specific color for light theme */\n",
              "  --sklearn-color-text-on-default-background: var(--sg-text-color, var(--theme-code-foreground, var(--jp-content-font-color1, black)));\n",
              "  --sklearn-color-background: var(--sg-background-color, var(--theme-background, var(--jp-layout-color0, white)));\n",
              "  --sklearn-color-border-box: var(--sg-text-color, var(--theme-code-foreground, var(--jp-content-font-color1, black)));\n",
              "  --sklearn-color-icon: #696969;\n",
              "\n",
              "  @media (prefers-color-scheme: dark) {\n",
              "    /* Redefinition of color scheme for dark theme */\n",
              "    --sklearn-color-text-on-default-background: var(--sg-text-color, var(--theme-code-foreground, var(--jp-content-font-color1, white)));\n",
              "    --sklearn-color-background: var(--sg-background-color, var(--theme-background, var(--jp-layout-color0, #111)));\n",
              "    --sklearn-color-border-box: var(--sg-text-color, var(--theme-code-foreground, var(--jp-content-font-color1, white)));\n",
              "    --sklearn-color-icon: #878787;\n",
              "  }\n",
              "}\n",
              "\n",
              "#sk-container-id-2 {\n",
              "  color: var(--sklearn-color-text);\n",
              "}\n",
              "\n",
              "#sk-container-id-2 pre {\n",
              "  padding: 0;\n",
              "}\n",
              "\n",
              "#sk-container-id-2 input.sk-hidden--visually {\n",
              "  border: 0;\n",
              "  clip: rect(1px 1px 1px 1px);\n",
              "  clip: rect(1px, 1px, 1px, 1px);\n",
              "  height: 1px;\n",
              "  margin: -1px;\n",
              "  overflow: hidden;\n",
              "  padding: 0;\n",
              "  position: absolute;\n",
              "  width: 1px;\n",
              "}\n",
              "\n",
              "#sk-container-id-2 div.sk-dashed-wrapped {\n",
              "  border: 1px dashed var(--sklearn-color-line);\n",
              "  margin: 0 0.4em 0.5em 0.4em;\n",
              "  box-sizing: border-box;\n",
              "  padding-bottom: 0.4em;\n",
              "  background-color: var(--sklearn-color-background);\n",
              "}\n",
              "\n",
              "#sk-container-id-2 div.sk-container {\n",
              "  /* jupyter's `normalize.less` sets `[hidden] { display: none; }`\n",
              "     but bootstrap.min.css set `[hidden] { display: none !important; }`\n",
              "     so we also need the `!important` here to be able to override the\n",
              "     default hidden behavior on the sphinx rendered scikit-learn.org.\n",
              "     See: https://github.com/scikit-learn/scikit-learn/issues/21755 */\n",
              "  display: inline-block !important;\n",
              "  position: relative;\n",
              "}\n",
              "\n",
              "#sk-container-id-2 div.sk-text-repr-fallback {\n",
              "  display: none;\n",
              "}\n",
              "\n",
              "div.sk-parallel-item,\n",
              "div.sk-serial,\n",
              "div.sk-item {\n",
              "  /* draw centered vertical line to link estimators */\n",
              "  background-image: linear-gradient(var(--sklearn-color-text-on-default-background), var(--sklearn-color-text-on-default-background));\n",
              "  background-size: 2px 100%;\n",
              "  background-repeat: no-repeat;\n",
              "  background-position: center center;\n",
              "}\n",
              "\n",
              "/* Parallel-specific style estimator block */\n",
              "\n",
              "#sk-container-id-2 div.sk-parallel-item::after {\n",
              "  content: \"\";\n",
              "  width: 100%;\n",
              "  border-bottom: 2px solid var(--sklearn-color-text-on-default-background);\n",
              "  flex-grow: 1;\n",
              "}\n",
              "\n",
              "#sk-container-id-2 div.sk-parallel {\n",
              "  display: flex;\n",
              "  align-items: stretch;\n",
              "  justify-content: center;\n",
              "  background-color: var(--sklearn-color-background);\n",
              "  position: relative;\n",
              "}\n",
              "\n",
              "#sk-container-id-2 div.sk-parallel-item {\n",
              "  display: flex;\n",
              "  flex-direction: column;\n",
              "}\n",
              "\n",
              "#sk-container-id-2 div.sk-parallel-item:first-child::after {\n",
              "  align-self: flex-end;\n",
              "  width: 50%;\n",
              "}\n",
              "\n",
              "#sk-container-id-2 div.sk-parallel-item:last-child::after {\n",
              "  align-self: flex-start;\n",
              "  width: 50%;\n",
              "}\n",
              "\n",
              "#sk-container-id-2 div.sk-parallel-item:only-child::after {\n",
              "  width: 0;\n",
              "}\n",
              "\n",
              "/* Serial-specific style estimator block */\n",
              "\n",
              "#sk-container-id-2 div.sk-serial {\n",
              "  display: flex;\n",
              "  flex-direction: column;\n",
              "  align-items: center;\n",
              "  background-color: var(--sklearn-color-background);\n",
              "  padding-right: 1em;\n",
              "  padding-left: 1em;\n",
              "}\n",
              "\n",
              "\n",
              "/* Toggleable style: style used for estimator/Pipeline/ColumnTransformer box that is\n",
              "clickable and can be expanded/collapsed.\n",
              "- Pipeline and ColumnTransformer use this feature and define the default style\n",
              "- Estimators will overwrite some part of the style using the `sk-estimator` class\n",
              "*/\n",
              "\n",
              "/* Pipeline and ColumnTransformer style (default) */\n",
              "\n",
              "#sk-container-id-2 div.sk-toggleable {\n",
              "  /* Default theme specific background. It is overwritten whether we have a\n",
              "  specific estimator or a Pipeline/ColumnTransformer */\n",
              "  background-color: var(--sklearn-color-background);\n",
              "}\n",
              "\n",
              "/* Toggleable label */\n",
              "#sk-container-id-2 label.sk-toggleable__label {\n",
              "  cursor: pointer;\n",
              "  display: flex;\n",
              "  width: 100%;\n",
              "  margin-bottom: 0;\n",
              "  padding: 0.5em;\n",
              "  box-sizing: border-box;\n",
              "  text-align: center;\n",
              "  align-items: start;\n",
              "  justify-content: space-between;\n",
              "  gap: 0.5em;\n",
              "}\n",
              "\n",
              "#sk-container-id-2 label.sk-toggleable__label .caption {\n",
              "  font-size: 0.6rem;\n",
              "  font-weight: lighter;\n",
              "  color: var(--sklearn-color-text-muted);\n",
              "}\n",
              "\n",
              "#sk-container-id-2 label.sk-toggleable__label-arrow:before {\n",
              "  /* Arrow on the left of the label */\n",
              "  content: \"▸\";\n",
              "  float: left;\n",
              "  margin-right: 0.25em;\n",
              "  color: var(--sklearn-color-icon);\n",
              "}\n",
              "\n",
              "#sk-container-id-2 label.sk-toggleable__label-arrow:hover:before {\n",
              "  color: var(--sklearn-color-text);\n",
              "}\n",
              "\n",
              "/* Toggleable content - dropdown */\n",
              "\n",
              "#sk-container-id-2 div.sk-toggleable__content {\n",
              "  max-height: 0;\n",
              "  max-width: 0;\n",
              "  overflow: hidden;\n",
              "  text-align: left;\n",
              "  /* unfitted */\n",
              "  background-color: var(--sklearn-color-unfitted-level-0);\n",
              "}\n",
              "\n",
              "#sk-container-id-2 div.sk-toggleable__content.fitted {\n",
              "  /* fitted */\n",
              "  background-color: var(--sklearn-color-fitted-level-0);\n",
              "}\n",
              "\n",
              "#sk-container-id-2 div.sk-toggleable__content pre {\n",
              "  margin: 0.2em;\n",
              "  border-radius: 0.25em;\n",
              "  color: var(--sklearn-color-text);\n",
              "  /* unfitted */\n",
              "  background-color: var(--sklearn-color-unfitted-level-0);\n",
              "}\n",
              "\n",
              "#sk-container-id-2 div.sk-toggleable__content.fitted pre {\n",
              "  /* unfitted */\n",
              "  background-color: var(--sklearn-color-fitted-level-0);\n",
              "}\n",
              "\n",
              "#sk-container-id-2 input.sk-toggleable__control:checked~div.sk-toggleable__content {\n",
              "  /* Expand drop-down */\n",
              "  max-height: 200px;\n",
              "  max-width: 100%;\n",
              "  overflow: auto;\n",
              "}\n",
              "\n",
              "#sk-container-id-2 input.sk-toggleable__control:checked~label.sk-toggleable__label-arrow:before {\n",
              "  content: \"▾\";\n",
              "}\n",
              "\n",
              "/* Pipeline/ColumnTransformer-specific style */\n",
              "\n",
              "#sk-container-id-2 div.sk-label input.sk-toggleable__control:checked~label.sk-toggleable__label {\n",
              "  color: var(--sklearn-color-text);\n",
              "  background-color: var(--sklearn-color-unfitted-level-2);\n",
              "}\n",
              "\n",
              "#sk-container-id-2 div.sk-label.fitted input.sk-toggleable__control:checked~label.sk-toggleable__label {\n",
              "  background-color: var(--sklearn-color-fitted-level-2);\n",
              "}\n",
              "\n",
              "/* Estimator-specific style */\n",
              "\n",
              "/* Colorize estimator box */\n",
              "#sk-container-id-2 div.sk-estimator input.sk-toggleable__control:checked~label.sk-toggleable__label {\n",
              "  /* unfitted */\n",
              "  background-color: var(--sklearn-color-unfitted-level-2);\n",
              "}\n",
              "\n",
              "#sk-container-id-2 div.sk-estimator.fitted input.sk-toggleable__control:checked~label.sk-toggleable__label {\n",
              "  /* fitted */\n",
              "  background-color: var(--sklearn-color-fitted-level-2);\n",
              "}\n",
              "\n",
              "#sk-container-id-2 div.sk-label label.sk-toggleable__label,\n",
              "#sk-container-id-2 div.sk-label label {\n",
              "  /* The background is the default theme color */\n",
              "  color: var(--sklearn-color-text-on-default-background);\n",
              "}\n",
              "\n",
              "/* On hover, darken the color of the background */\n",
              "#sk-container-id-2 div.sk-label:hover label.sk-toggleable__label {\n",
              "  color: var(--sklearn-color-text);\n",
              "  background-color: var(--sklearn-color-unfitted-level-2);\n",
              "}\n",
              "\n",
              "/* Label box, darken color on hover, fitted */\n",
              "#sk-container-id-2 div.sk-label.fitted:hover label.sk-toggleable__label.fitted {\n",
              "  color: var(--sklearn-color-text);\n",
              "  background-color: var(--sklearn-color-fitted-level-2);\n",
              "}\n",
              "\n",
              "/* Estimator label */\n",
              "\n",
              "#sk-container-id-2 div.sk-label label {\n",
              "  font-family: monospace;\n",
              "  font-weight: bold;\n",
              "  display: inline-block;\n",
              "  line-height: 1.2em;\n",
              "}\n",
              "\n",
              "#sk-container-id-2 div.sk-label-container {\n",
              "  text-align: center;\n",
              "}\n",
              "\n",
              "/* Estimator-specific */\n",
              "#sk-container-id-2 div.sk-estimator {\n",
              "  font-family: monospace;\n",
              "  border: 1px dotted var(--sklearn-color-border-box);\n",
              "  border-radius: 0.25em;\n",
              "  box-sizing: border-box;\n",
              "  margin-bottom: 0.5em;\n",
              "  /* unfitted */\n",
              "  background-color: var(--sklearn-color-unfitted-level-0);\n",
              "}\n",
              "\n",
              "#sk-container-id-2 div.sk-estimator.fitted {\n",
              "  /* fitted */\n",
              "  background-color: var(--sklearn-color-fitted-level-0);\n",
              "}\n",
              "\n",
              "/* on hover */\n",
              "#sk-container-id-2 div.sk-estimator:hover {\n",
              "  /* unfitted */\n",
              "  background-color: var(--sklearn-color-unfitted-level-2);\n",
              "}\n",
              "\n",
              "#sk-container-id-2 div.sk-estimator.fitted:hover {\n",
              "  /* fitted */\n",
              "  background-color: var(--sklearn-color-fitted-level-2);\n",
              "}\n",
              "\n",
              "/* Specification for estimator info (e.g. \"i\" and \"?\") */\n",
              "\n",
              "/* Common style for \"i\" and \"?\" */\n",
              "\n",
              ".sk-estimator-doc-link,\n",
              "a:link.sk-estimator-doc-link,\n",
              "a:visited.sk-estimator-doc-link {\n",
              "  float: right;\n",
              "  font-size: smaller;\n",
              "  line-height: 1em;\n",
              "  font-family: monospace;\n",
              "  background-color: var(--sklearn-color-background);\n",
              "  border-radius: 1em;\n",
              "  height: 1em;\n",
              "  width: 1em;\n",
              "  text-decoration: none !important;\n",
              "  margin-left: 0.5em;\n",
              "  text-align: center;\n",
              "  /* unfitted */\n",
              "  border: var(--sklearn-color-unfitted-level-1) 1pt solid;\n",
              "  color: var(--sklearn-color-unfitted-level-1);\n",
              "}\n",
              "\n",
              ".sk-estimator-doc-link.fitted,\n",
              "a:link.sk-estimator-doc-link.fitted,\n",
              "a:visited.sk-estimator-doc-link.fitted {\n",
              "  /* fitted */\n",
              "  border: var(--sklearn-color-fitted-level-1) 1pt solid;\n",
              "  color: var(--sklearn-color-fitted-level-1);\n",
              "}\n",
              "\n",
              "/* On hover */\n",
              "div.sk-estimator:hover .sk-estimator-doc-link:hover,\n",
              ".sk-estimator-doc-link:hover,\n",
              "div.sk-label-container:hover .sk-estimator-doc-link:hover,\n",
              ".sk-estimator-doc-link:hover {\n",
              "  /* unfitted */\n",
              "  background-color: var(--sklearn-color-unfitted-level-3);\n",
              "  color: var(--sklearn-color-background);\n",
              "  text-decoration: none;\n",
              "}\n",
              "\n",
              "div.sk-estimator.fitted:hover .sk-estimator-doc-link.fitted:hover,\n",
              ".sk-estimator-doc-link.fitted:hover,\n",
              "div.sk-label-container:hover .sk-estimator-doc-link.fitted:hover,\n",
              ".sk-estimator-doc-link.fitted:hover {\n",
              "  /* fitted */\n",
              "  background-color: var(--sklearn-color-fitted-level-3);\n",
              "  color: var(--sklearn-color-background);\n",
              "  text-decoration: none;\n",
              "}\n",
              "\n",
              "/* Span, style for the box shown on hovering the info icon */\n",
              ".sk-estimator-doc-link span {\n",
              "  display: none;\n",
              "  z-index: 9999;\n",
              "  position: relative;\n",
              "  font-weight: normal;\n",
              "  right: .2ex;\n",
              "  padding: .5ex;\n",
              "  margin: .5ex;\n",
              "  width: min-content;\n",
              "  min-width: 20ex;\n",
              "  max-width: 50ex;\n",
              "  color: var(--sklearn-color-text);\n",
              "  box-shadow: 2pt 2pt 4pt #999;\n",
              "  /* unfitted */\n",
              "  background: var(--sklearn-color-unfitted-level-0);\n",
              "  border: .5pt solid var(--sklearn-color-unfitted-level-3);\n",
              "}\n",
              "\n",
              ".sk-estimator-doc-link.fitted span {\n",
              "  /* fitted */\n",
              "  background: var(--sklearn-color-fitted-level-0);\n",
              "  border: var(--sklearn-color-fitted-level-3);\n",
              "}\n",
              "\n",
              ".sk-estimator-doc-link:hover span {\n",
              "  display: block;\n",
              "}\n",
              "\n",
              "/* \"?\"-specific style due to the `<a>` HTML tag */\n",
              "\n",
              "#sk-container-id-2 a.estimator_doc_link {\n",
              "  float: right;\n",
              "  font-size: 1rem;\n",
              "  line-height: 1em;\n",
              "  font-family: monospace;\n",
              "  background-color: var(--sklearn-color-background);\n",
              "  border-radius: 1rem;\n",
              "  height: 1rem;\n",
              "  width: 1rem;\n",
              "  text-decoration: none;\n",
              "  /* unfitted */\n",
              "  color: var(--sklearn-color-unfitted-level-1);\n",
              "  border: var(--sklearn-color-unfitted-level-1) 1pt solid;\n",
              "}\n",
              "\n",
              "#sk-container-id-2 a.estimator_doc_link.fitted {\n",
              "  /* fitted */\n",
              "  border: var(--sklearn-color-fitted-level-1) 1pt solid;\n",
              "  color: var(--sklearn-color-fitted-level-1);\n",
              "}\n",
              "\n",
              "/* On hover */\n",
              "#sk-container-id-2 a.estimator_doc_link:hover {\n",
              "  /* unfitted */\n",
              "  background-color: var(--sklearn-color-unfitted-level-3);\n",
              "  color: var(--sklearn-color-background);\n",
              "  text-decoration: none;\n",
              "}\n",
              "\n",
              "#sk-container-id-2 a.estimator_doc_link.fitted:hover {\n",
              "  /* fitted */\n",
              "  background-color: var(--sklearn-color-fitted-level-3);\n",
              "}\n",
              "</style><div id=\"sk-container-id-2\" class=\"sk-top-container\"><div class=\"sk-text-repr-fallback\"><pre>Pipeline(steps=[(&#x27;model&#x27;, ExtraTreesClassifier())])</pre><b>In a Jupyter environment, please rerun this cell to show the HTML representation or trust the notebook. <br />On GitHub, the HTML representation is unable to render, please try loading this page with nbviewer.org.</b></div><div class=\"sk-container\" hidden><div class=\"sk-item sk-dashed-wrapped\"><div class=\"sk-label-container\"><div class=\"sk-label fitted sk-toggleable\"><input class=\"sk-toggleable__control sk-hidden--visually\" id=\"sk-estimator-id-2\" type=\"checkbox\" ><label for=\"sk-estimator-id-2\" class=\"sk-toggleable__label fitted sk-toggleable__label-arrow\"><div><div>Pipeline</div></div><div><a class=\"sk-estimator-doc-link fitted\" rel=\"noreferrer\" target=\"_blank\" href=\"https://scikit-learn.org/1.6/modules/generated/sklearn.pipeline.Pipeline.html\">?<span>Documentation for Pipeline</span></a><span class=\"sk-estimator-doc-link fitted\">i<span>Fitted</span></span></div></label><div class=\"sk-toggleable__content fitted\"><pre>Pipeline(steps=[(&#x27;model&#x27;, ExtraTreesClassifier())])</pre></div> </div></div><div class=\"sk-serial\"><div class=\"sk-item\"><div class=\"sk-estimator fitted sk-toggleable\"><input class=\"sk-toggleable__control sk-hidden--visually\" id=\"sk-estimator-id-3\" type=\"checkbox\" ><label for=\"sk-estimator-id-3\" class=\"sk-toggleable__label fitted sk-toggleable__label-arrow\"><div><div>ExtraTreesClassifier</div></div><div><a class=\"sk-estimator-doc-link fitted\" rel=\"noreferrer\" target=\"_blank\" href=\"https://scikit-learn.org/1.6/modules/generated/sklearn.ensemble.ExtraTreesClassifier.html\">?<span>Documentation for ExtraTreesClassifier</span></a></div></label><div class=\"sk-toggleable__content fitted\"><pre>ExtraTreesClassifier()</pre></div> </div></div></div></div></div></div>"
            ],
            "text/plain": [
              "Pipeline(steps=[('model', ExtraTreesClassifier())])"
            ]
          },
          "execution_count": 57,
          "metadata": {},
          "output_type": "execute_result"
        }
      ],
      "source": [
        "from sklearn.metrics import accuracy_score, f1_score\n",
        "\n",
        "model = Pipeline(\n",
        "    steps=[\n",
        "        (\"model\", ExtraTreesClassifier())\n",
        "    ]\n",
        ")\n",
        "model.fit(x_train, y_train)"
      ]
    },
    {
      "cell_type": "code",
      "execution_count": 58,
      "metadata": {
        "colab": {
          "base_uri": "https://localhost:8080/"
        },
        "id": "uS0rhXP_0uq_",
        "outputId": "a0f93b7e-4496-4331-a30b-79b60ac406b2"
      },
      "outputs": [
        {
          "name": "stdout",
          "output_type": "stream",
          "text": [
            "Accuracy: 0.83%, F1: 0.83\n"
          ]
        }
      ],
      "source": [
        "from sklearn.ensemble import ExtraTreesClassifier\n",
        "from sklearn.metrics import accuracy_score, f1_score\n",
        "\n",
        "# uji model\n",
        "predict = model.predict(x_test)\n",
        "akurasi = accuracy_score(y_test, predict)\n",
        "f1 = f1_score(y_test, predict, average='macro')\n",
        "\n",
        "print(\"Accuracy: {}%, F1: {}\".format(round(akurasi, 2), round(f1, 2) ) )"
      ]
    },
    {
      "cell_type": "code",
      "execution_count": 59,
      "metadata": {
        "id": "j9JyCUW-nH73"
      },
      "outputs": [],
      "source": [
        "with open(\"Results/metrics.txt\", \"w\") as outfile:\n",
        "    outfile.write(f\"\\nAccuracy = {round(akurasi, 2)}, F1 Score = {round(f1, 2)}.\")"
      ]
    },
    {
      "cell_type": "code",
      "execution_count": null,
      "metadata": {
        "colab": {
          "base_uri": "https://localhost:8080/",
          "height": 449
        },
        "id": "cjLUQtMSnGtH",
        "outputId": "b81157c8-cbac-4454-b651-c0fa79189229"
      },
      "outputs": [
        {
          "data": {
            "image/png": "[encoded data removed]",
            "text/plain": [
              "<Figure size 640x480 with 2 Axes>"
            ]
          },
          "metadata": {},
          "output_type": "display_data"
        }
      ],
      "source": [
        "cm = confusion_matrix(y_test, predict, labels=model.classes_)\n",
        "disp = ConfusionMatrixDisplay(confusion_matrix=cm, display_labels = model.classes_)\n",
        "disp.plot()\n",
        "plt.savefig(\"Results/model_results.png\", dpi=120)"
      ]
    },
    {
      "cell_type": "code",
      "execution_count": 61,
      "metadata": {
        "colab": {
          "base_uri": "https://localhost:8080/"
        },
        "id": "9uoRdwK0nZl8",
        "outputId": "62862533-f0e2-440a-a53b-bf7c0e0ab0c3"
      },
      "outputs": [
        {
          "name": "stdout",
          "output_type": "stream",
          "text": [
            "              precision    recall  f1-score   support\n",
            "\n",
            "           0       0.81      0.86      0.84      1894\n",
            "           1       0.85      0.79      0.82      1801\n",
            "\n",
            "    accuracy                           0.83      3695\n",
            "   macro avg       0.83      0.83      0.83      3695\n",
            "weighted avg       0.83      0.83      0.83      3695\n",
            "\n"
          ]
        }
      ],
      "source": [
        "print(classification_report(y_test, predict) )"
      ]
    },
    {
      "cell_type": "code",
      "execution_count": 62,
      "metadata": {
        "colab": {
          "base_uri": "https://localhost:8080/"
        },
        "id": "astpop8RnqhM",
        "outputId": "61beda61-d0c7-4633-e455-d16e8447b30b"
      },
      "outputs": [
        {
          "name": "stdout",
          "output_type": "stream",
          "text": [
            "[]\n"
          ]
        }
      ],
      "source": [
        "sio.dump(model, \"Model/credit_loan_detection.skops\")\n",
        "\n",
        "unknown_types = get_untrusted_types(file=\"Model/credit_loan_detection.skops\")\n",
        "print(unknown_types)"
      ]
    },
    {
      "cell_type": "code",
      "execution_count": 63,
      "metadata": {
        "colab": {
          "base_uri": "https://localhost:8080/",
          "height": 116
        },
        "id": "tERdHJvXntFr",
        "outputId": "bf445fa0-0f09-4250-c7ca-aab72b23e720"
      },
      "outputs": [
        {
          "data": {
            "text/html": [
              "<style>#sk-container-id-3 {\n",
              "  /* Definition of color scheme common for light and dark mode */\n",
              "  --sklearn-color-text: #000;\n",
              "  --sklearn-color-text-muted: #666;\n",
              "  --sklearn-color-line: gray;\n",
              "  /* Definition of color scheme for unfitted estimators */\n",
              "  --sklearn-color-unfitted-level-0: #fff5e6;\n",
              "  --sklearn-color-unfitted-level-1: #f6e4d2;\n",
              "  --sklearn-color-unfitted-level-2: #ffe0b3;\n",
              "  --sklearn-color-unfitted-level-3: chocolate;\n",
              "  /* Definition of color scheme for fitted estimators */\n",
              "  --sklearn-color-fitted-level-0: #f0f8ff;\n",
              "  --sklearn-color-fitted-level-1: #d4ebff;\n",
              "  --sklearn-color-fitted-level-2: #b3dbfd;\n",
              "  --sklearn-color-fitted-level-3: cornflowerblue;\n",
              "\n",
              "  /* Specific color for light theme */\n",
              "  --sklearn-color-text-on-default-background: var(--sg-text-color, var(--theme-code-foreground, var(--jp-content-font-color1, black)));\n",
              "  --sklearn-color-background: var(--sg-background-color, var(--theme-background, var(--jp-layout-color0, white)));\n",
              "  --sklearn-color-border-box: var(--sg-text-color, var(--theme-code-foreground, var(--jp-content-font-color1, black)));\n",
              "  --sklearn-color-icon: #696969;\n",
              "\n",
              "  @media (prefers-color-scheme: dark) {\n",
              "    /* Redefinition of color scheme for dark theme */\n",
              "    --sklearn-color-text-on-default-background: var(--sg-text-color, var(--theme-code-foreground, var(--jp-content-font-color1, white)));\n",
              "    --sklearn-color-background: var(--sg-background-color, var(--theme-background, var(--jp-layout-color0, #111)));\n",
              "    --sklearn-color-border-box: var(--sg-text-color, var(--theme-code-foreground, var(--jp-content-font-color1, white)));\n",
              "    --sklearn-color-icon: #878787;\n",
              "  }\n",
              "}\n",
              "\n",
              "#sk-container-id-3 {\n",
              "  color: var(--sklearn-color-text);\n",
              "}\n",
              "\n",
              "#sk-container-id-3 pre {\n",
              "  padding: 0;\n",
              "}\n",
              "\n",
              "#sk-container-id-3 input.sk-hidden--visually {\n",
              "  border: 0;\n",
              "  clip: rect(1px 1px 1px 1px);\n",
              "  clip: rect(1px, 1px, 1px, 1px);\n",
              "  height: 1px;\n",
              "  margin: -1px;\n",
              "  overflow: hidden;\n",
              "  padding: 0;\n",
              "  position: absolute;\n",
              "  width: 1px;\n",
              "}\n",
              "\n",
              "#sk-container-id-3 div.sk-dashed-wrapped {\n",
              "  border: 1px dashed var(--sklearn-color-line);\n",
              "  margin: 0 0.4em 0.5em 0.4em;\n",
              "  box-sizing: border-box;\n",
              "  padding-bottom: 0.4em;\n",
              "  background-color: var(--sklearn-color-background);\n",
              "}\n",
              "\n",
              "#sk-container-id-3 div.sk-container {\n",
              "  /* jupyter's `normalize.less` sets `[hidden] { display: none; }`\n",
              "     but bootstrap.min.css set `[hidden] { display: none !important; }`\n",
              "     so we also need the `!important` here to be able to override the\n",
              "     default hidden behavior on the sphinx rendered scikit-learn.org.\n",
              "     See: https://github.com/scikit-learn/scikit-learn/issues/21755 */\n",
              "  display: inline-block !important;\n",
              "  position: relative;\n",
              "}\n",
              "\n",
              "#sk-container-id-3 div.sk-text-repr-fallback {\n",
              "  display: none;\n",
              "}\n",
              "\n",
              "div.sk-parallel-item,\n",
              "div.sk-serial,\n",
              "div.sk-item {\n",
              "  /* draw centered vertical line to link estimators */\n",
              "  background-image: linear-gradient(var(--sklearn-color-text-on-default-background), var(--sklearn-color-text-on-default-background));\n",
              "  background-size: 2px 100%;\n",
              "  background-repeat: no-repeat;\n",
              "  background-position: center center;\n",
              "}\n",
              "\n",
              "/* Parallel-specific style estimator block */\n",
              "\n",
              "#sk-container-id-3 div.sk-parallel-item::after {\n",
              "  content: \"\";\n",
              "  width: 100%;\n",
              "  border-bottom: 2px solid var(--sklearn-color-text-on-default-background);\n",
              "  flex-grow: 1;\n",
              "}\n",
              "\n",
              "#sk-container-id-3 div.sk-parallel {\n",
              "  display: flex;\n",
              "  align-items: stretch;\n",
              "  justify-content: center;\n",
              "  background-color: var(--sklearn-color-background);\n",
              "  position: relative;\n",
              "}\n",
              "\n",
              "#sk-container-id-3 div.sk-parallel-item {\n",
              "  display: flex;\n",
              "  flex-direction: column;\n",
              "}\n",
              "\n",
              "#sk-container-id-3 div.sk-parallel-item:first-child::after {\n",
              "  align-self: flex-end;\n",
              "  width: 50%;\n",
              "}\n",
              "\n",
              "#sk-container-id-3 div.sk-parallel-item:last-child::after {\n",
              "  align-self: flex-start;\n",
              "  width: 50%;\n",
              "}\n",
              "\n",
              "#sk-container-id-3 div.sk-parallel-item:only-child::after {\n",
              "  width: 0;\n",
              "}\n",
              "\n",
              "/* Serial-specific style estimator block */\n",
              "\n",
              "#sk-container-id-3 div.sk-serial {\n",
              "  display: flex;\n",
              "  flex-direction: column;\n",
              "  align-items: center;\n",
              "  background-color: var(--sklearn-color-background);\n",
              "  padding-right: 1em;\n",
              "  padding-left: 1em;\n",
              "}\n",
              "\n",
              "\n",
              "/* Toggleable style: style used for estimator/Pipeline/ColumnTransformer box that is\n",
              "clickable and can be expanded/collapsed.\n",
              "- Pipeline and ColumnTransformer use this feature and define the default style\n",
              "- Estimators will overwrite some part of the style using the `sk-estimator` class\n",
              "*/\n",
              "\n",
              "/* Pipeline and ColumnTransformer style (default) */\n",
              "\n",
              "#sk-container-id-3 div.sk-toggleable {\n",
              "  /* Default theme specific background. It is overwritten whether we have a\n",
              "  specific estimator or a Pipeline/ColumnTransformer */\n",
              "  background-color: var(--sklearn-color-background);\n",
              "}\n",
              "\n",
              "/* Toggleable label */\n",
              "#sk-container-id-3 label.sk-toggleable__label {\n",
              "  cursor: pointer;\n",
              "  display: flex;\n",
              "  width: 100%;\n",
              "  margin-bottom: 0;\n",
              "  padding: 0.5em;\n",
              "  box-sizing: border-box;\n",
              "  text-align: center;\n",
              "  align-items: start;\n",
              "  justify-content: space-between;\n",
              "  gap: 0.5em;\n",
              "}\n",
              "\n",
              "#sk-container-id-3 label.sk-toggleable__label .caption {\n",
              "  font-size: 0.6rem;\n",
              "  font-weight: lighter;\n",
              "  color: var(--sklearn-color-text-muted);\n",
              "}\n",
              "\n",
              "#sk-container-id-3 label.sk-toggleable__label-arrow:before {\n",
              "  /* Arrow on the left of the label */\n",
              "  content: \"▸\";\n",
              "  float: left;\n",
              "  margin-right: 0.25em;\n",
              "  color: var(--sklearn-color-icon);\n",
              "}\n",
              "\n",
              "#sk-container-id-3 label.sk-toggleable__label-arrow:hover:before {\n",
              "  color: var(--sklearn-color-text);\n",
              "}\n",
              "\n",
              "/* Toggleable content - dropdown */\n",
              "\n",
              "#sk-container-id-3 div.sk-toggleable__content {\n",
              "  max-height: 0;\n",
              "  max-width: 0;\n",
              "  overflow: hidden;\n",
              "  text-align: left;\n",
              "  /* unfitted */\n",
              "  background-color: var(--sklearn-color-unfitted-level-0);\n",
              "}\n",
              "\n",
              "#sk-container-id-3 div.sk-toggleable__content.fitted {\n",
              "  /* fitted */\n",
              "  background-color: var(--sklearn-color-fitted-level-0);\n",
              "}\n",
              "\n",
              "#sk-container-id-3 div.sk-toggleable__content pre {\n",
              "  margin: 0.2em;\n",
              "  border-radius: 0.25em;\n",
              "  color: var(--sklearn-color-text);\n",
              "  /* unfitted */\n",
              "  background-color: var(--sklearn-color-unfitted-level-0);\n",
              "}\n",
              "\n",
              "#sk-container-id-3 div.sk-toggleable__content.fitted pre {\n",
              "  /* unfitted */\n",
              "  background-color: var(--sklearn-color-fitted-level-0);\n",
              "}\n",
              "\n",
              "#sk-container-id-3 input.sk-toggleable__control:checked~div.sk-toggleable__content {\n",
              "  /* Expand drop-down */\n",
              "  max-height: 200px;\n",
              "  max-width: 100%;\n",
              "  overflow: auto;\n",
              "}\n",
              "\n",
              "#sk-container-id-3 input.sk-toggleable__control:checked~label.sk-toggleable__label-arrow:before {\n",
              "  content: \"▾\";\n",
              "}\n",
              "\n",
              "/* Pipeline/ColumnTransformer-specific style */\n",
              "\n",
              "#sk-container-id-3 div.sk-label input.sk-toggleable__control:checked~label.sk-toggleable__label {\n",
              "  color: var(--sklearn-color-text);\n",
              "  background-color: var(--sklearn-color-unfitted-level-2);\n",
              "}\n",
              "\n",
              "#sk-container-id-3 div.sk-label.fitted input.sk-toggleable__control:checked~label.sk-toggleable__label {\n",
              "  background-color: var(--sklearn-color-fitted-level-2);\n",
              "}\n",
              "\n",
              "/* Estimator-specific style */\n",
              "\n",
              "/* Colorize estimator box */\n",
              "#sk-container-id-3 div.sk-estimator input.sk-toggleable__control:checked~label.sk-toggleable__label {\n",
              "  /* unfitted */\n",
              "  background-color: var(--sklearn-color-unfitted-level-2);\n",
              "}\n",
              "\n",
              "#sk-container-id-3 div.sk-estimator.fitted input.sk-toggleable__control:checked~label.sk-toggleable__label {\n",
              "  /* fitted */\n",
              "  background-color: var(--sklearn-color-fitted-level-2);\n",
              "}\n",
              "\n",
              "#sk-container-id-3 div.sk-label label.sk-toggleable__label,\n",
              "#sk-container-id-3 div.sk-label label {\n",
              "  /* The background is the default theme color */\n",
              "  color: var(--sklearn-color-text-on-default-background);\n",
              "}\n",
              "\n",
              "/* On hover, darken the color of the background */\n",
              "#sk-container-id-3 div.sk-label:hover label.sk-toggleable__label {\n",
              "  color: var(--sklearn-color-text);\n",
              "  background-color: var(--sklearn-color-unfitted-level-2);\n",
              "}\n",
              "\n",
              "/* Label box, darken color on hover, fitted */\n",
              "#sk-container-id-3 div.sk-label.fitted:hover label.sk-toggleable__label.fitted {\n",
              "  color: var(--sklearn-color-text);\n",
              "  background-color: var(--sklearn-color-fitted-level-2);\n",
              "}\n",
              "\n",
              "/* Estimator label */\n",
              "\n",
              "#sk-container-id-3 div.sk-label label {\n",
              "  font-family: monospace;\n",
              "  font-weight: bold;\n",
              "  display: inline-block;\n",
              "  line-height: 1.2em;\n",
              "}\n",
              "\n",
              "#sk-container-id-3 div.sk-label-container {\n",
              "  text-align: center;\n",
              "}\n",
              "\n",
              "/* Estimator-specific */\n",
              "#sk-container-id-3 div.sk-estimator {\n",
              "  font-family: monospace;\n",
              "  border: 1px dotted var(--sklearn-color-border-box);\n",
              "  border-radius: 0.25em;\n",
              "  box-sizing: border-box;\n",
              "  margin-bottom: 0.5em;\n",
              "  /* unfitted */\n",
              "  background-color: var(--sklearn-color-unfitted-level-0);\n",
              "}\n",
              "\n",
              "#sk-container-id-3 div.sk-estimator.fitted {\n",
              "  /* fitted */\n",
              "  background-color: var(--sklearn-color-fitted-level-0);\n",
              "}\n",
              "\n",
              "/* on hover */\n",
              "#sk-container-id-3 div.sk-estimator:hover {\n",
              "  /* unfitted */\n",
              "  background-color: var(--sklearn-color-unfitted-level-2);\n",
              "}\n",
              "\n",
              "#sk-container-id-3 div.sk-estimator.fitted:hover {\n",
              "  /* fitted */\n",
              "  background-color: var(--sklearn-color-fitted-level-2);\n",
              "}\n",
              "\n",
              "/* Specification for estimator info (e.g. \"i\" and \"?\") */\n",
              "\n",
              "/* Common style for \"i\" and \"?\" */\n",
              "\n",
              ".sk-estimator-doc-link,\n",
              "a:link.sk-estimator-doc-link,\n",
              "a:visited.sk-estimator-doc-link {\n",
              "  float: right;\n",
              "  font-size: smaller;\n",
              "  line-height: 1em;\n",
              "  font-family: monospace;\n",
              "  background-color: var(--sklearn-color-background);\n",
              "  border-radius: 1em;\n",
              "  height: 1em;\n",
              "  width: 1em;\n",
              "  text-decoration: none !important;\n",
              "  margin-left: 0.5em;\n",
              "  text-align: center;\n",
              "  /* unfitted */\n",
              "  border: var(--sklearn-color-unfitted-level-1) 1pt solid;\n",
              "  color: var(--sklearn-color-unfitted-level-1);\n",
              "}\n",
              "\n",
              ".sk-estimator-doc-link.fitted,\n",
              "a:link.sk-estimator-doc-link.fitted,\n",
              "a:visited.sk-estimator-doc-link.fitted {\n",
              "  /* fitted */\n",
              "  border: var(--sklearn-color-fitted-level-1) 1pt solid;\n",
              "  color: var(--sklearn-color-fitted-level-1);\n",
              "}\n",
              "\n",
              "/* On hover */\n",
              "div.sk-estimator:hover .sk-estimator-doc-link:hover,\n",
              ".sk-estimator-doc-link:hover,\n",
              "div.sk-label-container:hover .sk-estimator-doc-link:hover,\n",
              ".sk-estimator-doc-link:hover {\n",
              "  /* unfitted */\n",
              "  background-color: var(--sklearn-color-unfitted-level-3);\n",
              "  color: var(--sklearn-color-background);\n",
              "  text-decoration: none;\n",
              "}\n",
              "\n",
              "div.sk-estimator.fitted:hover .sk-estimator-doc-link.fitted:hover,\n",
              ".sk-estimator-doc-link.fitted:hover,\n",
              "div.sk-label-container:hover .sk-estimator-doc-link.fitted:hover,\n",
              ".sk-estimator-doc-link.fitted:hover {\n",
              "  /* fitted */\n",
              "  background-color: var(--sklearn-color-fitted-level-3);\n",
              "  color: var(--sklearn-color-background);\n",
              "  text-decoration: none;\n",
              "}\n",
              "\n",
              "/* Span, style for the box shown on hovering the info icon */\n",
              ".sk-estimator-doc-link span {\n",
              "  display: none;\n",
              "  z-index: 9999;\n",
              "  position: relative;\n",
              "  font-weight: normal;\n",
              "  right: .2ex;\n",
              "  padding: .5ex;\n",
              "  margin: .5ex;\n",
              "  width: min-content;\n",
              "  min-width: 20ex;\n",
              "  max-width: 50ex;\n",
              "  color: var(--sklearn-color-text);\n",
              "  box-shadow: 2pt 2pt 4pt #999;\n",
              "  /* unfitted */\n",
              "  background: var(--sklearn-color-unfitted-level-0);\n",
              "  border: .5pt solid var(--sklearn-color-unfitted-level-3);\n",
              "}\n",
              "\n",
              ".sk-estimator-doc-link.fitted span {\n",
              "  /* fitted */\n",
              "  background: var(--sklearn-color-fitted-level-0);\n",
              "  border: var(--sklearn-color-fitted-level-3);\n",
              "}\n",
              "\n",
              ".sk-estimator-doc-link:hover span {\n",
              "  display: block;\n",
              "}\n",
              "\n",
              "/* \"?\"-specific style due to the `<a>` HTML tag */\n",
              "\n",
              "#sk-container-id-3 a.estimator_doc_link {\n",
              "  float: right;\n",
              "  font-size: 1rem;\n",
              "  line-height: 1em;\n",
              "  font-family: monospace;\n",
              "  background-color: var(--sklearn-color-background);\n",
              "  border-radius: 1rem;\n",
              "  height: 1rem;\n",
              "  width: 1rem;\n",
              "  text-decoration: none;\n",
              "  /* unfitted */\n",
              "  color: var(--sklearn-color-unfitted-level-1);\n",
              "  border: var(--sklearn-color-unfitted-level-1) 1pt solid;\n",
              "}\n",
              "\n",
              "#sk-container-id-3 a.estimator_doc_link.fitted {\n",
              "  /* fitted */\n",
              "  border: var(--sklearn-color-fitted-level-1) 1pt solid;\n",
              "  color: var(--sklearn-color-fitted-level-1);\n",
              "}\n",
              "\n",
              "/* On hover */\n",
              "#sk-container-id-3 a.estimator_doc_link:hover {\n",
              "  /* unfitted */\n",
              "  background-color: var(--sklearn-color-unfitted-level-3);\n",
              "  color: var(--sklearn-color-background);\n",
              "  text-decoration: none;\n",
              "}\n",
              "\n",
              "#sk-container-id-3 a.estimator_doc_link.fitted:hover {\n",
              "  /* fitted */\n",
              "  background-color: var(--sklearn-color-fitted-level-3);\n",
              "}\n",
              "</style><div id=\"sk-container-id-3\" class=\"sk-top-container\"><div class=\"sk-text-repr-fallback\"><pre>Pipeline(steps=[(&#x27;model&#x27;, ExtraTreesClassifier())])</pre><b>In a Jupyter environment, please rerun this cell to show the HTML representation or trust the notebook. <br />On GitHub, the HTML representation is unable to render, please try loading this page with nbviewer.org.</b></div><div class=\"sk-container\" hidden><div class=\"sk-item sk-dashed-wrapped\"><div class=\"sk-label-container\"><div class=\"sk-label fitted sk-toggleable\"><input class=\"sk-toggleable__control sk-hidden--visually\" id=\"sk-estimator-id-4\" type=\"checkbox\" ><label for=\"sk-estimator-id-4\" class=\"sk-toggleable__label fitted sk-toggleable__label-arrow\"><div><div>Pipeline</div></div><div><a class=\"sk-estimator-doc-link fitted\" rel=\"noreferrer\" target=\"_blank\" href=\"https://scikit-learn.org/1.6/modules/generated/sklearn.pipeline.Pipeline.html\">?<span>Documentation for Pipeline</span></a><span class=\"sk-estimator-doc-link fitted\">i<span>Fitted</span></span></div></label><div class=\"sk-toggleable__content fitted\"><pre>Pipeline(steps=[(&#x27;model&#x27;, ExtraTreesClassifier())])</pre></div> </div></div><div class=\"sk-serial\"><div class=\"sk-item\"><div class=\"sk-estimator fitted sk-toggleable\"><input class=\"sk-toggleable__control sk-hidden--visually\" id=\"sk-estimator-id-5\" type=\"checkbox\" ><label for=\"sk-estimator-id-5\" class=\"sk-toggleable__label fitted sk-toggleable__label-arrow\"><div><div>ExtraTreesClassifier</div></div><div><a class=\"sk-estimator-doc-link fitted\" rel=\"noreferrer\" target=\"_blank\" href=\"https://scikit-learn.org/1.6/modules/generated/sklearn.ensemble.ExtraTreesClassifier.html\">?<span>Documentation for ExtraTreesClassifier</span></a></div></label><div class=\"sk-toggleable__content fitted\"><pre>ExtraTreesClassifier()</pre></div> </div></div></div></div></div></div>"
            ],
            "text/plain": [
              "Pipeline(steps=[('model', ExtraTreesClassifier())])"
            ]
          },
          "execution_count": 63,
          "metadata": {},
          "output_type": "execute_result"
        }
      ],
      "source": [
        "unknown_types = get_untrusted_types(file=\"Model/credit_loan_detection.skops\")\n",
        "sio.load(\"Model/credit_loan_detection.skops\", trusted=unknown_types)"
      ]
    },
    {
      "cell_type": "markdown",
      "metadata": {},
      "source": [
        "## 8. Monitoring dengan Mlflow"
      ]
    },
    {
      "cell_type": "code",
      "execution_count": 59,
      "metadata": {},
      "outputs": [
        {
          "name": "stderr",
          "output_type": "stream",
          "text": [
            "2025/07/17 08:09:03 INFO mlflow.tracking.fluent: Experiment with name 'credit_loan_detection' does not exist. Creating a new experiment.\n"
          ]
        },
        {
          "data": {
            "text/plain": [
              "<Experiment: artifact_location='mlflow-artifacts:/829300622513880456', creation_time=1752714543075, experiment_id='829300622513880456', last_update_time=1752714543075, lifecycle_stage='active', name='credit_loan_detection', tags={}>"
            ]
          },
          "execution_count": 59,
          "metadata": {},
          "output_type": "execute_result"
        }
      ],
      "source": [
        "# Set tracking URI\n",
        "mlflow.set_tracking_uri(\"http://127.0.0.1:5000\")\n",
        "\n",
        "# Set experiment\n",
        "experiment_name = \"credit_loan_detection\"\n",
        "mlflow.set_experiment(experiment_name)"
      ]
    },
    {
      "cell_type": "code",
      "execution_count": 60,
      "metadata": {},
      "outputs": [
        {
          "name": "stderr",
          "output_type": "stream",
          "text": [
            "2025/07/17 08:09:07 WARNING mlflow.models.model: `artifact_path` is deprecated. Please use `name` instead.\n",
            "\u001b[31m2025/07/17 08:09:27 WARNING mlflow.models.model: Model logged without a signature and input example. Please set `input_example` parameter when logging the model to auto infer the model signature.\u001b[0m\n",
            "Successfully registered model 'credit_loan_detection'.\n",
            "2025/07/17 08:09:29 INFO mlflow.store.model_registry.abstract_store: Waiting up to 300 seconds for model version to finish creation. Model name: credit_loan_detection, version 1\n",
            "Created version '1' of model 'credit_loan_detection'.\n"
          ]
        },
        {
          "name": "stdout",
          "output_type": "stream",
          "text": [
            "Run ID: 591584bc68b941f29587f1138f37d0c4\n",
            "Accuracy: 0.8287\n",
            "F1-score: 0.8281\n",
            "🏃 View run polite-midge-996 at: http://127.0.0.1:5000/#/experiments/829300622513880456/runs/591584bc68b941f29587f1138f37d0c4\n",
            "🧪 View experiment at: http://127.0.0.1:5000/#/experiments/829300622513880456\n"
          ]
        }
      ],
      "source": [
        "with mlflow.start_run():\n",
        "    # load model\n",
        "    unknown_types = get_untrusted_types(file=\"Model/credit_loan_detection.skops\")\n",
        "    model = sio.load(\"Model/credit_loan_detection.skops\", trusted=unknown_types)\n",
        "\n",
        "    # model melakukan prediksi\n",
        "    y_pred = model.predict(x_test)\n",
        "\n",
        "    # log metrics\n",
        "    akurasi = accuracy_score(y_test, y_pred)\n",
        "    f1 = f1_score(y_test, y_pred, average='macro')\n",
        "\n",
        "    mlflow.log_metric(\"accuracy\", akurasi)\n",
        "    mlflow.log_metric(\"f1-score\", f1)\n",
        "    mlflow.log_metric(\"test_samples_length\", len(y_test))\n",
        "\n",
        "    # log model\n",
        "    mlflow.sklearn.log_model(\n",
        "        model,\n",
        "        \"ExtraTreesClassifierV1\",\n",
        "        registered_model_name=\"credit_loan_detection\"\n",
        "    )\n",
        "\n",
        "    # log artifacts\n",
        "    with open(\"Results/classification_report.txt\", \"w\") as f:\n",
        "        f.write(classification_report(y_test, y_pred))\n",
        "    mlflow.log_artifact(\"Results/classification_report.txt\")\n",
        "    \n",
        "    print(f\"Run ID: {mlflow.active_run().info.run_id}\")\n",
        "    print(f\"Accuracy: {akurasi:.4f}\")\n",
        "    print(f\"F1-score: {f1:.4f}\")"
      ]
    },
    {
      "cell_type": "markdown",
      "metadata": {},
      "source": []
    },
    {
      "cell_type": "code",
      "execution_count": 62,
      "metadata": {},
      "outputs": [
        {
          "data": {
            "text/html": [
              "<div>\n",
              "<style scoped>\n",
              "    .dataframe tbody tr th:only-of-type {\n",
              "        vertical-align: middle;\n",
              "    }\n",
              "\n",
              "    .dataframe tbody tr th {\n",
              "        vertical-align: top;\n",
              "    }\n",
              "\n",
              "    .dataframe thead th {\n",
              "        text-align: right;\n",
              "    }\n",
              "</style>\n",
              "<table border=\"1\" class=\"dataframe\">\n",
              "  <thead>\n",
              "    <tr style=\"text-align: right;\">\n",
              "      <th></th>\n",
              "      <th>person_age</th>\n",
              "      <th>person_income</th>\n",
              "      <th>person_home_ownership</th>\n",
              "      <th>person_emp_length</th>\n",
              "      <th>loan_intent</th>\n",
              "      <th>loan_amnt</th>\n",
              "      <th>loan_int_rate</th>\n",
              "      <th>loan_percent_income</th>\n",
              "      <th>cb_person_default_on_file</th>\n",
              "      <th>cb_person_cred_hist_length</th>\n",
              "    </tr>\n",
              "  </thead>\n",
              "  <tbody>\n",
              "    <tr>\n",
              "      <th>12529</th>\n",
              "      <td>25</td>\n",
              "      <td>61000</td>\n",
              "      <td>3</td>\n",
              "      <td>1.0</td>\n",
              "      <td>4</td>\n",
              "      <td>14400</td>\n",
              "      <td>12.53</td>\n",
              "      <td>0.24</td>\n",
              "      <td>0</td>\n",
              "      <td>2</td>\n",
              "    </tr>\n",
              "    <tr>\n",
              "      <th>10741</th>\n",
              "      <td>26</td>\n",
              "      <td>32000</td>\n",
              "      <td>3</td>\n",
              "      <td>6.0</td>\n",
              "      <td>3</td>\n",
              "      <td>12000</td>\n",
              "      <td>8.94</td>\n",
              "      <td>0.38</td>\n",
              "      <td>0</td>\n",
              "      <td>3</td>\n",
              "    </tr>\n",
              "    <tr>\n",
              "      <th>22973</th>\n",
              "      <td>35</td>\n",
              "      <td>99000</td>\n",
              "      <td>0</td>\n",
              "      <td>12.0</td>\n",
              "      <td>3</td>\n",
              "      <td>3000</td>\n",
              "      <td>10.99</td>\n",
              "      <td>0.03</td>\n",
              "      <td>0</td>\n",
              "      <td>9</td>\n",
              "    </tr>\n",
              "    <tr>\n",
              "      <th>10901</th>\n",
              "      <td>24</td>\n",
              "      <td>74600</td>\n",
              "      <td>0</td>\n",
              "      <td>3.0</td>\n",
              "      <td>0</td>\n",
              "      <td>20000</td>\n",
              "      <td>17.51</td>\n",
              "      <td>0.27</td>\n",
              "      <td>0</td>\n",
              "      <td>3</td>\n",
              "    </tr>\n",
              "    <tr>\n",
              "      <th>16311</th>\n",
              "      <td>34</td>\n",
              "      <td>39672</td>\n",
              "      <td>3</td>\n",
              "      <td>18.0</td>\n",
              "      <td>1</td>\n",
              "      <td>16750</td>\n",
              "      <td>13.98</td>\n",
              "      <td>0.42</td>\n",
              "      <td>0</td>\n",
              "      <td>9</td>\n",
              "    </tr>\n",
              "  </tbody>\n",
              "</table>\n",
              "</div>"
            ],
            "text/plain": [
              "       person_age  ...  cb_person_cred_hist_length\n",
              "12529          25  ...                           2\n",
              "10741          26  ...                           3\n",
              "22973          35  ...                           9\n",
              "10901          24  ...                           3\n",
              "16311          34  ...                           9\n",
              "\n",
              "[5 rows x 10 columns]"
            ]
          },
          "execution_count": 62,
          "metadata": {},
          "output_type": "execute_result"
        }
      ],
      "source": [
        "x_test.head()"
      ]
    },
    {
      "cell_type": "code",
      "execution_count": 66,
      "metadata": {},
      "outputs": [],
      "source": [
        "# x_test.loan_amnt.head() * 1_000\n",
        "x_test.loan_amnt = x_test.loan_amnt * 1_000\n",
        "x_test.person_income = x_test.person_income * 1000"
      ]
    },
    {
      "cell_type": "code",
      "execution_count": 67,
      "metadata": {},
      "outputs": [
        {
          "data": {
            "text/html": [
              "<div>\n",
              "<style scoped>\n",
              "    .dataframe tbody tr th:only-of-type {\n",
              "        vertical-align: middle;\n",
              "    }\n",
              "\n",
              "    .dataframe tbody tr th {\n",
              "        vertical-align: top;\n",
              "    }\n",
              "\n",
              "    .dataframe thead th {\n",
              "        text-align: right;\n",
              "    }\n",
              "</style>\n",
              "<table border=\"1\" class=\"dataframe\">\n",
              "  <thead>\n",
              "    <tr style=\"text-align: right;\">\n",
              "      <th></th>\n",
              "      <th>person_age</th>\n",
              "      <th>person_income</th>\n",
              "      <th>person_home_ownership</th>\n",
              "      <th>person_emp_length</th>\n",
              "      <th>loan_intent</th>\n",
              "      <th>loan_amnt</th>\n",
              "      <th>loan_int_rate</th>\n",
              "      <th>loan_percent_income</th>\n",
              "      <th>cb_person_default_on_file</th>\n",
              "      <th>cb_person_cred_hist_length</th>\n",
              "    </tr>\n",
              "  </thead>\n",
              "  <tbody>\n",
              "    <tr>\n",
              "      <th>12529</th>\n",
              "      <td>25</td>\n",
              "      <td>61000000</td>\n",
              "      <td>3</td>\n",
              "      <td>1.0</td>\n",
              "      <td>4</td>\n",
              "      <td>14400000</td>\n",
              "      <td>12.53</td>\n",
              "      <td>0.24</td>\n",
              "      <td>0</td>\n",
              "      <td>2</td>\n",
              "    </tr>\n",
              "    <tr>\n",
              "      <th>10741</th>\n",
              "      <td>26</td>\n",
              "      <td>32000000</td>\n",
              "      <td>3</td>\n",
              "      <td>6.0</td>\n",
              "      <td>3</td>\n",
              "      <td>12000000</td>\n",
              "      <td>8.94</td>\n",
              "      <td>0.38</td>\n",
              "      <td>0</td>\n",
              "      <td>3</td>\n",
              "    </tr>\n",
              "    <tr>\n",
              "      <th>22973</th>\n",
              "      <td>35</td>\n",
              "      <td>99000000</td>\n",
              "      <td>0</td>\n",
              "      <td>12.0</td>\n",
              "      <td>3</td>\n",
              "      <td>3000000</td>\n",
              "      <td>10.99</td>\n",
              "      <td>0.03</td>\n",
              "      <td>0</td>\n",
              "      <td>9</td>\n",
              "    </tr>\n",
              "    <tr>\n",
              "      <th>10901</th>\n",
              "      <td>24</td>\n",
              "      <td>74600000</td>\n",
              "      <td>0</td>\n",
              "      <td>3.0</td>\n",
              "      <td>0</td>\n",
              "      <td>20000000</td>\n",
              "      <td>17.51</td>\n",
              "      <td>0.27</td>\n",
              "      <td>0</td>\n",
              "      <td>3</td>\n",
              "    </tr>\n",
              "    <tr>\n",
              "      <th>16311</th>\n",
              "      <td>34</td>\n",
              "      <td>39672000</td>\n",
              "      <td>3</td>\n",
              "      <td>18.0</td>\n",
              "      <td>1</td>\n",
              "      <td>16750000</td>\n",
              "      <td>13.98</td>\n",
              "      <td>0.42</td>\n",
              "      <td>0</td>\n",
              "      <td>9</td>\n",
              "    </tr>\n",
              "  </tbody>\n",
              "</table>\n",
              "</div>"
            ],
            "text/plain": [
              "       person_age  ...  cb_person_cred_hist_length\n",
              "12529          25  ...                           2\n",
              "10741          26  ...                           3\n",
              "22973          35  ...                           9\n",
              "10901          24  ...                           3\n",
              "16311          34  ...                           9\n",
              "\n",
              "[5 rows x 10 columns]"
            ]
          },
          "execution_count": 67,
          "metadata": {},
          "output_type": "execute_result"
        }
      ],
      "source": [
        "x_test.head()"
      ]
    },
    {
      "cell_type": "code",
      "execution_count": 68,
      "metadata": {},
      "outputs": [
        {
          "name": "stderr",
          "output_type": "stream",
          "text": [
            "2025/07/17 08:13:28 WARNING mlflow.models.model: `artifact_path` is deprecated. Please use `name` instead.\n",
            "\u001b[31m2025/07/17 08:13:39 WARNING mlflow.models.model: Model logged without a signature and input example. Please set `input_example` parameter when logging the model to auto infer the model signature.\u001b[0m\n",
            "Registered model 'credit_loan_detection' already exists. Creating a new version of this model...\n",
            "2025/07/17 08:13:41 INFO mlflow.store.model_registry.abstract_store: Waiting up to 300 seconds for model version to finish creation. Model name: credit_loan_detection, version 2\n",
            "Created version '2' of model 'credit_loan_detection'.\n"
          ]
        },
        {
          "name": "stdout",
          "output_type": "stream",
          "text": [
            "Run ID: 86c6319d9868492aa29b753a4ea7b713\n",
            "Accuracy: 0.7903\n",
            "F1-score: 0.7870\n",
            "🏃 View run adaptable-asp-508 at: http://127.0.0.1:5000/#/experiments/829300622513880456/runs/86c6319d9868492aa29b753a4ea7b713\n",
            "🧪 View experiment at: http://127.0.0.1:5000/#/experiments/829300622513880456\n"
          ]
        }
      ],
      "source": [
        "with mlflow.start_run():\n",
        "    # load model\n",
        "    unknown_types = get_untrusted_types(file=\"Model/credit_loan_detection.skops\")\n",
        "    model = sio.load(\"Model/credit_loan_detection.skops\", trusted=unknown_types)\n",
        "\n",
        "    # model melakukan prediksi\n",
        "    y_pred = model.predict(x_test)\n",
        "\n",
        "    # log metrics\n",
        "    akurasi = accuracy_score(y_test, y_pred)\n",
        "    f1 = f1_score(y_test, y_pred, average='macro')\n",
        "\n",
        "    mlflow.log_metric(\"accuracy\", akurasi)\n",
        "    mlflow.log_metric(\"f1-score\", f1)\n",
        "    mlflow.log_metric(\"test_samples_length\", len(y_test))\n",
        "\n",
        "    # log model\n",
        "    mlflow.sklearn.log_model(\n",
        "        model,\n",
        "        \"ExtraTreesClassifierV1\",\n",
        "        registered_model_name=\"credit_loan_detection\"\n",
        "    )\n",
        "\n",
        "    # log artifacts\n",
        "    with open(\"Results/classification_report.txt\", \"a\") as f:\n",
        "        f.write(classification_report(y_test, y_pred))\n",
        "    mlflow.log_artifact(\"Results/classification_report.txt\")\n",
        "    \n",
        "    print(f\"Run ID: {mlflow.active_run().info.run_id}\")\n",
        "    print(f\"Accuracy: {akurasi:.4f}\")\n",
        "    print(f\"F1-score: {f1:.4f}\")"
      ]
    }
  ],
  "metadata": {
    "colab": {
      "provenance": []
    },
    "kernelspec": {
      "display_name": ".mvenv",
      "language": "python",
      "name": "python3"
    },
    "language_info": {
      "codemirror_mode": {
        "name": "ipython",
        "version": 3
      },
      "file_extension": ".py",
      "mimetype": "text/x-python",
      "name": "python",
      "nbconvert_exporter": "python",
      "pygments_lexer": "ipython3",
      "version": "3.12.3"
    }
  },
  "nbformat": 4,
  "nbformat_minor": 0
}
